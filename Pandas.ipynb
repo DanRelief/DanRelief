{
  "nbformat": 4,
  "nbformat_minor": 0,
  "metadata": {
    "colab": {
      "provenance": [],
      "include_colab_link": true
    },
    "kernelspec": {
      "name": "python3",
      "display_name": "Python 3"
    },
    "language_info": {
      "name": "python"
    }
  },
  "cells": [
    {
      "cell_type": "markdown",
      "metadata": {
        "id": "view-in-github",
        "colab_type": "text"
      },
      "source": [
        "<a href=\"https://colab.research.google.com/github/DanRelief/DanRelief/blob/main/Pandas.ipynb\" target=\"_parent\"><img src=\"https://colab.research.google.com/assets/colab-badge.svg\" alt=\"Open In Colab\"/></a>"
      ]
    },
    {
      "cell_type": "markdown",
      "source": [
        "# Instalação do Pandas"
      ],
      "metadata": {
        "id": "YNJ8OhnD8sCS"
      }
    },
    {
      "cell_type": "code",
      "source": [
        "!pip install pandas==1.5.3\n",
        "!pip install numpy==1.23.5\n"
      ],
      "metadata": {
        "colab": {
          "base_uri": "https://localhost:8080/"
        },
        "id": "5fPrdHLc98Dp",
        "outputId": "bc0e6628-fbc2-43f7-b128-c2862cf575e2"
      },
      "execution_count": 2,
      "outputs": [
        {
          "output_type": "stream",
          "name": "stdout",
          "text": [
            "Requirement already satisfied: pandas==1.5.3 in /usr/local/lib/python3.11/dist-packages (1.5.3)\n",
            "Requirement already satisfied: python-dateutil>=2.8.1 in /usr/local/lib/python3.11/dist-packages (from pandas==1.5.3) (2.9.0.post0)\n",
            "Requirement already satisfied: pytz>=2020.1 in /usr/local/lib/python3.11/dist-packages (from pandas==1.5.3) (2025.2)\n",
            "Requirement already satisfied: numpy>=1.21.0 in /usr/local/lib/python3.11/dist-packages (from pandas==1.5.3) (1.23.5)\n",
            "Requirement already satisfied: six>=1.5 in /usr/local/lib/python3.11/dist-packages (from python-dateutil>=2.8.1->pandas==1.5.3) (1.17.0)\n",
            "Requirement already satisfied: numpy==1.23.5 in /usr/local/lib/python3.11/dist-packages (1.23.5)\n"
          ]
        }
      ]
    },
    {
      "cell_type": "code",
      "source": [
        "import pandas as pd\n",
        "import numpy as np\n",
        "print(pd.__version__)\n",
        "print(np.__version__)"
      ],
      "metadata": {
        "colab": {
          "base_uri": "https://localhost:8080/"
        },
        "id": "ZX2LhwVW-H8K",
        "outputId": "f173c0d0-b06e-4abe-d60e-3d48694a86d5"
      },
      "execution_count": 3,
      "outputs": [
        {
          "output_type": "stream",
          "name": "stdout",
          "text": [
            "1.5.3\n",
            "1.23.5\n"
          ]
        }
      ]
    },
    {
      "cell_type": "markdown",
      "source": [
        "# Séries\n",
        "\n",
        "- docs: https://drive.google.com/drive/folders/1gK4-GabfHK-EgjEeytTcSAna7TfotW0y"
      ],
      "metadata": {
        "id": "kxm-Lyyx9CxD"
      }
    },
    {
      "cell_type": "code",
      "source": [
        "serie_dados = pd.Series([10, 20, 30, 40, 50]) #cria uma série de dados\n",
        "print(serie_dados) #o pandas mostra o índice e o dado armazenado naquela posição"
      ],
      "metadata": {
        "id": "qcvDOHYEBdCp",
        "outputId": "374d4fb8-71ed-421c-af8c-d83c78b0d01f",
        "colab": {
          "base_uri": "https://localhost:8080/"
        }
      },
      "execution_count": 4,
      "outputs": [
        {
          "output_type": "stream",
          "name": "stdout",
          "text": [
            "0    10\n",
            "1    20\n",
            "2    30\n",
            "3    40\n",
            "4    50\n",
            "dtype: int64\n"
          ]
        }
      ]
    },
    {
      "cell_type": "code",
      "source": [
        "#criando indices personalizados\n",
        "array_inteiros= [10,20,30,70,80]\n",
        "indices = ['A','B','C','D','E']\n",
        "serie_dados= pd.Series(array_inteiros, index=indices) #serie_dados recebe o array e o index recebe o valor de indices\n",
        "print(serie_dados)"
      ],
      "metadata": {
        "id": "W2YsmUvJCLvp",
        "outputId": "9faaed68-4bcc-4a17-bd30-3a00d9db6e1a",
        "colab": {
          "base_uri": "https://localhost:8080/"
        }
      },
      "execution_count": 5,
      "outputs": [
        {
          "output_type": "stream",
          "name": "stdout",
          "text": [
            "A    10\n",
            "B    20\n",
            "C    30\n",
            "D    70\n",
            "E    80\n",
            "dtype: int64\n"
          ]
        }
      ]
    },
    {
      "cell_type": "code",
      "source": [
        "serie_dados.size #mostra o tamanho"
      ],
      "metadata": {
        "id": "muAaB5YkD9l5",
        "outputId": "0e7f8e52-8ef2-4f0b-dd83-f2021d135ebf",
        "colab": {
          "base_uri": "https://localhost:8080/"
        }
      },
      "execution_count": 6,
      "outputs": [
        {
          "output_type": "execute_result",
          "data": {
            "text/plain": [
              "5"
            ]
          },
          "metadata": {},
          "execution_count": 6
        }
      ]
    },
    {
      "cell_type": "code",
      "source": [
        "serie_dados.ndim #mostra as dimensões"
      ],
      "metadata": {
        "id": "HIBhaoOjEBXk",
        "outputId": "f076a4d2-19b6-4b74-b2dd-7278acd51ed7",
        "colab": {
          "base_uri": "https://localhost:8080/"
        }
      },
      "execution_count": 7,
      "outputs": [
        {
          "output_type": "execute_result",
          "data": {
            "text/plain": [
              "1"
            ]
          },
          "metadata": {},
          "execution_count": 7
        }
      ]
    },
    {
      "cell_type": "code",
      "source": [
        "serie_dados.shape #mostra o formato (linha x coluna dos dados, no caso só há 5 linhas e 1 coluna)"
      ],
      "metadata": {
        "id": "6C1Wy62lEOok",
        "outputId": "77595c89-79e4-4d24-d92b-9c199cbb655e",
        "colab": {
          "base_uri": "https://localhost:8080/"
        }
      },
      "execution_count": 8,
      "outputs": [
        {
          "output_type": "execute_result",
          "data": {
            "text/plain": [
              "(5,)"
            ]
          },
          "metadata": {},
          "execution_count": 8
        }
      ]
    },
    {
      "cell_type": "code",
      "source": [
        "np_array_inteiros= ([1,2,3,4,5]) #criando um arranjo usando o numpy\n",
        "print(np_array_inteiros)"
      ],
      "metadata": {
        "id": "P7T_ZtkqEcub",
        "outputId": "aa83074b-fea5-4c30-f7d6-b5db79ba5353",
        "colab": {
          "base_uri": "https://localhost:8080/"
        }
      },
      "execution_count": 9,
      "outputs": [
        {
          "output_type": "stream",
          "name": "stdout",
          "text": [
            "[1, 2, 3, 4, 5]\n"
          ]
        }
      ]
    },
    {
      "cell_type": "code",
      "source": [
        "serie_dados = pd.Series(array_inteiros) #transformando um dado numpy no formato pandas\n",
        "print(serie_dados)"
      ],
      "metadata": {
        "id": "bfUoTaNQE2P5",
        "outputId": "5a855d5d-6132-4991-f814-3da4450762dc",
        "colab": {
          "base_uri": "https://localhost:8080/"
        }
      },
      "execution_count": 10,
      "outputs": [
        {
          "output_type": "stream",
          "name": "stdout",
          "text": [
            "0    10\n",
            "1    20\n",
            "2    30\n",
            "3    70\n",
            "4    80\n",
            "dtype: int64\n"
          ]
        }
      ]
    },
    {
      "cell_type": "code",
      "source": [
        "serie_dados.index = ['Z','X','Y','F','G'] #mudando os valores do index\n",
        "print(serie_dados)\n",
        "serie_dados[:]= [100,120,150,160,170] #atualizando os dados da série\n",
        "print(serie_dados)"
      ],
      "metadata": {
        "id": "qOyAa2qGFUcn",
        "outputId": "1a7d2226-38db-4a1a-d2d0-4df738ad3662",
        "colab": {
          "base_uri": "https://localhost:8080/"
        }
      },
      "execution_count": 11,
      "outputs": [
        {
          "output_type": "stream",
          "name": "stdout",
          "text": [
            "Z    10\n",
            "X    20\n",
            "Y    30\n",
            "F    70\n",
            "G    80\n",
            "dtype: int64\n",
            "Z    100\n",
            "X    120\n",
            "Y    150\n",
            "F    160\n",
            "G    170\n",
            "dtype: int64\n"
          ]
        }
      ]
    },
    {
      "cell_type": "markdown",
      "source": [
        "### Criação de séries"
      ],
      "metadata": {
        "id": "xWriVWQi9PhU"
      }
    },
    {
      "cell_type": "code",
      "source": [
        "import numpy as np\n",
        "#bloco vai gerar valores aleatórios\n",
        "valores = np.random.random(10)\n",
        "indexes= np.arange(0,10)\n",
        "\n",
        "print(valores)\n",
        "print(indexes)"
      ],
      "metadata": {
        "id": "W4cDEB_EFFWx",
        "outputId": "186f4ba9-aedb-4475-8746-e03adfd62dde",
        "colab": {
          "base_uri": "https://localhost:8080/"
        }
      },
      "execution_count": 12,
      "outputs": [
        {
          "output_type": "stream",
          "name": "stdout",
          "text": [
            "[0.57464228 0.58846828 0.18007395 0.81289237 0.25804121 0.81460883\n",
            " 0.7205178  0.66374945 0.11379446 0.11432118]\n",
            "[0 1 2 3 4 5 6 7 8 9]\n"
          ]
        }
      ]
    },
    {
      "cell_type": "code",
      "source": [
        "import pandas as pd\n",
        "#mostrando o código acima só que em pandas\n",
        "serie_dados = pd.Series(valores, indexes)\n",
        "print(serie_dados)"
      ],
      "metadata": {
        "id": "ww22z35NGZEh",
        "outputId": "c6318517-fb04-4d34-bc4d-32d45800a213",
        "colab": {
          "base_uri": "https://localhost:8080/"
        }
      },
      "execution_count": 13,
      "outputs": [
        {
          "output_type": "stream",
          "name": "stdout",
          "text": [
            "0    0.574642\n",
            "1    0.588468\n",
            "2    0.180074\n",
            "3    0.812892\n",
            "4    0.258041\n",
            "5    0.814609\n",
            "6    0.720518\n",
            "7    0.663749\n",
            "8    0.113794\n",
            "9    0.114321\n",
            "dtype: float64\n"
          ]
        }
      ]
    },
    {
      "cell_type": "code",
      "source": [
        "dicionario= {'joão': 10, 'daniel': 20, 'eliza': 30}\n",
        "\n",
        "dicionario"
      ],
      "metadata": {
        "id": "sxjbuk4RRKBp",
        "outputId": "bb9e6569-3b11-403c-84ee-f0dbd027a616",
        "colab": {
          "base_uri": "https://localhost:8080/"
        }
      },
      "execution_count": 14,
      "outputs": [
        {
          "output_type": "execute_result",
          "data": {
            "text/plain": [
              "{'joão': 10, 'daniel': 20, 'eliza': 30}"
            ]
          },
          "metadata": {},
          "execution_count": 14
        }
      ]
    },
    {
      "cell_type": "code",
      "source": [
        "#fazendo um serie com esse dicionario\n",
        "dict_serie_dados = pd.Series(dicionario)\n",
        "print(dict_serie_dados)"
      ],
      "metadata": {
        "id": "r75MDFOJRUye",
        "outputId": "99f274c6-9502-4ccb-cfd8-90f6df6dae2e",
        "colab": {
          "base_uri": "https://localhost:8080/"
        }
      },
      "execution_count": 15,
      "outputs": [
        {
          "output_type": "stream",
          "name": "stdout",
          "text": [
            "joão      10\n",
            "daniel    20\n",
            "eliza     30\n",
            "dtype: int64\n"
          ]
        }
      ]
    },
    {
      "cell_type": "markdown",
      "source": [
        "## Fatiamento (slicing)"
      ],
      "metadata": {
        "id": "gjhhI5D09a7K"
      }
    },
    {
      "cell_type": "code",
      "source": [
        "serie_dados[:]"
      ],
      "metadata": {
        "id": "siXYJPvXUCZf",
        "outputId": "a6953708-06c5-48ba-9aac-6cbb43dbb4e0",
        "colab": {
          "base_uri": "https://localhost:8080/",
          "height": 398
        }
      },
      "execution_count": 16,
      "outputs": [
        {
          "output_type": "execute_result",
          "data": {
            "text/plain": [
              "0    0.574642\n",
              "1    0.588468\n",
              "2    0.180074\n",
              "3    0.812892\n",
              "4    0.258041\n",
              "5    0.814609\n",
              "6    0.720518\n",
              "7    0.663749\n",
              "8    0.113794\n",
              "9    0.114321\n",
              "dtype: float64"
            ],
            "text/html": [
              "<div>\n",
              "<style scoped>\n",
              "    .dataframe tbody tr th:only-of-type {\n",
              "        vertical-align: middle;\n",
              "    }\n",
              "\n",
              "    .dataframe tbody tr th {\n",
              "        vertical-align: top;\n",
              "    }\n",
              "\n",
              "    .dataframe thead th {\n",
              "        text-align: right;\n",
              "    }\n",
              "</style>\n",
              "<table border=\"1\" class=\"dataframe\">\n",
              "  <thead>\n",
              "    <tr style=\"text-align: right;\">\n",
              "      <th></th>\n",
              "      <th>0</th>\n",
              "    </tr>\n",
              "  </thead>\n",
              "  <tbody>\n",
              "    <tr>\n",
              "      <th>0</th>\n",
              "      <td>0.574642</td>\n",
              "    </tr>\n",
              "    <tr>\n",
              "      <th>1</th>\n",
              "      <td>0.588468</td>\n",
              "    </tr>\n",
              "    <tr>\n",
              "      <th>2</th>\n",
              "      <td>0.180074</td>\n",
              "    </tr>\n",
              "    <tr>\n",
              "      <th>3</th>\n",
              "      <td>0.812892</td>\n",
              "    </tr>\n",
              "    <tr>\n",
              "      <th>4</th>\n",
              "      <td>0.258041</td>\n",
              "    </tr>\n",
              "    <tr>\n",
              "      <th>5</th>\n",
              "      <td>0.814609</td>\n",
              "    </tr>\n",
              "    <tr>\n",
              "      <th>6</th>\n",
              "      <td>0.720518</td>\n",
              "    </tr>\n",
              "    <tr>\n",
              "      <th>7</th>\n",
              "      <td>0.663749</td>\n",
              "    </tr>\n",
              "    <tr>\n",
              "      <th>8</th>\n",
              "      <td>0.113794</td>\n",
              "    </tr>\n",
              "    <tr>\n",
              "      <th>9</th>\n",
              "      <td>0.114321</td>\n",
              "    </tr>\n",
              "  </tbody>\n",
              "</table>\n",
              "</div><br><label><b>dtype:</b> float64</label>"
            ]
          },
          "metadata": {},
          "execution_count": 16
        }
      ]
    },
    {
      "cell_type": "code",
      "source": [
        "serie_dados[0:3]\n",
        "#repare que ele volta apenas do 0 ao 2"
      ],
      "metadata": {
        "id": "Lz2ZRxIcUIP_",
        "outputId": "22689735-9792-4ab3-e594-520e3a827f5a",
        "colab": {
          "base_uri": "https://localhost:8080/",
          "height": 178
        }
      },
      "execution_count": 17,
      "outputs": [
        {
          "output_type": "execute_result",
          "data": {
            "text/plain": [
              "0    0.574642\n",
              "1    0.588468\n",
              "2    0.180074\n",
              "dtype: float64"
            ],
            "text/html": [
              "<div>\n",
              "<style scoped>\n",
              "    .dataframe tbody tr th:only-of-type {\n",
              "        vertical-align: middle;\n",
              "    }\n",
              "\n",
              "    .dataframe tbody tr th {\n",
              "        vertical-align: top;\n",
              "    }\n",
              "\n",
              "    .dataframe thead th {\n",
              "        text-align: right;\n",
              "    }\n",
              "</style>\n",
              "<table border=\"1\" class=\"dataframe\">\n",
              "  <thead>\n",
              "    <tr style=\"text-align: right;\">\n",
              "      <th></th>\n",
              "      <th>0</th>\n",
              "    </tr>\n",
              "  </thead>\n",
              "  <tbody>\n",
              "    <tr>\n",
              "      <th>0</th>\n",
              "      <td>0.574642</td>\n",
              "    </tr>\n",
              "    <tr>\n",
              "      <th>1</th>\n",
              "      <td>0.588468</td>\n",
              "    </tr>\n",
              "    <tr>\n",
              "      <th>2</th>\n",
              "      <td>0.180074</td>\n",
              "    </tr>\n",
              "  </tbody>\n",
              "</table>\n",
              "</div><br><label><b>dtype:</b> float64</label>"
            ]
          },
          "metadata": {},
          "execution_count": 17
        }
      ]
    },
    {
      "cell_type": "code",
      "source": [
        "#mostra o último valor da lista\n",
        "serie_dados[-1:]"
      ],
      "metadata": {
        "id": "PU1UyV0CUtZu",
        "outputId": "75dcb7bf-a34c-4ddf-fd2c-8e172b3c74d2",
        "colab": {
          "base_uri": "https://localhost:8080/",
          "height": 115
        }
      },
      "execution_count": 18,
      "outputs": [
        {
          "output_type": "execute_result",
          "data": {
            "text/plain": [
              "9    0.114321\n",
              "dtype: float64"
            ],
            "text/html": [
              "<div>\n",
              "<style scoped>\n",
              "    .dataframe tbody tr th:only-of-type {\n",
              "        vertical-align: middle;\n",
              "    }\n",
              "\n",
              "    .dataframe tbody tr th {\n",
              "        vertical-align: top;\n",
              "    }\n",
              "\n",
              "    .dataframe thead th {\n",
              "        text-align: right;\n",
              "    }\n",
              "</style>\n",
              "<table border=\"1\" class=\"dataframe\">\n",
              "  <thead>\n",
              "    <tr style=\"text-align: right;\">\n",
              "      <th></th>\n",
              "      <th>0</th>\n",
              "    </tr>\n",
              "  </thead>\n",
              "  <tbody>\n",
              "    <tr>\n",
              "      <th>9</th>\n",
              "      <td>0.114321</td>\n",
              "    </tr>\n",
              "  </tbody>\n",
              "</table>\n",
              "</div><br><label><b>dtype:</b> float64</label>"
            ]
          },
          "metadata": {},
          "execution_count": 18
        }
      ]
    },
    {
      "cell_type": "code",
      "source": [
        "#adicionando elementos a uma variável\n",
        "S1= serie_dados[0:3]\n",
        "S1"
      ],
      "metadata": {
        "id": "deM-h1bzVsty",
        "outputId": "34c9a4f4-cf71-4b6a-a1bf-365a7cb7bedd",
        "colab": {
          "base_uri": "https://localhost:8080/",
          "height": 178
        }
      },
      "execution_count": 19,
      "outputs": [
        {
          "output_type": "execute_result",
          "data": {
            "text/plain": [
              "0    0.574642\n",
              "1    0.588468\n",
              "2    0.180074\n",
              "dtype: float64"
            ],
            "text/html": [
              "<div>\n",
              "<style scoped>\n",
              "    .dataframe tbody tr th:only-of-type {\n",
              "        vertical-align: middle;\n",
              "    }\n",
              "\n",
              "    .dataframe tbody tr th {\n",
              "        vertical-align: top;\n",
              "    }\n",
              "\n",
              "    .dataframe thead th {\n",
              "        text-align: right;\n",
              "    }\n",
              "</style>\n",
              "<table border=\"1\" class=\"dataframe\">\n",
              "  <thead>\n",
              "    <tr style=\"text-align: right;\">\n",
              "      <th></th>\n",
              "      <th>0</th>\n",
              "    </tr>\n",
              "  </thead>\n",
              "  <tbody>\n",
              "    <tr>\n",
              "      <th>0</th>\n",
              "      <td>0.574642</td>\n",
              "    </tr>\n",
              "    <tr>\n",
              "      <th>1</th>\n",
              "      <td>0.588468</td>\n",
              "    </tr>\n",
              "    <tr>\n",
              "      <th>2</th>\n",
              "      <td>0.180074</td>\n",
              "    </tr>\n",
              "  </tbody>\n",
              "</table>\n",
              "</div><br><label><b>dtype:</b> float64</label>"
            ]
          },
          "metadata": {},
          "execution_count": 19
        }
      ]
    },
    {
      "cell_type": "markdown",
      "source": [
        "##Cópia, conversão e concatenação"
      ],
      "metadata": {
        "id": "zfaLSZKx9fE7"
      }
    },
    {
      "cell_type": "code",
      "source": [
        "#fazendo uma cópia de dados\n",
        "import pandas as pd\n",
        "serie_dados = pd.Series([10, 20, 30, 40, 50])\n",
        "\n",
        "serie_dados2= serie_dados.copy()\n",
        "serie_dados2"
      ],
      "metadata": {
        "id": "MJCRJ_WyVdFL",
        "outputId": "7bb06e05-9f65-4579-d724-d43c576731e3",
        "colab": {
          "base_uri": "https://localhost:8080/",
          "height": 241
        }
      },
      "execution_count": 20,
      "outputs": [
        {
          "output_type": "execute_result",
          "data": {
            "text/plain": [
              "0    10\n",
              "1    20\n",
              "2    30\n",
              "3    40\n",
              "4    50\n",
              "dtype: int64"
            ],
            "text/html": [
              "<div>\n",
              "<style scoped>\n",
              "    .dataframe tbody tr th:only-of-type {\n",
              "        vertical-align: middle;\n",
              "    }\n",
              "\n",
              "    .dataframe tbody tr th {\n",
              "        vertical-align: top;\n",
              "    }\n",
              "\n",
              "    .dataframe thead th {\n",
              "        text-align: right;\n",
              "    }\n",
              "</style>\n",
              "<table border=\"1\" class=\"dataframe\">\n",
              "  <thead>\n",
              "    <tr style=\"text-align: right;\">\n",
              "      <th></th>\n",
              "      <th>0</th>\n",
              "    </tr>\n",
              "  </thead>\n",
              "  <tbody>\n",
              "    <tr>\n",
              "      <th>0</th>\n",
              "      <td>10</td>\n",
              "    </tr>\n",
              "    <tr>\n",
              "      <th>1</th>\n",
              "      <td>20</td>\n",
              "    </tr>\n",
              "    <tr>\n",
              "      <th>2</th>\n",
              "      <td>30</td>\n",
              "    </tr>\n",
              "    <tr>\n",
              "      <th>3</th>\n",
              "      <td>40</td>\n",
              "    </tr>\n",
              "    <tr>\n",
              "      <th>4</th>\n",
              "      <td>50</td>\n",
              "    </tr>\n",
              "  </tbody>\n",
              "</table>\n",
              "</div><br><label><b>dtype:</b> int64</label>"
            ]
          },
          "metadata": {},
          "execution_count": 20
        }
      ]
    },
    {
      "cell_type": "code",
      "source": [
        "#convertendo valores de inteiro para float\n",
        "serie_dados2.astype(float)"
      ],
      "metadata": {
        "id": "_ja2xihlVyLa",
        "outputId": "0d275dd5-ca61-4eed-f998-eaaa5f095fe2",
        "colab": {
          "base_uri": "https://localhost:8080/",
          "height": 241
        }
      },
      "execution_count": 21,
      "outputs": [
        {
          "output_type": "execute_result",
          "data": {
            "text/plain": [
              "0    10.0\n",
              "1    20.0\n",
              "2    30.0\n",
              "3    40.0\n",
              "4    50.0\n",
              "dtype: float64"
            ],
            "text/html": [
              "<div>\n",
              "<style scoped>\n",
              "    .dataframe tbody tr th:only-of-type {\n",
              "        vertical-align: middle;\n",
              "    }\n",
              "\n",
              "    .dataframe tbody tr th {\n",
              "        vertical-align: top;\n",
              "    }\n",
              "\n",
              "    .dataframe thead th {\n",
              "        text-align: right;\n",
              "    }\n",
              "</style>\n",
              "<table border=\"1\" class=\"dataframe\">\n",
              "  <thead>\n",
              "    <tr style=\"text-align: right;\">\n",
              "      <th></th>\n",
              "      <th>0</th>\n",
              "    </tr>\n",
              "  </thead>\n",
              "  <tbody>\n",
              "    <tr>\n",
              "      <th>0</th>\n",
              "      <td>10.0</td>\n",
              "    </tr>\n",
              "    <tr>\n",
              "      <th>1</th>\n",
              "      <td>20.0</td>\n",
              "    </tr>\n",
              "    <tr>\n",
              "      <th>2</th>\n",
              "      <td>30.0</td>\n",
              "    </tr>\n",
              "    <tr>\n",
              "      <th>3</th>\n",
              "      <td>40.0</td>\n",
              "    </tr>\n",
              "    <tr>\n",
              "      <th>4</th>\n",
              "      <td>50.0</td>\n",
              "    </tr>\n",
              "  </tbody>\n",
              "</table>\n",
              "</div><br><label><b>dtype:</b> float64</label>"
            ]
          },
          "metadata": {},
          "execution_count": 21
        }
      ]
    },
    {
      "cell_type": "code",
      "source": [
        "#fazendo a concatenação\n",
        "#criando o primeiro dicionario\n",
        "dados_novos= {'Daniel': 10,'Rodrigo': 20}\n",
        "serie_dados3= pd.Series(dados_novos)\n",
        "serie_dados3\n",
        "\n",
        "#criando o segundo dicionario\n",
        "dict_dados= {'Rodolfo': 30, 'João': 50}\n",
        "serie_dados4= pd.Series(dict_dados)\n",
        "serie_dados4\n",
        "\n",
        "#juntando os dois\n",
        "serie_dados5= pd.concat([serie_dados3, serie_dados4])\n",
        "serie_dados5"
      ],
      "metadata": {
        "id": "z5eLR_NtWK-1",
        "outputId": "c1e9640a-bf5a-44ab-8224-1a9dd7cb9a98",
        "colab": {
          "base_uri": "https://localhost:8080/",
          "height": 210
        }
      },
      "execution_count": 22,
      "outputs": [
        {
          "output_type": "execute_result",
          "data": {
            "text/plain": [
              "Daniel     10\n",
              "Rodrigo    20\n",
              "Rodolfo    30\n",
              "João       50\n",
              "dtype: int64"
            ],
            "text/html": [
              "<div>\n",
              "<style scoped>\n",
              "    .dataframe tbody tr th:only-of-type {\n",
              "        vertical-align: middle;\n",
              "    }\n",
              "\n",
              "    .dataframe tbody tr th {\n",
              "        vertical-align: top;\n",
              "    }\n",
              "\n",
              "    .dataframe thead th {\n",
              "        text-align: right;\n",
              "    }\n",
              "</style>\n",
              "<table border=\"1\" class=\"dataframe\">\n",
              "  <thead>\n",
              "    <tr style=\"text-align: right;\">\n",
              "      <th></th>\n",
              "      <th>0</th>\n",
              "    </tr>\n",
              "  </thead>\n",
              "  <tbody>\n",
              "    <tr>\n",
              "      <th>Daniel</th>\n",
              "      <td>10</td>\n",
              "    </tr>\n",
              "    <tr>\n",
              "      <th>Rodrigo</th>\n",
              "      <td>20</td>\n",
              "    </tr>\n",
              "    <tr>\n",
              "      <th>Rodolfo</th>\n",
              "      <td>30</td>\n",
              "    </tr>\n",
              "    <tr>\n",
              "      <th>João</th>\n",
              "      <td>50</td>\n",
              "    </tr>\n",
              "  </tbody>\n",
              "</table>\n",
              "</div><br><label><b>dtype:</b> int64</label>"
            ]
          },
          "metadata": {},
          "execution_count": 22
        }
      ]
    },
    {
      "cell_type": "markdown",
      "source": [
        "### Acessando dados com ILOC\n",
        "- Acessar elementos pelo índice"
      ],
      "metadata": {
        "id": "jm3Q2jzCX12K"
      }
    },
    {
      "cell_type": "code",
      "source": [
        "import pandas as pd\n",
        "import numpy as np\n",
        "#importando arquivos. Basta clicar na pasta ao lado e no ícone de upload\n",
        "dataset= pd.read_csv('census.csv')\n",
        "dataset"
      ],
      "metadata": {
        "id": "6RnwPC1SYCya",
        "outputId": "86687f2f-090b-4616-bc26-2c8f07732cc7",
        "colab": {
          "base_uri": "https://localhost:8080/",
          "height": 563
        }
      },
      "execution_count": 23,
      "outputs": [
        {
          "output_type": "execute_result",
          "data": {
            "text/plain": [
              "       age          workclass  final-weight    education  education-num  \\\n",
              "0       39          State-gov         77516    Bachelors             13   \n",
              "1       50   Self-emp-not-inc         83311    Bachelors             13   \n",
              "2       38            Private        215646      HS-grad              9   \n",
              "3       53            Private        234721         11th              7   \n",
              "4       28            Private        338409    Bachelors             13   \n",
              "...    ...                ...           ...          ...            ...   \n",
              "32556   27            Private        257302   Assoc-acdm             12   \n",
              "32557   40            Private        154374      HS-grad              9   \n",
              "32558   58            Private        151910      HS-grad              9   \n",
              "32559   22            Private        201490      HS-grad              9   \n",
              "32560   52       Self-emp-inc        287927      HS-grad              9   \n",
              "\n",
              "            marital-status          occupation    relationship    race  \\\n",
              "0            Never-married        Adm-clerical   Not-in-family   White   \n",
              "1       Married-civ-spouse     Exec-managerial         Husband   White   \n",
              "2                 Divorced   Handlers-cleaners   Not-in-family   White   \n",
              "3       Married-civ-spouse   Handlers-cleaners         Husband   Black   \n",
              "4       Married-civ-spouse      Prof-specialty            Wife   Black   \n",
              "...                    ...                 ...             ...     ...   \n",
              "32556   Married-civ-spouse        Tech-support            Wife   White   \n",
              "32557   Married-civ-spouse   Machine-op-inspct         Husband   White   \n",
              "32558              Widowed        Adm-clerical       Unmarried   White   \n",
              "32559        Never-married        Adm-clerical       Own-child   White   \n",
              "32560   Married-civ-spouse     Exec-managerial            Wife   White   \n",
              "\n",
              "           sex  capital-gain  capital-loos  hour-per-week  native-country  \\\n",
              "0         Male          2174             0             40   United-States   \n",
              "1         Male             0             0             13   United-States   \n",
              "2         Male             0             0             40   United-States   \n",
              "3         Male             0             0             40   United-States   \n",
              "4       Female             0             0             40            Cuba   \n",
              "...        ...           ...           ...            ...             ...   \n",
              "32556   Female             0             0             38   United-States   \n",
              "32557     Male             0             0             40   United-States   \n",
              "32558   Female             0             0             40   United-States   \n",
              "32559     Male             0             0             20   United-States   \n",
              "32560   Female         15024             0             40   United-States   \n",
              "\n",
              "       income  \n",
              "0       <=50K  \n",
              "1       <=50K  \n",
              "2       <=50K  \n",
              "3       <=50K  \n",
              "4       <=50K  \n",
              "...       ...  \n",
              "32556   <=50K  \n",
              "32557    >50K  \n",
              "32558   <=50K  \n",
              "32559   <=50K  \n",
              "32560    >50K  \n",
              "\n",
              "[32561 rows x 15 columns]"
            ],
            "text/html": [
              "\n",
              "  <div id=\"df-ddae8fce-3485-43c5-a4b0-d790616f75f9\" class=\"colab-df-container\">\n",
              "    <div>\n",
              "<style scoped>\n",
              "    .dataframe tbody tr th:only-of-type {\n",
              "        vertical-align: middle;\n",
              "    }\n",
              "\n",
              "    .dataframe tbody tr th {\n",
              "        vertical-align: top;\n",
              "    }\n",
              "\n",
              "    .dataframe thead th {\n",
              "        text-align: right;\n",
              "    }\n",
              "</style>\n",
              "<table border=\"1\" class=\"dataframe\">\n",
              "  <thead>\n",
              "    <tr style=\"text-align: right;\">\n",
              "      <th></th>\n",
              "      <th>age</th>\n",
              "      <th>workclass</th>\n",
              "      <th>final-weight</th>\n",
              "      <th>education</th>\n",
              "      <th>education-num</th>\n",
              "      <th>marital-status</th>\n",
              "      <th>occupation</th>\n",
              "      <th>relationship</th>\n",
              "      <th>race</th>\n",
              "      <th>sex</th>\n",
              "      <th>capital-gain</th>\n",
              "      <th>capital-loos</th>\n",
              "      <th>hour-per-week</th>\n",
              "      <th>native-country</th>\n",
              "      <th>income</th>\n",
              "    </tr>\n",
              "  </thead>\n",
              "  <tbody>\n",
              "    <tr>\n",
              "      <th>0</th>\n",
              "      <td>39</td>\n",
              "      <td>State-gov</td>\n",
              "      <td>77516</td>\n",
              "      <td>Bachelors</td>\n",
              "      <td>13</td>\n",
              "      <td>Never-married</td>\n",
              "      <td>Adm-clerical</td>\n",
              "      <td>Not-in-family</td>\n",
              "      <td>White</td>\n",
              "      <td>Male</td>\n",
              "      <td>2174</td>\n",
              "      <td>0</td>\n",
              "      <td>40</td>\n",
              "      <td>United-States</td>\n",
              "      <td>&lt;=50K</td>\n",
              "    </tr>\n",
              "    <tr>\n",
              "      <th>1</th>\n",
              "      <td>50</td>\n",
              "      <td>Self-emp-not-inc</td>\n",
              "      <td>83311</td>\n",
              "      <td>Bachelors</td>\n",
              "      <td>13</td>\n",
              "      <td>Married-civ-spouse</td>\n",
              "      <td>Exec-managerial</td>\n",
              "      <td>Husband</td>\n",
              "      <td>White</td>\n",
              "      <td>Male</td>\n",
              "      <td>0</td>\n",
              "      <td>0</td>\n",
              "      <td>13</td>\n",
              "      <td>United-States</td>\n",
              "      <td>&lt;=50K</td>\n",
              "    </tr>\n",
              "    <tr>\n",
              "      <th>2</th>\n",
              "      <td>38</td>\n",
              "      <td>Private</td>\n",
              "      <td>215646</td>\n",
              "      <td>HS-grad</td>\n",
              "      <td>9</td>\n",
              "      <td>Divorced</td>\n",
              "      <td>Handlers-cleaners</td>\n",
              "      <td>Not-in-family</td>\n",
              "      <td>White</td>\n",
              "      <td>Male</td>\n",
              "      <td>0</td>\n",
              "      <td>0</td>\n",
              "      <td>40</td>\n",
              "      <td>United-States</td>\n",
              "      <td>&lt;=50K</td>\n",
              "    </tr>\n",
              "    <tr>\n",
              "      <th>3</th>\n",
              "      <td>53</td>\n",
              "      <td>Private</td>\n",
              "      <td>234721</td>\n",
              "      <td>11th</td>\n",
              "      <td>7</td>\n",
              "      <td>Married-civ-spouse</td>\n",
              "      <td>Handlers-cleaners</td>\n",
              "      <td>Husband</td>\n",
              "      <td>Black</td>\n",
              "      <td>Male</td>\n",
              "      <td>0</td>\n",
              "      <td>0</td>\n",
              "      <td>40</td>\n",
              "      <td>United-States</td>\n",
              "      <td>&lt;=50K</td>\n",
              "    </tr>\n",
              "    <tr>\n",
              "      <th>4</th>\n",
              "      <td>28</td>\n",
              "      <td>Private</td>\n",
              "      <td>338409</td>\n",
              "      <td>Bachelors</td>\n",
              "      <td>13</td>\n",
              "      <td>Married-civ-spouse</td>\n",
              "      <td>Prof-specialty</td>\n",
              "      <td>Wife</td>\n",
              "      <td>Black</td>\n",
              "      <td>Female</td>\n",
              "      <td>0</td>\n",
              "      <td>0</td>\n",
              "      <td>40</td>\n",
              "      <td>Cuba</td>\n",
              "      <td>&lt;=50K</td>\n",
              "    </tr>\n",
              "    <tr>\n",
              "      <th>...</th>\n",
              "      <td>...</td>\n",
              "      <td>...</td>\n",
              "      <td>...</td>\n",
              "      <td>...</td>\n",
              "      <td>...</td>\n",
              "      <td>...</td>\n",
              "      <td>...</td>\n",
              "      <td>...</td>\n",
              "      <td>...</td>\n",
              "      <td>...</td>\n",
              "      <td>...</td>\n",
              "      <td>...</td>\n",
              "      <td>...</td>\n",
              "      <td>...</td>\n",
              "      <td>...</td>\n",
              "    </tr>\n",
              "    <tr>\n",
              "      <th>32556</th>\n",
              "      <td>27</td>\n",
              "      <td>Private</td>\n",
              "      <td>257302</td>\n",
              "      <td>Assoc-acdm</td>\n",
              "      <td>12</td>\n",
              "      <td>Married-civ-spouse</td>\n",
              "      <td>Tech-support</td>\n",
              "      <td>Wife</td>\n",
              "      <td>White</td>\n",
              "      <td>Female</td>\n",
              "      <td>0</td>\n",
              "      <td>0</td>\n",
              "      <td>38</td>\n",
              "      <td>United-States</td>\n",
              "      <td>&lt;=50K</td>\n",
              "    </tr>\n",
              "    <tr>\n",
              "      <th>32557</th>\n",
              "      <td>40</td>\n",
              "      <td>Private</td>\n",
              "      <td>154374</td>\n",
              "      <td>HS-grad</td>\n",
              "      <td>9</td>\n",
              "      <td>Married-civ-spouse</td>\n",
              "      <td>Machine-op-inspct</td>\n",
              "      <td>Husband</td>\n",
              "      <td>White</td>\n",
              "      <td>Male</td>\n",
              "      <td>0</td>\n",
              "      <td>0</td>\n",
              "      <td>40</td>\n",
              "      <td>United-States</td>\n",
              "      <td>&gt;50K</td>\n",
              "    </tr>\n",
              "    <tr>\n",
              "      <th>32558</th>\n",
              "      <td>58</td>\n",
              "      <td>Private</td>\n",
              "      <td>151910</td>\n",
              "      <td>HS-grad</td>\n",
              "      <td>9</td>\n",
              "      <td>Widowed</td>\n",
              "      <td>Adm-clerical</td>\n",
              "      <td>Unmarried</td>\n",
              "      <td>White</td>\n",
              "      <td>Female</td>\n",
              "      <td>0</td>\n",
              "      <td>0</td>\n",
              "      <td>40</td>\n",
              "      <td>United-States</td>\n",
              "      <td>&lt;=50K</td>\n",
              "    </tr>\n",
              "    <tr>\n",
              "      <th>32559</th>\n",
              "      <td>22</td>\n",
              "      <td>Private</td>\n",
              "      <td>201490</td>\n",
              "      <td>HS-grad</td>\n",
              "      <td>9</td>\n",
              "      <td>Never-married</td>\n",
              "      <td>Adm-clerical</td>\n",
              "      <td>Own-child</td>\n",
              "      <td>White</td>\n",
              "      <td>Male</td>\n",
              "      <td>0</td>\n",
              "      <td>0</td>\n",
              "      <td>20</td>\n",
              "      <td>United-States</td>\n",
              "      <td>&lt;=50K</td>\n",
              "    </tr>\n",
              "    <tr>\n",
              "      <th>32560</th>\n",
              "      <td>52</td>\n",
              "      <td>Self-emp-inc</td>\n",
              "      <td>287927</td>\n",
              "      <td>HS-grad</td>\n",
              "      <td>9</td>\n",
              "      <td>Married-civ-spouse</td>\n",
              "      <td>Exec-managerial</td>\n",
              "      <td>Wife</td>\n",
              "      <td>White</td>\n",
              "      <td>Female</td>\n",
              "      <td>15024</td>\n",
              "      <td>0</td>\n",
              "      <td>40</td>\n",
              "      <td>United-States</td>\n",
              "      <td>&gt;50K</td>\n",
              "    </tr>\n",
              "  </tbody>\n",
              "</table>\n",
              "<p>32561 rows × 15 columns</p>\n",
              "</div>\n",
              "    <div class=\"colab-df-buttons\">\n",
              "\n",
              "  <div class=\"colab-df-container\">\n",
              "    <button class=\"colab-df-convert\" onclick=\"convertToInteractive('df-ddae8fce-3485-43c5-a4b0-d790616f75f9')\"\n",
              "            title=\"Convert this dataframe to an interactive table.\"\n",
              "            style=\"display:none;\">\n",
              "\n",
              "  <svg xmlns=\"http://www.w3.org/2000/svg\" height=\"24px\" viewBox=\"0 -960 960 960\">\n",
              "    <path d=\"M120-120v-720h720v720H120Zm60-500h600v-160H180v160Zm220 220h160v-160H400v160Zm0 220h160v-160H400v160ZM180-400h160v-160H180v160Zm440 0h160v-160H620v160ZM180-180h160v-160H180v160Zm440 0h160v-160H620v160Z\"/>\n",
              "  </svg>\n",
              "    </button>\n",
              "\n",
              "  <style>\n",
              "    .colab-df-container {\n",
              "      display:flex;\n",
              "      gap: 12px;\n",
              "    }\n",
              "\n",
              "    .colab-df-convert {\n",
              "      background-color: #E8F0FE;\n",
              "      border: none;\n",
              "      border-radius: 50%;\n",
              "      cursor: pointer;\n",
              "      display: none;\n",
              "      fill: #1967D2;\n",
              "      height: 32px;\n",
              "      padding: 0 0 0 0;\n",
              "      width: 32px;\n",
              "    }\n",
              "\n",
              "    .colab-df-convert:hover {\n",
              "      background-color: #E2EBFA;\n",
              "      box-shadow: 0px 1px 2px rgba(60, 64, 67, 0.3), 0px 1px 3px 1px rgba(60, 64, 67, 0.15);\n",
              "      fill: #174EA6;\n",
              "    }\n",
              "\n",
              "    .colab-df-buttons div {\n",
              "      margin-bottom: 4px;\n",
              "    }\n",
              "\n",
              "    [theme=dark] .colab-df-convert {\n",
              "      background-color: #3B4455;\n",
              "      fill: #D2E3FC;\n",
              "    }\n",
              "\n",
              "    [theme=dark] .colab-df-convert:hover {\n",
              "      background-color: #434B5C;\n",
              "      box-shadow: 0px 1px 3px 1px rgba(0, 0, 0, 0.15);\n",
              "      filter: drop-shadow(0px 1px 2px rgba(0, 0, 0, 0.3));\n",
              "      fill: #FFFFFF;\n",
              "    }\n",
              "  </style>\n",
              "\n",
              "    <script>\n",
              "      const buttonEl =\n",
              "        document.querySelector('#df-ddae8fce-3485-43c5-a4b0-d790616f75f9 button.colab-df-convert');\n",
              "      buttonEl.style.display =\n",
              "        google.colab.kernel.accessAllowed ? 'block' : 'none';\n",
              "\n",
              "      async function convertToInteractive(key) {\n",
              "        const element = document.querySelector('#df-ddae8fce-3485-43c5-a4b0-d790616f75f9');\n",
              "        const dataTable =\n",
              "          await google.colab.kernel.invokeFunction('convertToInteractive',\n",
              "                                                    [key], {});\n",
              "        if (!dataTable) return;\n",
              "\n",
              "        const docLinkHtml = 'Like what you see? Visit the ' +\n",
              "          '<a target=\"_blank\" href=https://colab.research.google.com/notebooks/data_table.ipynb>data table notebook</a>'\n",
              "          + ' to learn more about interactive tables.';\n",
              "        element.innerHTML = '';\n",
              "        dataTable['output_type'] = 'display_data';\n",
              "        await google.colab.output.renderOutput(dataTable, element);\n",
              "        const docLink = document.createElement('div');\n",
              "        docLink.innerHTML = docLinkHtml;\n",
              "        element.appendChild(docLink);\n",
              "      }\n",
              "    </script>\n",
              "  </div>\n",
              "\n",
              "\n",
              "    <div id=\"df-cd1ba0c0-9f6f-4344-b7b2-29ab0c530a72\">\n",
              "      <button class=\"colab-df-quickchart\" onclick=\"quickchart('df-cd1ba0c0-9f6f-4344-b7b2-29ab0c530a72')\"\n",
              "                title=\"Suggest charts\"\n",
              "                style=\"display:none;\">\n",
              "\n",
              "<svg xmlns=\"http://www.w3.org/2000/svg\" height=\"24px\"viewBox=\"0 0 24 24\"\n",
              "     width=\"24px\">\n",
              "    <g>\n",
              "        <path d=\"M19 3H5c-1.1 0-2 .9-2 2v14c0 1.1.9 2 2 2h14c1.1 0 2-.9 2-2V5c0-1.1-.9-2-2-2zM9 17H7v-7h2v7zm4 0h-2V7h2v10zm4 0h-2v-4h2v4z\"/>\n",
              "    </g>\n",
              "</svg>\n",
              "      </button>\n",
              "\n",
              "<style>\n",
              "  .colab-df-quickchart {\n",
              "      --bg-color: #E8F0FE;\n",
              "      --fill-color: #1967D2;\n",
              "      --hover-bg-color: #E2EBFA;\n",
              "      --hover-fill-color: #174EA6;\n",
              "      --disabled-fill-color: #AAA;\n",
              "      --disabled-bg-color: #DDD;\n",
              "  }\n",
              "\n",
              "  [theme=dark] .colab-df-quickchart {\n",
              "      --bg-color: #3B4455;\n",
              "      --fill-color: #D2E3FC;\n",
              "      --hover-bg-color: #434B5C;\n",
              "      --hover-fill-color: #FFFFFF;\n",
              "      --disabled-bg-color: #3B4455;\n",
              "      --disabled-fill-color: #666;\n",
              "  }\n",
              "\n",
              "  .colab-df-quickchart {\n",
              "    background-color: var(--bg-color);\n",
              "    border: none;\n",
              "    border-radius: 50%;\n",
              "    cursor: pointer;\n",
              "    display: none;\n",
              "    fill: var(--fill-color);\n",
              "    height: 32px;\n",
              "    padding: 0;\n",
              "    width: 32px;\n",
              "  }\n",
              "\n",
              "  .colab-df-quickchart:hover {\n",
              "    background-color: var(--hover-bg-color);\n",
              "    box-shadow: 0 1px 2px rgba(60, 64, 67, 0.3), 0 1px 3px 1px rgba(60, 64, 67, 0.15);\n",
              "    fill: var(--button-hover-fill-color);\n",
              "  }\n",
              "\n",
              "  .colab-df-quickchart-complete:disabled,\n",
              "  .colab-df-quickchart-complete:disabled:hover {\n",
              "    background-color: var(--disabled-bg-color);\n",
              "    fill: var(--disabled-fill-color);\n",
              "    box-shadow: none;\n",
              "  }\n",
              "\n",
              "  .colab-df-spinner {\n",
              "    border: 2px solid var(--fill-color);\n",
              "    border-color: transparent;\n",
              "    border-bottom-color: var(--fill-color);\n",
              "    animation:\n",
              "      spin 1s steps(1) infinite;\n",
              "  }\n",
              "\n",
              "  @keyframes spin {\n",
              "    0% {\n",
              "      border-color: transparent;\n",
              "      border-bottom-color: var(--fill-color);\n",
              "      border-left-color: var(--fill-color);\n",
              "    }\n",
              "    20% {\n",
              "      border-color: transparent;\n",
              "      border-left-color: var(--fill-color);\n",
              "      border-top-color: var(--fill-color);\n",
              "    }\n",
              "    30% {\n",
              "      border-color: transparent;\n",
              "      border-left-color: var(--fill-color);\n",
              "      border-top-color: var(--fill-color);\n",
              "      border-right-color: var(--fill-color);\n",
              "    }\n",
              "    40% {\n",
              "      border-color: transparent;\n",
              "      border-right-color: var(--fill-color);\n",
              "      border-top-color: var(--fill-color);\n",
              "    }\n",
              "    60% {\n",
              "      border-color: transparent;\n",
              "      border-right-color: var(--fill-color);\n",
              "    }\n",
              "    80% {\n",
              "      border-color: transparent;\n",
              "      border-right-color: var(--fill-color);\n",
              "      border-bottom-color: var(--fill-color);\n",
              "    }\n",
              "    90% {\n",
              "      border-color: transparent;\n",
              "      border-bottom-color: var(--fill-color);\n",
              "    }\n",
              "  }\n",
              "</style>\n",
              "\n",
              "      <script>\n",
              "        async function quickchart(key) {\n",
              "          const quickchartButtonEl =\n",
              "            document.querySelector('#' + key + ' button');\n",
              "          quickchartButtonEl.disabled = true;  // To prevent multiple clicks.\n",
              "          quickchartButtonEl.classList.add('colab-df-spinner');\n",
              "          try {\n",
              "            const charts = await google.colab.kernel.invokeFunction(\n",
              "                'suggestCharts', [key], {});\n",
              "          } catch (error) {\n",
              "            console.error('Error during call to suggestCharts:', error);\n",
              "          }\n",
              "          quickchartButtonEl.classList.remove('colab-df-spinner');\n",
              "          quickchartButtonEl.classList.add('colab-df-quickchart-complete');\n",
              "        }\n",
              "        (() => {\n",
              "          let quickchartButtonEl =\n",
              "            document.querySelector('#df-cd1ba0c0-9f6f-4344-b7b2-29ab0c530a72 button');\n",
              "          quickchartButtonEl.style.display =\n",
              "            google.colab.kernel.accessAllowed ? 'block' : 'none';\n",
              "        })();\n",
              "      </script>\n",
              "    </div>\n",
              "\n",
              "  <div id=\"id_f41802fa-1220-4208-bd0a-fc06797e039f\">\n",
              "    <style>\n",
              "      .colab-df-generate {\n",
              "        background-color: #E8F0FE;\n",
              "        border: none;\n",
              "        border-radius: 50%;\n",
              "        cursor: pointer;\n",
              "        display: none;\n",
              "        fill: #1967D2;\n",
              "        height: 32px;\n",
              "        padding: 0 0 0 0;\n",
              "        width: 32px;\n",
              "      }\n",
              "\n",
              "      .colab-df-generate:hover {\n",
              "        background-color: #E2EBFA;\n",
              "        box-shadow: 0px 1px 2px rgba(60, 64, 67, 0.3), 0px 1px 3px 1px rgba(60, 64, 67, 0.15);\n",
              "        fill: #174EA6;\n",
              "      }\n",
              "\n",
              "      [theme=dark] .colab-df-generate {\n",
              "        background-color: #3B4455;\n",
              "        fill: #D2E3FC;\n",
              "      }\n",
              "\n",
              "      [theme=dark] .colab-df-generate:hover {\n",
              "        background-color: #434B5C;\n",
              "        box-shadow: 0px 1px 3px 1px rgba(0, 0, 0, 0.15);\n",
              "        filter: drop-shadow(0px 1px 2px rgba(0, 0, 0, 0.3));\n",
              "        fill: #FFFFFF;\n",
              "      }\n",
              "    </style>\n",
              "    <button class=\"colab-df-generate\" onclick=\"generateWithVariable('dataset')\"\n",
              "            title=\"Generate code using this dataframe.\"\n",
              "            style=\"display:none;\">\n",
              "\n",
              "  <svg xmlns=\"http://www.w3.org/2000/svg\" height=\"24px\"viewBox=\"0 0 24 24\"\n",
              "       width=\"24px\">\n",
              "    <path d=\"M7,19H8.4L18.45,9,17,7.55,7,17.6ZM5,21V16.75L18.45,3.32a2,2,0,0,1,2.83,0l1.4,1.43a1.91,1.91,0,0,1,.58,1.4,1.91,1.91,0,0,1-.58,1.4L9.25,21ZM18.45,9,17,7.55Zm-12,3A5.31,5.31,0,0,0,4.9,8.1,5.31,5.31,0,0,0,1,6.5,5.31,5.31,0,0,0,4.9,4.9,5.31,5.31,0,0,0,6.5,1,5.31,5.31,0,0,0,8.1,4.9,5.31,5.31,0,0,0,12,6.5,5.46,5.46,0,0,0,6.5,12Z\"/>\n",
              "  </svg>\n",
              "    </button>\n",
              "    <script>\n",
              "      (() => {\n",
              "      const buttonEl =\n",
              "        document.querySelector('#id_f41802fa-1220-4208-bd0a-fc06797e039f button.colab-df-generate');\n",
              "      buttonEl.style.display =\n",
              "        google.colab.kernel.accessAllowed ? 'block' : 'none';\n",
              "\n",
              "      buttonEl.onclick = () => {\n",
              "        google.colab.notebook.generateWithVariable('dataset');\n",
              "      }\n",
              "      })();\n",
              "    </script>\n",
              "  </div>\n",
              "\n",
              "    </div>\n",
              "  </div>\n"
            ],
            "application/vnd.google.colaboratory.intrinsic+json": {
              "type": "dataframe",
              "variable_name": "dataset",
              "summary": "{\n  \"name\": \"dataset\",\n  \"rows\": 32561,\n  \"fields\": [\n    {\n      \"column\": \"age\",\n      \"properties\": {\n        \"dtype\": \"number\",\n        \"std\": 13,\n        \"min\": 17,\n        \"max\": 90,\n        \"num_unique_values\": 73,\n        \"samples\": [\n          28,\n          73,\n          35\n        ],\n        \"semantic_type\": \"\",\n        \"description\": \"\"\n      }\n    },\n    {\n      \"column\": \"workclass\",\n      \"properties\": {\n        \"dtype\": \"category\",\n        \"num_unique_values\": 9,\n        \"samples\": [\n          \" Without-pay\",\n          \" Self-emp-not-inc\",\n          \" ?\"\n        ],\n        \"semantic_type\": \"\",\n        \"description\": \"\"\n      }\n    },\n    {\n      \"column\": \"final-weight\",\n      \"properties\": {\n        \"dtype\": \"number\",\n        \"std\": 105549,\n        \"min\": 12285,\n        \"max\": 1484705,\n        \"num_unique_values\": 21648,\n        \"samples\": [\n          128485,\n          469907,\n          235951\n        ],\n        \"semantic_type\": \"\",\n        \"description\": \"\"\n      }\n    },\n    {\n      \"column\": \"education\",\n      \"properties\": {\n        \"dtype\": \"category\",\n        \"num_unique_values\": 16,\n        \"samples\": [\n          \" Bachelors\",\n          \" HS-grad\",\n          \" Some-college\"\n        ],\n        \"semantic_type\": \"\",\n        \"description\": \"\"\n      }\n    },\n    {\n      \"column\": \"education-num\",\n      \"properties\": {\n        \"dtype\": \"number\",\n        \"std\": 2,\n        \"min\": 1,\n        \"max\": 16,\n        \"num_unique_values\": 16,\n        \"samples\": [\n          13,\n          9,\n          10\n        ],\n        \"semantic_type\": \"\",\n        \"description\": \"\"\n      }\n    },\n    {\n      \"column\": \"marital-status\",\n      \"properties\": {\n        \"dtype\": \"category\",\n        \"num_unique_values\": 7,\n        \"samples\": [\n          \" Never-married\",\n          \" Married-civ-spouse\",\n          \" Married-AF-spouse\"\n        ],\n        \"semantic_type\": \"\",\n        \"description\": \"\"\n      }\n    },\n    {\n      \"column\": \"occupation\",\n      \"properties\": {\n        \"dtype\": \"category\",\n        \"num_unique_values\": 15,\n        \"samples\": [\n          \" Machine-op-inspct\",\n          \" ?\",\n          \" Adm-clerical\"\n        ],\n        \"semantic_type\": \"\",\n        \"description\": \"\"\n      }\n    },\n    {\n      \"column\": \"relationship\",\n      \"properties\": {\n        \"dtype\": \"category\",\n        \"num_unique_values\": 6,\n        \"samples\": [\n          \" Not-in-family\",\n          \" Husband\",\n          \" Other-relative\"\n        ],\n        \"semantic_type\": \"\",\n        \"description\": \"\"\n      }\n    },\n    {\n      \"column\": \"race\",\n      \"properties\": {\n        \"dtype\": \"category\",\n        \"num_unique_values\": 5,\n        \"samples\": [\n          \" Black\",\n          \" Other\",\n          \" Asian-Pac-Islander\"\n        ],\n        \"semantic_type\": \"\",\n        \"description\": \"\"\n      }\n    },\n    {\n      \"column\": \"sex\",\n      \"properties\": {\n        \"dtype\": \"category\",\n        \"num_unique_values\": 2,\n        \"samples\": [\n          \" Female\",\n          \" Male\"\n        ],\n        \"semantic_type\": \"\",\n        \"description\": \"\"\n      }\n    },\n    {\n      \"column\": \"capital-gain\",\n      \"properties\": {\n        \"dtype\": \"number\",\n        \"std\": 7385,\n        \"min\": 0,\n        \"max\": 99999,\n        \"num_unique_values\": 119,\n        \"samples\": [\n          3781,\n          15831\n        ],\n        \"semantic_type\": \"\",\n        \"description\": \"\"\n      }\n    },\n    {\n      \"column\": \"capital-loos\",\n      \"properties\": {\n        \"dtype\": \"number\",\n        \"std\": 402,\n        \"min\": 0,\n        \"max\": 4356,\n        \"num_unique_values\": 92,\n        \"samples\": [\n          419,\n          2051\n        ],\n        \"semantic_type\": \"\",\n        \"description\": \"\"\n      }\n    },\n    {\n      \"column\": \"hour-per-week\",\n      \"properties\": {\n        \"dtype\": \"number\",\n        \"std\": 12,\n        \"min\": 1,\n        \"max\": 99,\n        \"num_unique_values\": 94,\n        \"samples\": [\n          6,\n          22\n        ],\n        \"semantic_type\": \"\",\n        \"description\": \"\"\n      }\n    },\n    {\n      \"column\": \"native-country\",\n      \"properties\": {\n        \"dtype\": \"category\",\n        \"num_unique_values\": 42,\n        \"samples\": [\n          \" El-Salvador\",\n          \" Philippines\"\n        ],\n        \"semantic_type\": \"\",\n        \"description\": \"\"\n      }\n    },\n    {\n      \"column\": \"income\",\n      \"properties\": {\n        \"dtype\": \"category\",\n        \"num_unique_values\": 2,\n        \"samples\": [\n          \" >50K\",\n          \" <=50K\"\n        ],\n        \"semantic_type\": \"\",\n        \"description\": \"\"\n      }\n    }\n  ]\n}"
            }
          },
          "metadata": {},
          "execution_count": 23
        }
      ]
    },
    {
      "cell_type": "code",
      "source": [
        "#filtrando conteúdo da tabela\n",
        "serie_idade= dataset['age']\n",
        "serie_idade"
      ],
      "metadata": {
        "id": "bZXKqSvcbAM7",
        "outputId": "505869ba-ff7d-47da-bf1c-6ea4a3be1104",
        "colab": {
          "base_uri": "https://localhost:8080/",
          "height": 459
        }
      },
      "execution_count": 24,
      "outputs": [
        {
          "output_type": "execute_result",
          "data": {
            "text/plain": [
              "0        39\n",
              "1        50\n",
              "2        38\n",
              "3        53\n",
              "4        28\n",
              "         ..\n",
              "32556    27\n",
              "32557    40\n",
              "32558    58\n",
              "32559    22\n",
              "32560    52\n",
              "Name: age, Length: 32561, dtype: int64"
            ],
            "text/html": [
              "<div>\n",
              "<style scoped>\n",
              "    .dataframe tbody tr th:only-of-type {\n",
              "        vertical-align: middle;\n",
              "    }\n",
              "\n",
              "    .dataframe tbody tr th {\n",
              "        vertical-align: top;\n",
              "    }\n",
              "\n",
              "    .dataframe thead th {\n",
              "        text-align: right;\n",
              "    }\n",
              "</style>\n",
              "<table border=\"1\" class=\"dataframe\">\n",
              "  <thead>\n",
              "    <tr style=\"text-align: right;\">\n",
              "      <th></th>\n",
              "      <th>age</th>\n",
              "    </tr>\n",
              "  </thead>\n",
              "  <tbody>\n",
              "    <tr>\n",
              "      <th>0</th>\n",
              "      <td>39</td>\n",
              "    </tr>\n",
              "    <tr>\n",
              "      <th>1</th>\n",
              "      <td>50</td>\n",
              "    </tr>\n",
              "    <tr>\n",
              "      <th>2</th>\n",
              "      <td>38</td>\n",
              "    </tr>\n",
              "    <tr>\n",
              "      <th>3</th>\n",
              "      <td>53</td>\n",
              "    </tr>\n",
              "    <tr>\n",
              "      <th>4</th>\n",
              "      <td>28</td>\n",
              "    </tr>\n",
              "    <tr>\n",
              "      <th>...</th>\n",
              "      <td>...</td>\n",
              "    </tr>\n",
              "    <tr>\n",
              "      <th>32556</th>\n",
              "      <td>27</td>\n",
              "    </tr>\n",
              "    <tr>\n",
              "      <th>32557</th>\n",
              "      <td>40</td>\n",
              "    </tr>\n",
              "    <tr>\n",
              "      <th>32558</th>\n",
              "      <td>58</td>\n",
              "    </tr>\n",
              "    <tr>\n",
              "      <th>32559</th>\n",
              "      <td>22</td>\n",
              "    </tr>\n",
              "    <tr>\n",
              "      <th>32560</th>\n",
              "      <td>52</td>\n",
              "    </tr>\n",
              "  </tbody>\n",
              "</table>\n",
              "<p>32561 rows × 1 columns</p>\n",
              "</div><br><label><b>dtype:</b> int64</label>"
            ]
          },
          "metadata": {},
          "execution_count": 24
        }
      ]
    },
    {
      "cell_type": "code",
      "source": [
        "#mostrando apenas os primeiros 10 elementos\n",
        "serie_idade.head(10)"
      ],
      "metadata": {
        "id": "2KlGtlTFbmUK",
        "outputId": "75b8810e-6b9f-4cae-af45-07bb8deb9838",
        "colab": {
          "base_uri": "https://localhost:8080/",
          "height": 398
        }
      },
      "execution_count": 25,
      "outputs": [
        {
          "output_type": "execute_result",
          "data": {
            "text/plain": [
              "0    39\n",
              "1    50\n",
              "2    38\n",
              "3    53\n",
              "4    28\n",
              "5    37\n",
              "6    49\n",
              "7    52\n",
              "8    31\n",
              "9    42\n",
              "Name: age, dtype: int64"
            ],
            "text/html": [
              "<div>\n",
              "<style scoped>\n",
              "    .dataframe tbody tr th:only-of-type {\n",
              "        vertical-align: middle;\n",
              "    }\n",
              "\n",
              "    .dataframe tbody tr th {\n",
              "        vertical-align: top;\n",
              "    }\n",
              "\n",
              "    .dataframe thead th {\n",
              "        text-align: right;\n",
              "    }\n",
              "</style>\n",
              "<table border=\"1\" class=\"dataframe\">\n",
              "  <thead>\n",
              "    <tr style=\"text-align: right;\">\n",
              "      <th></th>\n",
              "      <th>age</th>\n",
              "    </tr>\n",
              "  </thead>\n",
              "  <tbody>\n",
              "    <tr>\n",
              "      <th>0</th>\n",
              "      <td>39</td>\n",
              "    </tr>\n",
              "    <tr>\n",
              "      <th>1</th>\n",
              "      <td>50</td>\n",
              "    </tr>\n",
              "    <tr>\n",
              "      <th>2</th>\n",
              "      <td>38</td>\n",
              "    </tr>\n",
              "    <tr>\n",
              "      <th>3</th>\n",
              "      <td>53</td>\n",
              "    </tr>\n",
              "    <tr>\n",
              "      <th>4</th>\n",
              "      <td>28</td>\n",
              "    </tr>\n",
              "    <tr>\n",
              "      <th>5</th>\n",
              "      <td>37</td>\n",
              "    </tr>\n",
              "    <tr>\n",
              "      <th>6</th>\n",
              "      <td>49</td>\n",
              "    </tr>\n",
              "    <tr>\n",
              "      <th>7</th>\n",
              "      <td>52</td>\n",
              "    </tr>\n",
              "    <tr>\n",
              "      <th>8</th>\n",
              "      <td>31</td>\n",
              "    </tr>\n",
              "    <tr>\n",
              "      <th>9</th>\n",
              "      <td>42</td>\n",
              "    </tr>\n",
              "  </tbody>\n",
              "</table>\n",
              "</div><br><label><b>dtype:</b> int64</label>"
            ]
          },
          "metadata": {},
          "execution_count": 25
        }
      ]
    },
    {
      "cell_type": "code",
      "source": [
        "#utilizando iloc para retornar elementos pelo índice\n",
        "serie_idade.iloc[3]\n"
      ],
      "metadata": {
        "id": "F0jlLWTBcEoa",
        "outputId": "622be870-1ebf-4573-b3a2-f08949944bb3",
        "colab": {
          "base_uri": "https://localhost:8080/"
        }
      },
      "execution_count": 26,
      "outputs": [
        {
          "output_type": "execute_result",
          "data": {
            "text/plain": [
              "53"
            ]
          },
          "metadata": {},
          "execution_count": 26
        }
      ]
    },
    {
      "cell_type": "code",
      "source": [
        "#retornando o último elemento\n",
        "serie_idade.iloc[-1]"
      ],
      "metadata": {
        "id": "CRCkIOxFcmEC",
        "outputId": "509c2ff7-62ed-492e-9ce4-b5e28435b337",
        "colab": {
          "base_uri": "https://localhost:8080/"
        }
      },
      "execution_count": 27,
      "outputs": [
        {
          "output_type": "execute_result",
          "data": {
            "text/plain": [
              "52"
            ]
          },
          "metadata": {},
          "execution_count": 27
        }
      ]
    },
    {
      "cell_type": "code",
      "source": [
        "#intervalo de índices\n",
        "serie_idade.iloc[0:5]"
      ],
      "metadata": {
        "id": "htSF--p4dadz",
        "outputId": "5caac64e-e58b-41e5-e3fc-4ae414b05196",
        "colab": {
          "base_uri": "https://localhost:8080/",
          "height": 241
        }
      },
      "execution_count": 28,
      "outputs": [
        {
          "output_type": "execute_result",
          "data": {
            "text/plain": [
              "0    39\n",
              "1    50\n",
              "2    38\n",
              "3    53\n",
              "4    28\n",
              "Name: age, dtype: int64"
            ],
            "text/html": [
              "<div>\n",
              "<style scoped>\n",
              "    .dataframe tbody tr th:only-of-type {\n",
              "        vertical-align: middle;\n",
              "    }\n",
              "\n",
              "    .dataframe tbody tr th {\n",
              "        vertical-align: top;\n",
              "    }\n",
              "\n",
              "    .dataframe thead th {\n",
              "        text-align: right;\n",
              "    }\n",
              "</style>\n",
              "<table border=\"1\" class=\"dataframe\">\n",
              "  <thead>\n",
              "    <tr style=\"text-align: right;\">\n",
              "      <th></th>\n",
              "      <th>age</th>\n",
              "    </tr>\n",
              "  </thead>\n",
              "  <tbody>\n",
              "    <tr>\n",
              "      <th>0</th>\n",
              "      <td>39</td>\n",
              "    </tr>\n",
              "    <tr>\n",
              "      <th>1</th>\n",
              "      <td>50</td>\n",
              "    </tr>\n",
              "    <tr>\n",
              "      <th>2</th>\n",
              "      <td>38</td>\n",
              "    </tr>\n",
              "    <tr>\n",
              "      <th>3</th>\n",
              "      <td>53</td>\n",
              "    </tr>\n",
              "    <tr>\n",
              "      <th>4</th>\n",
              "      <td>28</td>\n",
              "    </tr>\n",
              "  </tbody>\n",
              "</table>\n",
              "</div><br><label><b>dtype:</b> int64</label>"
            ]
          },
          "metadata": {},
          "execution_count": 28
        }
      ]
    },
    {
      "cell_type": "code",
      "source": [
        "#índices específicos\n",
        "serie_idade.iloc[[0,2,4]]"
      ],
      "metadata": {
        "id": "a2XZvHpXdgaT",
        "outputId": "da4f162e-48dc-4b1b-c985-7051f33b55be",
        "colab": {
          "base_uri": "https://localhost:8080/",
          "height": 178
        }
      },
      "execution_count": 29,
      "outputs": [
        {
          "output_type": "execute_result",
          "data": {
            "text/plain": [
              "0    39\n",
              "2    38\n",
              "4    28\n",
              "Name: age, dtype: int64"
            ],
            "text/html": [
              "<div>\n",
              "<style scoped>\n",
              "    .dataframe tbody tr th:only-of-type {\n",
              "        vertical-align: middle;\n",
              "    }\n",
              "\n",
              "    .dataframe tbody tr th {\n",
              "        vertical-align: top;\n",
              "    }\n",
              "\n",
              "    .dataframe thead th {\n",
              "        text-align: right;\n",
              "    }\n",
              "</style>\n",
              "<table border=\"1\" class=\"dataframe\">\n",
              "  <thead>\n",
              "    <tr style=\"text-align: right;\">\n",
              "      <th></th>\n",
              "      <th>age</th>\n",
              "    </tr>\n",
              "  </thead>\n",
              "  <tbody>\n",
              "    <tr>\n",
              "      <th>0</th>\n",
              "      <td>39</td>\n",
              "    </tr>\n",
              "    <tr>\n",
              "      <th>2</th>\n",
              "      <td>38</td>\n",
              "    </tr>\n",
              "    <tr>\n",
              "      <th>4</th>\n",
              "      <td>28</td>\n",
              "    </tr>\n",
              "  </tbody>\n",
              "</table>\n",
              "</div><br><label><b>dtype:</b> int64</label>"
            ]
          },
          "metadata": {},
          "execution_count": 29
        }
      ]
    },
    {
      "cell_type": "code",
      "source": [
        "lista_idade= []\n",
        "for i in serie_idade.items():\n",
        "  #print(i[0], i[1]) onde i[0] são índicies e i[1] são elementos\n",
        "\n",
        "  #se o elemento (idade) for maior que 50\n",
        "  if i[1] > 50:\n",
        "    lista_idade.append(i[0])\n",
        "\n",
        "print(lista_idade)"
      ],
      "metadata": {
        "id": "_Vvvf0LTeYO6",
        "outputId": "09a6e498-e72c-4d71-e97c-4b8f95b4c6a1",
        "colab": {
          "base_uri": "https://localhost:8080/"
        }
      },
      "execution_count": 30,
      "outputs": [
        {
          "output_type": "stream",
          "name": "stdout",
          "text": [
            "[3, 7, 21, 24, 25, 27, 41, 45, 46, 67, 74, 77, 81, 83, 85, 90, 100, 112, 115, 116, 118, 140, 144, 148, 154, 157, 160, 169, 172, 187, 189, 202, 208, 213, 214, 221, 222, 223, 224, 226, 227, 228, 229, 235, 245, 246, 252, 254, 263, 267, 270, 283, 285, 295, 303, 316, 319, 324, 325, 328, 329, 333, 334, 346, 348, 354, 356, 361, 366, 368, 380, 399, 416, 428, 430, 447, 452, 461, 466, 470, 474, 484, 486, 487, 499, 501, 502, 503, 511, 515, 527, 534, 536, 546, 552, 555, 561, 564, 571, 578, 580, 581, 582, 588, 589, 591, 592, 602, 606, 610, 618, 622, 634, 639, 641, 647, 648, 656, 679, 686, 690, 708, 729, 731, 738, 741, 746, 752, 756, 761, 763, 764, 774, 779, 786, 788, 794, 796, 802, 808, 817, 818, 825, 826, 831, 833, 834, 835, 839, 842, 843, 844, 850, 857, 872, 873, 874, 885, 888, 900, 901, 909, 912, 917, 918, 924, 927, 932, 945, 952, 954, 967, 972, 978, 983, 985, 989, 995, 1005, 1006, 1008, 1010, 1017, 1025, 1034, 1036, 1040, 1046, 1050, 1051, 1053, 1061, 1062, 1082, 1096, 1100, 1113, 1115, 1118, 1119, 1127, 1142, 1144, 1148, 1153, 1161, 1163, 1166, 1168, 1170, 1175, 1185, 1186, 1187, 1190, 1196, 1197, 1205, 1206, 1213, 1215, 1222, 1223, 1229, 1231, 1241, 1243, 1245, 1246, 1250, 1253, 1257, 1261, 1262, 1263, 1275, 1277, 1280, 1282, 1287, 1290, 1291, 1302, 1313, 1320, 1323, 1327, 1333, 1334, 1338, 1341, 1343, 1346, 1349, 1354, 1355, 1361, 1363, 1367, 1368, 1371, 1377, 1378, 1392, 1396, 1397, 1398, 1401, 1413, 1414, 1424, 1429, 1431, 1435, 1441, 1444, 1448, 1451, 1455, 1458, 1465, 1470, 1473, 1481, 1482, 1488, 1493, 1503, 1504, 1506, 1513, 1514, 1517, 1528, 1541, 1543, 1544, 1552, 1554, 1562, 1563, 1575, 1579, 1586, 1590, 1593, 1601, 1603, 1605, 1610, 1613, 1615, 1625, 1626, 1627, 1631, 1635, 1639, 1640, 1643, 1644, 1645, 1649, 1659, 1663, 1668, 1672, 1676, 1688, 1693, 1695, 1699, 1706, 1710, 1721, 1726, 1735, 1739, 1753, 1754, 1758, 1761, 1768, 1772, 1777, 1789, 1799, 1802, 1806, 1808, 1809, 1810, 1812, 1818, 1824, 1825, 1831, 1834, 1836, 1837, 1844, 1851, 1862, 1865, 1875, 1886, 1887, 1890, 1891, 1894, 1901, 1912, 1929, 1935, 1941, 1946, 1951, 1954, 1956, 1957, 1961, 1968, 1980, 1984, 1986, 1997, 1999, 2002, 2003, 2006, 2017, 2031, 2041, 2044, 2047, 2051, 2064, 2067, 2072, 2073, 2076, 2080, 2086, 2093, 2097, 2098, 2099, 2101, 2108, 2109, 2113, 2118, 2136, 2140, 2142, 2143, 2147, 2154, 2155, 2158, 2163, 2169, 2173, 2176, 2177, 2179, 2184, 2189, 2200, 2202, 2213, 2214, 2219, 2221, 2229, 2230, 2236, 2241, 2242, 2244, 2245, 2246, 2247, 2254, 2293, 2294, 2303, 2308, 2309, 2310, 2315, 2317, 2318, 2319, 2324, 2328, 2330, 2334, 2348, 2358, 2371, 2372, 2373, 2374, 2377, 2383, 2385, 2396, 2402, 2403, 2404, 2410, 2416, 2420, 2421, 2424, 2426, 2430, 2431, 2441, 2442, 2456, 2462, 2464, 2478, 2479, 2483, 2486, 2487, 2488, 2489, 2491, 2498, 2502, 2503, 2504, 2505, 2507, 2511, 2517, 2521, 2523, 2524, 2540, 2543, 2548, 2552, 2556, 2558, 2563, 2566, 2569, 2570, 2573, 2578, 2580, 2584, 2585, 2592, 2594, 2599, 2601, 2615, 2626, 2629, 2633, 2634, 2635, 2638, 2646, 2665, 2670, 2676, 2679, 2681, 2682, 2684, 2687, 2690, 2691, 2700, 2702, 2707, 2715, 2718, 2730, 2731, 2737, 2746, 2751, 2752, 2754, 2760, 2762, 2774, 2780, 2781, 2784, 2785, 2790, 2791, 2793, 2810, 2811, 2828, 2830, 2832, 2833, 2837, 2852, 2867, 2877, 2882, 2884, 2885, 2891, 2892, 2897, 2901, 2905, 2906, 2909, 2920, 2922, 2927, 2941, 2955, 2956, 2961, 2967, 2974, 2977, 2983, 2986, 2991, 2999, 3001, 3013, 3017, 3020, 3021, 3022, 3030, 3035, 3036, 3045, 3046, 3048, 3050, 3056, 3057, 3065, 3082, 3089, 3092, 3101, 3107, 3116, 3120, 3125, 3129, 3135, 3137, 3149, 3152, 3153, 3158, 3159, 3163, 3166, 3178, 3184, 3188, 3191, 3192, 3197, 3199, 3209, 3211, 3213, 3217, 3219, 3221, 3224, 3226, 3231, 3232, 3233, 3247, 3270, 3274, 3275, 3278, 3291, 3292, 3297, 3301, 3302, 3307, 3311, 3315, 3324, 3327, 3329, 3335, 3338, 3341, 3360, 3365, 3369, 3387, 3389, 3395, 3399, 3401, 3402, 3407, 3414, 3415, 3427, 3434, 3437, 3438, 3444, 3447, 3461, 3470, 3480, 3485, 3490, 3510, 3511, 3515, 3518, 3519, 3521, 3523, 3533, 3537, 3547, 3552, 3556, 3559, 3562, 3563, 3564, 3567, 3571, 3574, 3577, 3580, 3587, 3588, 3593, 3594, 3600, 3602, 3603, 3606, 3610, 3612, 3620, 3621, 3624, 3631, 3633, 3640, 3642, 3647, 3660, 3661, 3664, 3666, 3671, 3677, 3685, 3689, 3693, 3699, 3700, 3723, 3733, 3749, 3759, 3761, 3765, 3771, 3772, 3773, 3777, 3778, 3779, 3780, 3782, 3788, 3792, 3795, 3796, 3797, 3800, 3808, 3817, 3822, 3830, 3836, 3839, 3842, 3854, 3857, 3861, 3863, 3866, 3867, 3876, 3878, 3880, 3881, 3882, 3883, 3884, 3889, 3894, 3895, 3896, 3900, 3904, 3905, 3906, 3911, 3915, 3920, 3923, 3926, 3927, 3931, 3934, 3940, 3957, 3961, 3963, 3969, 3976, 3980, 3983, 3988, 3990, 3992, 3996, 4000, 4007, 4009, 4018, 4027, 4043, 4048, 4063, 4064, 4065, 4070, 4077, 4082, 4083, 4096, 4101, 4102, 4107, 4109, 4116, 4120, 4125, 4126, 4133, 4144, 4147, 4148, 4155, 4164, 4170, 4176, 4181, 4182, 4185, 4189, 4196, 4197, 4202, 4203, 4207, 4212, 4215, 4227, 4232, 4236, 4238, 4248, 4249, 4270, 4273, 4278, 4281, 4283, 4285, 4288, 4307, 4309, 4315, 4316, 4326, 4329, 4330, 4331, 4344, 4345, 4346, 4349, 4353, 4354, 4376, 4385, 4386, 4387, 4397, 4407, 4408, 4410, 4414, 4418, 4420, 4421, 4422, 4428, 4429, 4430, 4433, 4437, 4438, 4445, 4448, 4449, 4464, 4466, 4473, 4475, 4484, 4486, 4491, 4507, 4518, 4521, 4523, 4524, 4530, 4539, 4549, 4552, 4558, 4565, 4570, 4577, 4581, 4584, 4587, 4597, 4600, 4613, 4627, 4632, 4638, 4641, 4643, 4657, 4673, 4674, 4677, 4686, 4691, 4692, 4699, 4704, 4720, 4721, 4729, 4730, 4743, 4748, 4749, 4750, 4752, 4755, 4759, 4760, 4764, 4766, 4772, 4782, 4793, 4799, 4805, 4812, 4813, 4819, 4822, 4830, 4831, 4832, 4834, 4836, 4841, 4842, 4850, 4851, 4857, 4867, 4890, 4903, 4909, 4948, 4950, 4955, 4959, 4965, 4970, 4974, 4977, 4989, 4999, 5001, 5007, 5009, 5014, 5025, 5026, 5028, 5031, 5035, 5038, 5040, 5044, 5050, 5051, 5053, 5062, 5071, 5072, 5079, 5085, 5089, 5096, 5102, 5103, 5104, 5106, 5109, 5113, 5127, 5129, 5133, 5134, 5141, 5143, 5151, 5155, 5156, 5168, 5177, 5186, 5187, 5189, 5193, 5197, 5198, 5201, 5207, 5214, 5219, 5222, 5223, 5224, 5226, 5231, 5232, 5239, 5244, 5249, 5250, 5264, 5267, 5269, 5272, 5282, 5291, 5294, 5299, 5301, 5326, 5327, 5330, 5331, 5340, 5344, 5359, 5362, 5370, 5374, 5377, 5379, 5385, 5392, 5405, 5406, 5409, 5411, 5416, 5417, 5418, 5421, 5429, 5431, 5433, 5435, 5451, 5456, 5463, 5471, 5474, 5478, 5480, 5488, 5490, 5492, 5497, 5499, 5501, 5513, 5524, 5529, 5536, 5548, 5549, 5551, 5554, 5555, 5561, 5566, 5574, 5575, 5577, 5585, 5588, 5590, 5594, 5595, 5602, 5605, 5608, 5612, 5625, 5631, 5634, 5642, 5651, 5652, 5660, 5663, 5665, 5666, 5668, 5679, 5680, 5681, 5682, 5685, 5686, 5687, 5691, 5695, 5697, 5698, 5701, 5743, 5747, 5749, 5751, 5755, 5757, 5764, 5766, 5773, 5774, 5787, 5789, 5794, 5808, 5813, 5821, 5824, 5827, 5830, 5832, 5834, 5848, 5855, 5861, 5862, 5863, 5866, 5870, 5874, 5881, 5883, 5888, 5903, 5905, 5909, 5916, 5919, 5925, 5936, 5937, 5938, 5940, 5947, 5956, 5958, 5968, 5971, 5975, 5985, 5986, 6000, 6002, 6004, 6008, 6015, 6016, 6020, 6022, 6024, 6030, 6031, 6035, 6039, 6045, 6046, 6050, 6051, 6058, 6071, 6073, 6074, 6075, 6085, 6091, 6092, 6096, 6097, 6098, 6100, 6104, 6110, 6114, 6116, 6117, 6119, 6123, 6127, 6129, 6130, 6134, 6141, 6142, 6144, 6146, 6147, 6157, 6165, 6167, 6169, 6172, 6173, 6178, 6179, 6180, 6184, 6214, 6217, 6220, 6222, 6224, 6227, 6231, 6232, 6233, 6237, 6248, 6255, 6256, 6265, 6270, 6275, 6278, 6279, 6280, 6281, 6298, 6300, 6303, 6304, 6315, 6330, 6332, 6342, 6359, 6362, 6363, 6366, 6369, 6372, 6379, 6382, 6385, 6387, 6401, 6407, 6416, 6424, 6434, 6439, 6442, 6444, 6447, 6449, 6455, 6457, 6460, 6461, 6465, 6467, 6469, 6472, 6484, 6485, 6486, 6490, 6507, 6509, 6510, 6515, 6519, 6526, 6528, 6541, 6543, 6544, 6545, 6556, 6568, 6569, 6572, 6578, 6590, 6592, 6602, 6611, 6621, 6624, 6625, 6631, 6636, 6644, 6648, 6661, 6666, 6679, 6680, 6690, 6697, 6699, 6700, 6701, 6704, 6707, 6714, 6716, 6717, 6721, 6740, 6746, 6748, 6749, 6751, 6753, 6754, 6761, 6762, 6766, 6767, 6773, 6778, 6782, 6790, 6798, 6800, 6802, 6804, 6810, 6814, 6817, 6826, 6834, 6840, 6845, 6846, 6848, 6862, 6864, 6872, 6873, 6881, 6883, 6886, 6896, 6898, 6903, 6905, 6911, 6914, 6915, 6927, 6934, 6935, 6943, 6948, 6959, 6961, 6967, 6972, 6973, 6974, 6979, 6981, 6985, 6988, 6991, 6994, 7004, 7006, 7024, 7027, 7029, 7033, 7034, 7035, 7040, 7047, 7048, 7064, 7066, 7071, 7073, 7085, 7089, 7100, 7121, 7123, 7125, 7130, 7155, 7160, 7167, 7169, 7173, 7179, 7187, 7191, 7193, 7198, 7202, 7209, 7210, 7218, 7223, 7227, 7234, 7246, 7279, 7281, 7285, 7294, 7297, 7299, 7301, 7311, 7312, 7317, 7324, 7327, 7332, 7343, 7354, 7363, 7388, 7397, 7398, 7403, 7405, 7413, 7426, 7427, 7430, 7452, 7460, 7463, 7465, 7468, 7479, 7481, 7482, 7492, 7493, 7498, 7501, 7503, 7505, 7510, 7522, 7526, 7528, 7529, 7546, 7559, 7562, 7571, 7572, 7573, 7588, 7593, 7602, 7604, 7605, 7607, 7634, 7642, 7643, 7645, 7648, 7657, 7660, 7669, 7695, 7697, 7698, 7701, 7702, 7704, 7707, 7710, 7716, 7719, 7720, 7725, 7726, 7739, 7742, 7746, 7748, 7749, 7751, 7758, 7763, 7768, 7772, 7781, 7789, 7803, 7807, 7809, 7812, 7816, 7819, 7822, 7824, 7825, 7826, 7842, 7850, 7855, 7865, 7872, 7879, 7880, 7888, 7896, 7905, 7941, 7942, 7944, 7951, 7968, 7977, 7982, 7986, 8002, 8025, 8036, 8037, 8040, 8046, 8047, 8048, 8052, 8066, 8069, 8073, 8084, 8085, 8088, 8089, 8091, 8096, 8125, 8128, 8130, 8138, 8156, 8157, 8161, 8166, 8167, 8174, 8176, 8179, 8180, 8184, 8187, 8207, 8211, 8214, 8216, 8218, 8231, 8234, 8238, 8240, 8263, 8269, 8272, 8274, 8280, 8285, 8292, 8293, 8301, 8305, 8310, 8311, 8314, 8316, 8318, 8320, 8321, 8329, 8330, 8332, 8334, 8335, 8336, 8337, 8348, 8351, 8362, 8366, 8367, 8370, 8379, 8381, 8385, 8402, 8406, 8409, 8419, 8431, 8436, 8446, 8447, 8449, 8450, 8451, 8452, 8462, 8463, 8472, 8474, 8499, 8508, 8521, 8522, 8528, 8529, 8531, 8536, 8543, 8555, 8567, 8575, 8577, 8581, 8584, 8599, 8603, 8609, 8625, 8627, 8629, 8632, 8635, 8636, 8662, 8672, 8683, 8686, 8687, 8692, 8694, 8704, 8710, 8711, 8713, 8715, 8717, 8724, 8729, 8730, 8745, 8760, 8764, 8768, 8776, 8781, 8786, 8789, 8792, 8793, 8795, 8799, 8801, 8806, 8822, 8824, 8830, 8840, 8841, 8851, 8853, 8860, 8866, 8872, 8887, 8888, 8893, 8896, 8899, 8912, 8913, 8926, 8933, 8935, 8946, 8947, 8948, 8949, 8954, 8956, 8960, 8961, 8963, 8968, 8972, 8973, 8977, 8978, 8983, 8998, 9000, 9001, 9005, 9014, 9016, 9019, 9024, 9028, 9030, 9049, 9055, 9068, 9070, 9071, 9073, 9074, 9082, 9083, 9084, 9091, 9093, 9102, 9103, 9106, 9108, 9123, 9126, 9131, 9135, 9137, 9140, 9142, 9143, 9147, 9154, 9156, 9164, 9166, 9180, 9200, 9206, 9213, 9220, 9232, 9233, 9245, 9251, 9254, 9259, 9265, 9266, 9274, 9282, 9285, 9290, 9291, 9302, 9303, 9306, 9308, 9311, 9324, 9329, 9342, 9347, 9350, 9351, 9355, 9357, 9364, 9372, 9374, 9375, 9377, 9378, 9390, 9396, 9404, 9414, 9418, 9422, 9425, 9426, 9432, 9433, 9439, 9449, 9458, 9464, 9471, 9476, 9482, 9487, 9493, 9494, 9498, 9501, 9509, 9520, 9529, 9531, 9536, 9538, 9539, 9546, 9549, 9561, 9567, 9568, 9587, 9588, 9592, 9595, 9597, 9602, 9606, 9612, 9613, 9615, 9617, 9623, 9626, 9633, 9634, 9638, 9642, 9643, 9646, 9650, 9658, 9664, 9674, 9676, 9683, 9684, 9686, 9689, 9695, 9703, 9705, 9716, 9722, 9723, 9725, 9731, 9733, 9735, 9736, 9742, 9749, 9769, 9770, 9777, 9778, 9781, 9790, 9791, 9799, 9806, 9807, 9816, 9818, 9824, 9827, 9828, 9831, 9833, 9836, 9839, 9848, 9852, 9854, 9857, 9862, 9863, 9866, 9871, 9872, 9874, 9877, 9879, 9881, 9885, 9890, 9897, 9899, 9904, 9907, 9910, 9924, 9925, 9926, 9936, 9945, 9953, 9956, 9967, 9973, 9987, 9991, 9993, 10002, 10005, 10008, 10009, 10010, 10013, 10015, 10035, 10052, 10060, 10065, 10067, 10073, 10077, 10079, 10098, 10102, 10104, 10105, 10109, 10116, 10124, 10133, 10137, 10139, 10140, 10144, 10150, 10151, 10155, 10159, 10160, 10166, 10172, 10177, 10186, 10192, 10193, 10203, 10210, 10218, 10219, 10231, 10245, 10246, 10248, 10252, 10255, 10264, 10266, 10272, 10276, 10283, 10284, 10286, 10287, 10290, 10291, 10298, 10303, 10310, 10313, 10328, 10337, 10338, 10342, 10350, 10363, 10390, 10394, 10396, 10397, 10401, 10411, 10416, 10417, 10422, 10423, 10424, 10425, 10437, 10444, 10446, 10448, 10455, 10458, 10460, 10465, 10467, 10470, 10476, 10480, 10483, 10489, 10498, 10499, 10518, 10522, 10528, 10530, 10531, 10532, 10538, 10540, 10545, 10546, 10556, 10575, 10576, 10577, 10578, 10582, 10609, 10612, 10615, 10616, 10618, 10624, 10634, 10639, 10658, 10659, 10660, 10661, 10670, 10672, 10673, 10681, 10684, 10688, 10691, 10695, 10700, 10709, 10715, 10716, 10727, 10728, 10737, 10740, 10745, 10750, 10758, 10776, 10777, 10780, 10781, 10787, 10793, 10798, 10801, 10802, 10807, 10811, 10828, 10842, 10864, 10874, 10876, 10879, 10894, 10905, 10908, 10915, 10919, 10927, 10930, 10935, 10941, 10942, 10947, 10948, 10954, 10958, 10963, 10964, 10965, 10966, 10971, 10980, 10989, 10998, 11007, 11008, 11016, 11017, 11021, 11023, 11027, 11039, 11049, 11050, 11059, 11060, 11062, 11071, 11074, 11075, 11087, 11090, 11093, 11099, 11101, 11113, 11114, 11116, 11137, 11143, 11144, 11172, 11180, 11187, 11189, 11196, 11198, 11201, 11205, 11206, 11207, 11211, 11213, 11216, 11219, 11220, 11222, 11227, 11230, 11238, 11245, 11260, 11261, 11264, 11271, 11278, 11280, 11286, 11292, 11294, 11297, 11299, 11308, 11314, 11315, 11316, 11317, 11318, 11321, 11322, 11324, 11330, 11334, 11352, 11355, 11358, 11360, 11370, 11371, 11376, 11381, 11391, 11393, 11410, 11428, 11431, 11435, 11440, 11446, 11456, 11457, 11461, 11464, 11468, 11474, 11478, 11484, 11487, 11499, 11506, 11509, 11512, 11515, 11527, 11532, 11536, 11541, 11543, 11545, 11552, 11559, 11561, 11566, 11567, 11569, 11580, 11581, 11582, 11584, 11589, 11596, 11613, 11615, 11616, 11618, 11619, 11620, 11621, 11622, 11623, 11632, 11637, 11656, 11659, 11663, 11682, 11685, 11688, 11693, 11697, 11701, 11707, 11720, 11723, 11731, 11732, 11734, 11750, 11752, 11754, 11757, 11758, 11759, 11761, 11770, 11773, 11777, 11790, 11793, 11796, 11798, 11811, 11826, 11833, 11837, 11840, 11849, 11853, 11854, 11857, 11865, 11875, 11876, 11881, 11890, 11904, 11905, 11907, 11914, 11924, 11939, 11941, 11946, 11956, 11959, 11962, 11964, 11966, 11967, 11969, 11972, 11974, 11990, 11996, 12011, 12013, 12017, 12024, 12026, 12029, 12031, 12035, 12050, 12052, 12054, 12055, 12064, 12065, 12067, 12077, 12083, 12086, 12090, 12092, 12100, 12103, 12113, 12118, 12119, 12121, 12130, 12132, 12134, 12137, 12142, 12145, 12155, 12159, 12163, 12166, 12173, 12174, 12182, 12187, 12193, 12194, 12200, 12205, 12209, 12216, 12217, 12219, 12225, 12226, 12230, 12243, 12244, 12247, 12250, 12254, 12256, 12262, 12270, 12281, 12291, 12299, 12304, 12306, 12312, 12313, 12315, 12317, 12322, 12326, 12330, 12334, 12335, 12345, 12352, 12354, 12360, 12370, 12374, 12375, 12395, 12406, 12407, 12408, 12416, 12425, 12428, 12435, 12442, 12451, 12455, 12458, 12476, 12479, 12486, 12492, 12500, 12518, 12525, 12529, 12537, 12539, 12552, 12562, 12563, 12564, 12568, 12572, 12574, 12576, 12580, 12589, 12591, 12592, 12597, 12600, 12605, 12615, 12621, 12622, 12624, 12625, 12627, 12636, 12637, 12638, 12668, 12670, 12674, 12685, 12686, 12687, 12693, 12696, 12703, 12707, 12713, 12717, 12719, 12720, 12736, 12739, 12744, 12748, 12749, 12753, 12762, 12781, 12792, 12797, 12799, 12803, 12804, 12806, 12811, 12812, 12827, 12828, 12830, 12837, 12841, 12843, 12856, 12857, 12860, 12861, 12865, 12878, 12880, 12883, 12884, 12891, 12904, 12906, 12908, 12909, 12910, 12918, 12919, 12930, 12932, 12936, 12938, 12939, 12943, 12945, 12946, 12957, 12967, 12975, 12984, 12986, 12991, 12994, 12998, 13001, 13003, 13013, 13015, 13022, 13023, 13025, 13026, 13028, 13030, 13035, 13038, 13041, 13042, 13055, 13060, 13068, 13074, 13077, 13078, 13083, 13090, 13101, 13104, 13107, 13112, 13120, 13121, 13125, 13130, 13131, 13133, 13146, 13161, 13166, 13169, 13170, 13181, 13182, 13193, 13198, 13199, 13203, 13207, 13209, 13210, 13216, 13219, 13227, 13229, 13234, 13236, 13243, 13248, 13255, 13256, 13263, 13274, 13278, 13284, 13285, 13290, 13291, 13295, 13303, 13304, 13321, 13326, 13330, 13341, 13343, 13349, 13353, 13357, 13366, 13367, 13384, 13385, 13390, 13391, 13392, 13411, 13419, 13422, 13425, 13448, 13454, 13457, 13462, 13467, 13470, 13474, 13482, 13483, 13493, 13495, 13497, 13498, 13500, 13504, 13508, 13510, 13512, 13529, 13532, 13535, 13541, 13542, 13543, 13547, 13549, 13557, 13563, 13568, 13577, 13581, 13587, 13600, 13609, 13623, 13633, 13636, 13646, 13651, 13652, 13662, 13664, 13668, 13675, 13677, 13680, 13682, 13691, 13694, 13696, 13701, 13708, 13709, 13711, 13720, 13741, 13762, 13763, 13765, 13766, 13772, 13776, 13777, 13784, 13785, 13786, 13788, 13790, 13791, 13798, 13803, 13804, 13811, 13818, 13820, 13824, 13825, 13830, 13832, 13845, 13848, 13856, 13865, 13866, 13868, 13870, 13871, 13873, 13879, 13880, 13884, 13888, 13892, 13896, 13901, 13907, 13910, 13914, 13916, 13918, 13921, 13922, 13927, 13928, 13935, 13949, 13950, 13952, 13957, 13963, 13965, 13972, 13977, 13989, 14000, 14004, 14005, 14022, 14031, 14044, 14045, 14046, 14047, 14064, 14066, 14068, 14070, 14073, 14076, 14078, 14083, 14088, 14089, 14096, 14097, 14099, 14104, 14105, 14109, 14110, 14118, 14121, 14141, 14144, 14145, 14150, 14155, 14158, 14159, 14166, 14168, 14169, 14178, 14180, 14182, 14190, 14192, 14197, 14198, 14199, 14204, 14207, 14209, 14210, 14217, 14222, 14228, 14230, 14238, 14239, 14247, 14250, 14251, 14255, 14266, 14272, 14285, 14287, 14288, 14289, 14292, 14293, 14295, 14300, 14327, 14329, 14330, 14332, 14334, 14343, 14356, 14361, 14378, 14381, 14384, 14386, 14397, 14399, 14405, 14412, 14415, 14418, 14420, 14421, 14426, 14429, 14473, 14480, 14482, 14491, 14498, 14500, 14505, 14506, 14513, 14518, 14528, 14529, 14536, 14540, 14549, 14552, 14554, 14559, 14561, 14564, 14567, 14570, 14571, 14573, 14574, 14579, 14580, 14583, 14584, 14594, 14602, 14604, 14605, 14606, 14611, 14615, 14620, 14629, 14642, 14648, 14662, 14664, 14673, 14674, 14676, 14687, 14689, 14695, 14701, 14705, 14706, 14711, 14713, 14717, 14718, 14721, 14725, 14727, 14737, 14753, 14756, 14757, 14770, 14774, 14782, 14791, 14795, 14801, 14803, 14809, 14812, 14814, 14821, 14826, 14830, 14832, 14836, 14842, 14844, 14846, 14847, 14849, 14855, 14857, 14860, 14861, 14870, 14877, 14879, 14884, 14885, 14887, 14900, 14903, 14905, 14906, 14911, 14913, 14918, 14938, 14940, 14941, 14942, 14950, 14953, 14955, 14956, 14958, 14969, 14979, 14982, 14987, 14990, 15002, 15012, 15016, 15018, 15020, 15028, 15036, 15055, 15067, 15072, 15075, 15080, 15083, 15085, 15087, 15088, 15095, 15098, 15099, 15100, 15101, 15102, 15106, 15109, 15116, 15121, 15122, 15127, 15131, 15159, 15160, 15165, 15171, 15176, 15179, 15190, 15195, 15201, 15220, 15225, 15229, 15230, 15232, 15238, 15250, 15251, 15252, 15256, 15257, 15259, 15260, 15264, 15265, 15269, 15270, 15271, 15279, 15283, 15284, 15285, 15286, 15296, 15300, 15305, 15309, 15313, 15315, 15317, 15320, 15330, 15331, 15335, 15345, 15352, 15356, 15371, 15372, 15376, 15378, 15382, 15383, 15389, 15390, 15396, 15408, 15409, 15417, 15420, 15424, 15440, 15441, 15452, 15458, 15461, 15469, 15471, 15472, 15477, 15479, 15485, 15486, 15493, 15494, 15496, 15497, 15498, 15503, 15514, 15516, 15521, 15532, 15535, 15543, 15545, 15548, 15549, 15560, 15561, 15567, 15574, 15576, 15579, 15588, 15592, 15593, 15596, 15598, 15600, 15609, 15612, 15622, 15625, 15626, 15627, 15632, 15633, 15641, 15643, 15650, 15652, 15660, 15661, 15662, 15667, 15668, 15672, 15684, 15686, 15690, 15693, 15699, 15706, 15718, 15719, 15734, 15741, 15745, 15748, 15755, 15757, 15760, 15773, 15775, 15779, 15788, 15809, 15817, 15818, 15826, 15828, 15830, 15832, 15836, 15844, 15846, 15853, 15857, 15860, 15869, 15873, 15875, 15880, 15890, 15891, 15892, 15893, 15905, 15906, 15909, 15914, 15918, 15924, 15927, 15928, 15930, 15932, 15933, 15938, 15941, 15944, 15948, 15950, 15955, 15956, 15959, 15960, 15964, 15971, 15975, 15981, 15984, 15995, 15996, 15997, 16004, 16005, 16015, 16018, 16020, 16024, 16044, 16046, 16048, 16050, 16051, 16052, 16053, 16060, 16063, 16067, 16071, 16076, 16079, 16086, 16088, 16092, 16093, 16101, 16103, 16108, 16112, 16113, 16114, 16117, 16120, 16124, 16134, 16136, 16138, 16139, 16142, 16159, 16160, 16164, 16166, 16169, 16178, 16181, 16182, 16183, 16188, 16196, 16197, 16198, 16201, 16210, 16217, 16225, 16227, 16229, 16234, 16235, 16238, 16243, 16248, 16251, 16252, 16255, 16261, 16265, 16270, 16272, 16281, 16284, 16285, 16302, 16310, 16314, 16321, 16323, 16324, 16327, 16334, 16341, 16342, 16345, 16348, 16350, 16352, 16362, 16364, 16365, 16368, 16372, 16377, 16392, 16403, 16404, 16411, 16423, 16425, 16426, 16430, 16437, 16438, 16445, 16454, 16457, 16461, 16464, 16466, 16471, 16474, 16476, 16477, 16486, 16490, 16492, 16494, 16496, 16497, 16498, 16499, 16500, 16508, 16513, 16514, 16520, 16523, 16524, 16543, 16556, 16569, 16571, 16588, 16591, 16593, 16594, 16602, 16604, 16610, 16611, 16613, 16621, 16625, 16634, 16637, 16648, 16651, 16656, 16665, 16682, 16685, 16694, 16697, 16700, 16705, 16712, 16716, 16720, 16744, 16747, 16751, 16762, 16763, 16764, 16776, 16788, 16790, 16795, 16798, 16800, 16801, 16817, 16818, 16835, 16844, 16856, 16861, 16865, 16868, 16870, 16875, 16887, 16893, 16895, 16901, 16902, 16905, 16908, 16916, 16942, 16946, 16950, 16960, 16963, 16971, 16979, 16980, 16981, 16982, 16984, 16985, 16993, 17003, 17004, 17005, 17006, 17015, 17027, 17035, 17045, 17046, 17047, 17048, 17050, 17051, 17054, 17056, 17060, 17069, 17075, 17077, 17092, 17102, 17108, 17113, 17115, 17121, 17127, 17130, 17132, 17146, 17157, 17163, 17168, 17172, 17173, 17181, 17182, 17183, 17187, 17188, 17196, 17197, 17198, 17209, 17211, 17212, 17213, 17227, 17231, 17234, 17237, 17240, 17244, 17245, 17248, 17254, 17259, 17260, 17269, 17273, 17275, 17283, 17286, 17287, 17293, 17299, 17302, 17305, 17308, 17314, 17315, 17316, 17336, 17345, 17346, 17368, 17374, 17377, 17392, 17396, 17400, 17407, 17416, 17420, 17434, 17435, 17438, 17443, 17451, 17454, 17458, 17462, 17464, 17476, 17480, 17488, 17489, 17490, 17494, 17497, 17498, 17500, 17501, 17505, 17516, 17523, 17528, 17532, 17535, 17541, 17544, 17547, 17548, 17557, 17563, 17568, 17571, 17574, 17587, 17591, 17592, 17594, 17596, 17599, 17602, 17609, 17610, 17612, 17613, 17628, 17633, 17639, 17640, 17641, 17644, 17654, 17664, 17665, 17666, 17672, 17675, 17676, 17693, 17702, 17707, 17721, 17724, 17725, 17732, 17734, 17745, 17748, 17754, 17761, 17764, 17766, 17771, 17775, 17795, 17797, 17805, 17816, 17817, 17820, 17821, 17825, 17828, 17831, 17832, 17837, 17842, 17843, 17856, 17876, 17877, 17881, 17885, 17896, 17898, 17900, 17901, 17902, 17903, 17905, 17908, 17920, 17930, 17932, 17937, 17941, 17945, 17950, 17954, 17957, 17962, 17965, 17969, 17981, 17984, 17986, 17987, 17988, 17989, 18006, 18008, 18015, 18021, 18023, 18027, 18032, 18037, 18040, 18041, 18047, 18051, 18052, 18060, 18061, 18073, 18075, 18095, 18097, 18102, 18109, 18111, 18119, 18126, 18141, 18147, 18155, 18157, 18161, 18170, 18172, 18175, 18177, 18186, 18190, 18191, 18193, 18194, 18197, 18201, 18203, 18204, 18209, 18215, 18216, 18223, 18228, 18230, 18232, 18234, 18239, 18240, 18241, 18251, 18266, 18272, 18277, 18278, 18279, 18280, 18286, 18292, 18303, 18313, 18314, 18321, 18331, 18336, 18340, 18342, 18358, 18366, 18367, 18381, 18386, 18387, 18393, 18409, 18413, 18425, 18434, 18439, 18440, 18448, 18451, 18452, 18453, 18455, 18457, 18458, 18463, 18465, 18466, 18473, 18485, 18489, 18491, 18492, 18496, 18498, 18500, 18501, 18514, 18519, 18522, 18528, 18532, 18534, 18536, 18541, 18542, 18544, 18550, 18557, 18560, 18562, 18566, 18569, 18571, 18572, 18575, 18586, 18591, 18595, 18596, 18597, 18607, 18610, 18618, 18619, 18621, 18622, 18627, 18639, 18641, 18649, 18651, 18660, 18662, 18678, 18684, 18685, 18688, 18691, 18693, 18696, 18697, 18703, 18706, 18709, 18711, 18720, 18725, 18728, 18730, 18735, 18736, 18738, 18739, 18755, 18764, 18777, 18787, 18788, 18794, 18796, 18806, 18817, 18820, 18832, 18839, 18847, 18858, 18861, 18864, 18867, 18871, 18886, 18888, 18890, 18893, 18899, 18902, 18908, 18911, 18914, 18925, 18930, 18931, 18932, 18934, 18940, 18943, 18953, 18958, 18975, 18980, 18984, 18990, 18994, 18996, 18997, 19001, 19007, 19011, 19023, 19028, 19031, 19038, 19041, 19045, 19054, 19055, 19059, 19060, 19066, 19068, 19069, 19070, 19071, 19076, 19077, 19078, 19082, 19083, 19084, 19085, 19089, 19097, 19101, 19107, 19112, 19114, 19124, 19126, 19129, 19130, 19132, 19133, 19141, 19143, 19146, 19151, 19152, 19165, 19168, 19170, 19172, 19178, 19179, 19180, 19182, 19187, 19194, 19195, 19201, 19204, 19212, 19216, 19220, 19223, 19228, 19240, 19242, 19246, 19250, 19252, 19263, 19264, 19266, 19270, 19275, 19277, 19281, 19283, 19293, 19296, 19298, 19304, 19324, 19325, 19333, 19335, 19337, 19339, 19348, 19353, 19354, 19369, 19370, 19381, 19382, 19383, 19386, 19388, 19394, 19400, 19433, 19434, 19438, 19445, 19457, 19458, 19459, 19462, 19463, 19472, 19474, 19479, 19483, 19489, 19490, 19492, 19495, 19497, 19498, 19510, 19515, 19519, 19520, 19544, 19548, 19551, 19552, 19553, 19562, 19563, 19566, 19571, 19574, 19576, 19584, 19587, 19595, 19598, 19599, 19600, 19602, 19615, 19617, 19620, 19627, 19633, 19636, 19650, 19653, 19663, 19664, 19665, 19670, 19672, 19676, 19688, 19689, 19691, 19700, 19707, 19708, 19709, 19710, 19712, 19715, 19719, 19733, 19744, 19747, 19748, 19765, 19768, 19770, 19772, 19778, 19780, 19781, 19783, 19790, 19795, 19796, 19797, 19814, 19817, 19819, 19825, 19828, 19829, 19831, 19835, 19841, 19842, 19849, 19858, 19861, 19863, 19865, 19868, 19870, 19872, 19874, 19887, 19895, 19899, 19900, 19909, 19912, 19919, 19920, 19921, 19927, 19928, 19930, 19936, 19937, 19942, 19943, 19945, 19948, 19957, 19965, 19983, 19997, 19998, 20000, 20003, 20004, 20009, 20014, 20015, 20017, 20019, 20025, 20031, 20035, 20036, 20042, 20044, 20049, 20051, 20057, 20061, 20067, 20072, 20073, 20079, 20081, 20082, 20083, 20090, 20095, 20100, 20101, 20105, 20106, 20107, 20114, 20117, 20120, 20125, 20137, 20145, 20152, 20159, 20162, 20164, 20167, 20168, 20170, 20172, 20173, 20176, 20179, 20180, 20181, 20184, 20188, 20201, 20205, 20215, 20231, 20233, 20234, 20241, 20246, 20249, 20250, 20251, 20253, 20254, 20259, 20261, 20268, 20272, 20285, 20309, 20321, 20324, 20327, 20328, 20333, 20338, 20340, 20344, 20347, 20356, 20364, 20370, 20379, 20382, 20390, 20393, 20399, 20407, 20412, 20414, 20416, 20419, 20421, 20424, 20427, 20432, 20434, 20435, 20440, 20457, 20458, 20461, 20462, 20463, 20464, 20467, 20468, 20479, 20480, 20482, 20483, 20484, 20489, 20490, 20492, 20497, 20502, 20504, 20513, 20516, 20518, 20527, 20537, 20540, 20541, 20563, 20568, 20576, 20582, 20583, 20584, 20586, 20592, 20595, 20608, 20610, 20644, 20651, 20654, 20655, 20659, 20661, 20662, 20664, 20668, 20680, 20681, 20682, 20692, 20701, 20702, 20704, 20713, 20716, 20724, 20737, 20739, 20742, 20765, 20766, 20772, 20775, 20788, 20789, 20793, 20800, 20802, 20806, 20807, 20814, 20817, 20818, 20826, 20828, 20829, 20832, 20837, 20841, 20842, 20843, 20849, 20853, 20857, 20858, 20861, 20865, 20868, 20871, 20878, 20879, 20880, 20882, 20889, 20891, 20906, 20908, 20909, 20915, 20917, 20928, 20931, 20933, 20948, 20951, 20953, 20958, 20975, 20982, 20987, 20990, 20992, 20994, 20999, 21005, 21007, 21014, 21019, 21037, 21044, 21047, 21049, 21055, 21056, 21063, 21072, 21084, 21087, 21090, 21095, 21097, 21104, 21110, 21113, 21119, 21121, 21124, 21126, 21131, 21133, 21135, 21136, 21142, 21143, 21148, 21151, 21156, 21157, 21159, 21172, 21174, 21175, 21176, 21183, 21192, 21195, 21198, 21203, 21209, 21213, 21215, 21222, 21224, 21225, 21227, 21231, 21232, 21234, 21243, 21244, 21246, 21248, 21254, 21255, 21258, 21260, 21263, 21281, 21282, 21289, 21290, 21292, 21312, 21320, 21340, 21341, 21343, 21345, 21356, 21367, 21370, 21376, 21377, 21380, 21382, 21387, 21390, 21402, 21408, 21410, 21411, 21419, 21422, 21425, 21427, 21430, 21433, 21434, 21435, 21451, 21457, 21469, 21470, 21473, 21475, 21478, 21481, 21489, 21491, 21501, 21504, 21516, 21518, 21523, 21530, 21537, 21543, 21548, 21561, 21568, 21573, 21595, 21599, 21614, 21616, 21618, 21630, 21631, 21636, 21637, 21641, 21644, 21648, 21654, 21657, 21663, 21669, 21671, 21672, 21686, 21687, 21706, 21710, 21725, 21729, 21739, 21745, 21746, 21749, 21761, 21762, 21763, 21764, 21768, 21775, 21776, 21782, 21805, 21806, 21812, 21814, 21819, 21826, 21828, 21830, 21834, 21835, 21836, 21840, 21842, 21850, 21860, 21865, 21871, 21874, 21879, 21883, 21884, 21892, 21895, 21899, 21907, 21916, 21917, 21920, 21933, 21934, 21944, 21960, 21968, 21972, 21975, 21988, 21990, 21992, 21993, 21998, 22003, 22006, 22011, 22013, 22031, 22035, 22042, 22044, 22046, 22052, 22057, 22060, 22062, 22063, 22068, 22071, 22087, 22103, 22109, 22111, 22121, 22124, 22128, 22130, 22133, 22144, 22153, 22164, 22166, 22177, 22183, 22187, 22194, 22196, 22200, 22207, 22210, 22212, 22217, 22220, 22227, 22228, 22237, 22247, 22254, 22259, 22266, 22268, 22271, 22273, 22280, 22283, 22284, 22286, 22288, 22295, 22306, 22315, 22325, 22328, 22329, 22330, 22340, 22343, 22345, 22348, 22353, 22357, 22362, 22382, 22389, 22393, 22402, 22403, 22411, 22412, 22413, 22418, 22422, 22431, 22452, 22454, 22462, 22471, 22476, 22481, 22486, 22492, 22493, 22495, 22503, 22511, 22518, 22532, 22535, 22536, 22544, 22545, 22556, 22557, 22559, 22565, 22571, 22574, 22575, 22580, 22585, 22586, 22587, 22596, 22600, 22601, 22602, 22622, 22623, 22631, 22635, 22637, 22643, 22650, 22651, 22657, 22658, 22662, 22675, 22683, 22684, 22685, 22697, 22701, 22704, 22708, 22713, 22718, 22731, 22749, 22754, 22759, 22765, 22766, 22768, 22775, 22781, 22787, 22796, 22807, 22829, 22835, 22838, 22840, 22843, 22844, 22845, 22856, 22865, 22866, 22868, 22876, 22895, 22898, 22902, 22907, 22914, 22916, 22918, 22919, 22922, 22923, 22925, 22926, 22930, 22933, 22945, 22951, 22953, 22955, 22970, 22971, 22976, 22977, 22981, 22983, 22984, 22987, 22989, 22995, 23008, 23012, 23017, 23019, 23027, 23029, 23044, 23049, 23051, 23052, 23053, 23054, 23068, 23077, 23087, 23088, 23091, 23100, 23105, 23106, 23111, 23128, 23134, 23142, 23157, 23159, 23164, 23182, 23189, 23190, 23215, 23216, 23222, 23226, 23233, 23234, 23236, 23244, 23246, 23248, 23256, 23257, 23261, 23266, 23276, 23282, 23285, 23288, 23294, 23302, 23303, 23304, 23309, 23310, 23313, 23320, 23327, 23336, 23344, 23354, 23365, 23366, 23368, 23371, 23378, 23381, 23388, 23398, 23399, 23418, 23420, 23421, 23422, 23424, 23426, 23455, 23459, 23460, 23463, 23464, 23465, 23474, 23476, 23480, 23483, 23495, 23497, 23498, 23509, 23512, 23515, 23527, 23528, 23533, 23535, 23536, 23549, 23550, 23552, 23553, 23562, 23571, 23573, 23577, 23578, 23585, 23589, 23590, 23592, 23594, 23595, 23597, 23599, 23604, 23607, 23611, 23616, 23621, 23623, 23628, 23631, 23636, 23639, 23641, 23650, 23651, 23661, 23664, 23665, 23671, 23677, 23678, 23681, 23683, 23709, 23711, 23712, 23722, 23726, 23731, 23735, 23740, 23741, 23742, 23744, 23750, 23755, 23758, 23760, 23769, 23772, 23774, 23778, 23783, 23784, 23790, 23798, 23800, 23815, 23818, 23819, 23825, 23833, 23835, 23836, 23847, 23853, 23860, 23864, 23865, 23868, 23872, 23876, 23877, 23878, 23880, 23888, 23889, 23898, 23900, 23914, 23926, 23932, 23933, 23938, 23943, 23948, 23952, 23956, 23958, 23961, 23980, 23981, 23983, 23991, 23995, 23998, 24003, 24004, 24015, 24017, 24018, 24021, 24027, 24035, 24041, 24042, 24043, 24044, 24052, 24054, 24060, 24061, 24063, 24081, 24084, 24088, 24090, 24095, 24100, 24103, 24104, 24107, 24112, 24132, 24136, 24138, 24140, 24146, 24147, 24155, 24161, 24169, 24172, 24175, 24190, 24191, 24199, 24201, 24205, 24209, 24210, 24211, 24215, 24222, 24230, 24232, 24238, 24240, 24246, 24247, 24248, 24254, 24257, 24259, 24264, 24266, 24270, 24271, 24274, 24279, 24280, 24284, 24286, 24290, 24291, 24296, 24298, 24302, 24306, 24314, 24315, 24316, 24317, 24323, 24328, 24329, 24336, 24337, 24343, 24354, 24356, 24361, 24369, 24370, 24371, 24372, 24384, 24385, 24386, 24395, 24401, 24405, 24407, 24409, 24412, 24415, 24422, 24423, 24427, 24429, 24435, 24439, 24440, 24442, 24447, 24456, 24458, 24468, 24470, 24471, 24473, 24482, 24484, 24485, 24489, 24493, 24498, 24504, 24505, 24507, 24511, 24521, 24523, 24527, 24530, 24534, 24552, 24557, 24560, 24568, 24576, 24588, 24596, 24601, 24602, 24614, 24621, 24628, 24629, 24641, 24643, 24650, 24659, 24663, 24681, 24689, 24690, 24699, 24704, 24713, 24718, 24735, 24737, 24738, 24740, 24744, 24746, 24756, 24759, 24761, 24762, 24763, 24767, 24770, 24774, 24777, 24780, 24787, 24788, 24791, 24793, 24799, 24813, 24835, 24842, 24843, 24847, 24857, 24858, 24863, 24864, 24874, 24875, 24876, 24880, 24888, 24891, 24892, 24894, 24899, 24902, 24903, 24910, 24911, 24914, 24921, 24922, 24923, 24924, 24925, 24926, 24933, 24939, 24940, 24945, 24946, 24961, 24966, 24968, 24970, 24975, 24987, 24990, 24994, 25007, 25012, 25017, 25025, 25026, 25036, 25053, 25068, 25070, 25071, 25072, 25078, 25097, 25098, 25102, 25106, 25118, 25125, 25126, 25145, 25158, 25161, 25163, 25173, 25186, 25188, 25189, 25195, 25202, 25212, 25219, 25225, 25238, 25242, 25246, 25256, 25259, 25264, 25266, 25270, 25273, 25279, 25282, 25283, 25287, 25290, 25295, 25296, 25297, 25300, 25302, 25303, 25305, 25306, 25307, 25315, 25319, 25321, 25327, 25336, 25337, 25338, 25351, 25352, 25354, 25368, 25372, 25378, 25380, 25392, 25395, 25397, 25404, 25405, 25416, 25419, 25421, 25424, 25427, 25434, 25436, 25437, 25438, 25441, 25442, 25444, 25445, 25454, 25456, 25457, 25462, 25465, 25476, 25479, 25481, 25491, 25492, 25496, 25498, 25504, 25509, 25514, 25516, 25522, 25526, 25527, 25528, 25537, 25544, 25548, 25549, 25551, 25554, 25558, 25560, 25568, 25569, 25573, 25578, 25591, 25597, 25600, 25605, 25607, 25610, 25612, 25614, 25623, 25628, 25631, 25633, 25635, 25641, 25657, 25659, 25662, 25668, 25676, 25687, 25691, 25697, 25702, 25707, 25710, 25712, 25718, 25724, 25728, 25731, 25732, 25736, 25750, 25758, 25762, 25764, 25772, 25777, 25786, 25789, 25795, 25800, 25802, 25803, 25809, 25811, 25812, 25813, 25814, 25815, 25819, 25825, 25828, 25830, 25837, 25839, 25846, 25847, 25849, 25853, 25861, 25866, 25867, 25868, 25871, 25875, 25876, 25877, 25884, 25886, 25890, 25893, 25902, 25910, 25912, 25914, 25919, 25921, 25930, 25932, 25950, 25958, 25959, 25963, 25971, 25973, 25976, 25979, 25981, 25985, 25989, 25992, 25993, 25995, 25996, 26001, 26004, 26010, 26012, 26014, 26029, 26033, 26034, 26038, 26059, 26060, 26067, 26068, 26073, 26083, 26084, 26089, 26093, 26105, 26110, 26113, 26130, 26138, 26150, 26151, 26154, 26155, 26159, 26163, 26166, 26172, 26174, 26177, 26180, 26187, 26188, 26194, 26206, 26229, 26230, 26232, 26237, 26242, 26246, 26248, 26249, 26260, 26262, 26275, 26287, 26296, 26304, 26308, 26309, 26312, 26318, 26323, 26327, 26332, 26334, 26336, 26347, 26348, 26358, 26360, 26366, 26378, 26379, 26381, 26383, 26405, 26407, 26411, 26414, 26422, 26431, 26441, 26442, 26453, 26458, 26462, 26464, 26467, 26478, 26482, 26486, 26493, 26498, 26500, 26501, 26502, 26503, 26506, 26512, 26513, 26522, 26532, 26534, 26539, 26541, 26546, 26547, 26549, 26551, 26552, 26560, 26567, 26586, 26587, 26589, 26605, 26606, 26608, 26612, 26618, 26621, 26625, 26631, 26634, 26635, 26638, 26641, 26644, 26654, 26665, 26667, 26673, 26677, 26678, 26681, 26691, 26696, 26707, 26708, 26712, 26713, 26722, 26724, 26725, 26726, 26727, 26729, 26731, 26732, 26745, 26749, 26763, 26767, 26769, 26775, 26777, 26778, 26782, 26792, 26794, 26795, 26799, 26803, 26816, 26822, 26830, 26832, 26833, 26848, 26858, 26860, 26861, 26871, 26888, 26889, 26890, 26894, 26902, 26903, 26909, 26914, 26923, 26928, 26942, 26951, 26958, 26964, 26973, 26975, 26977, 26978, 26980, 26982, 26989, 26996, 26999, 27007, 27017, 27018, 27019, 27020, 27022, 27023, 27024, 27029, 27041, 27045, 27059, 27060, 27062, 27067, 27073, 27077, 27079, 27081, 27100, 27102, 27107, 27113, 27114, 27118, 27124, 27125, 27133, 27135, 27136, 27140, 27152, 27157, 27168, 27172, 27176, 27182, 27188, 27193, 27194, 27195, 27205, 27212, 27219, 27223, 27224, 27225, 27226, 27229, 27230, 27247, 27257, 27259, 27260, 27262, 27267, 27272, 27273, 27289, 27290, 27310, 27314, 27317, 27323, 27331, 27334, 27339, 27342, 27349, 27363, 27368, 27373, 27376, 27378, 27402, 27404, 27410, 27413, 27414, 27417, 27420, 27421, 27422, 27428, 27434, 27435, 27438, 27440, 27445, 27449, 27461, 27462, 27466, 27471, 27475, 27478, 27479, 27487, 27489, 27495, 27497, 27503, 27504, 27507, 27508, 27515, 27518, 27519, 27550, 27554, 27556, 27566, 27567, 27571, 27572, 27574, 27575, 27578, 27579, 27582, 27585, 27587, 27595, 27596, 27601, 27602, 27605, 27607, 27608, 27609, 27613, 27614, 27617, 27629, 27642, 27644, 27645, 27648, 27652, 27654, 27662, 27670, 27678, 27684, 27687, 27691, 27692, 27697, 27702, 27710, 27711, 27721, 27723, 27724, 27738, 27741, 27747, 27750, 27752, 27770, 27771, 27775, 27776, 27785, 27788, 27795, 27797, 27810, 27820, 27823, 27831, 27837, 27838, 27844, 27856, 27858, 27861, 27863, 27866, 27867, 27874, 27875, 27883, 27886, 27888, 27903, 27907, 27908, 27915, 27918, 27925, 27926, 27928, 27935, 27939, 27947, 27954, 27963, 27965, 27970, 27971, 27978, 27979, 27980, 27982, 27987, 27988, 27993, 27995, 27996, 28005, 28009, 28015, 28020, 28027, 28033, 28040, 28043, 28051, 28056, 28058, 28061, 28063, 28075, 28078, 28098, 28100, 28103, 28112, 28139, 28143, 28145, 28148, 28151, 28153, 28159, 28161, 28164, 28171, 28176, 28184, 28207, 28208, 28209, 28210, 28220, 28224, 28226, 28232, 28250, 28256, 28259, 28264, 28266, 28270, 28286, 28290, 28292, 28294, 28296, 28307, 28308, 28310, 28323, 28325, 28333, 28334, 28336, 28340, 28342, 28348, 28349, 28354, 28358, 28359, 28360, 28363, 28364, 28365, 28368, 28369, 28371, 28372, 28374, 28387, 28402, 28406, 28407, 28419, 28425, 28437, 28441, 28444, 28445, 28446, 28449, 28452, 28457, 28463, 28469, 28472, 28474, 28475, 28476, 28481, 28489, 28495, 28501, 28507, 28511, 28513, 28514, 28524, 28530, 28532, 28543, 28544, 28548, 28552, 28555, 28558, 28560, 28561, 28564, 28569, 28583, 28588, 28603, 28604, 28605, 28622, 28627, 28629, 28636, 28640, 28645, 28649, 28661, 28663, 28669, 28681, 28687, 28695, 28697, 28699, 28701, 28704, 28705, 28712, 28715, 28716, 28717, 28721, 28725, 28729, 28730, 28732, 28735, 28736, 28738, 28740, 28751, 28758, 28765, 28767, 28772, 28774, 28783, 28791, 28805, 28815, 28819, 28829, 28837, 28838, 28842, 28847, 28849, 28851, 28853, 28858, 28869, 28874, 28880, 28885, 28901, 28910, 28912, 28918, 28919, 28922, 28925, 28929, 28939, 28946, 28948, 28953, 28963, 28969, 28971, 28974, 28987, 28997, 29006, 29007, 29013, 29025, 29046, 29053, 29062, 29069, 29075, 29078, 29083, 29090, 29092, 29097, 29119, 29121, 29124, 29131, 29141, 29144, 29148, 29158, 29160, 29163, 29166, 29173, 29176, 29177, 29181, 29192, 29198, 29206, 29211, 29214, 29222, 29230, 29236, 29245, 29246, 29247, 29248, 29254, 29257, 29262, 29266, 29273, 29278, 29285, 29291, 29292, 29295, 29298, 29312, 29322, 29324, 29328, 29332, 29340, 29341, 29351, 29356, 29360, 29362, 29369, 29370, 29381, 29384, 29390, 29392, 29395, 29401, 29402, 29413, 29416, 29425, 29427, 29429, 29430, 29434, 29441, 29443, 29446, 29455, 29464, 29466, 29487, 29497, 29518, 29526, 29541, 29558, 29573, 29574, 29587, 29594, 29601, 29605, 29607, 29610, 29622, 29623, 29628, 29632, 29634, 29652, 29657, 29659, 29662, 29663, 29664, 29667, 29668, 29676, 29680, 29694, 29698, 29710, 29722, 29724, 29727, 29737, 29744, 29745, 29746, 29751, 29752, 29755, 29760, 29766, 29771, 29773, 29776, 29782, 29791, 29801, 29804, 29805, 29811, 29814, 29819, 29828, 29830, 29834, 29836, 29839, 29850, 29853, 29855, 29856, 29859, 29872, 29874, 29880, 29881, 29892, 29898, 29902, 29923, 29931, 29932, 29934, 29939, 29942, 29954, 29956, 29958, 29964, 29971, 29981, 29997, 30011, 30022, 30030, 30034, 30042, 30044, 30048, 30049, 30052, 30057, 30058, 30078, 30080, 30082, 30083, 30084, 30088, 30092, 30093, 30094, 30099, 30103, 30104, 30105, 30106, 30119, 30123, 30124, 30141, 30143, 30145, 30148, 30157, 30162, 30167, 30178, 30182, 30188, 30189, 30191, 30194, 30201, 30211, 30212, 30214, 30216, 30217, 30219, 30224, 30227, 30231, 30233, 30234, 30248, 30249, 30250, 30254, 30255, 30258, 30263, 30266, 30268, 30274, 30284, 30286, 30287, 30293, 30295, 30303, 30305, 30311, 30314, 30325, 30326, 30331, 30336, 30340, 30351, 30352, 30358, 30363, 30365, 30377, 30389, 30391, 30394, 30397, 30398, 30399, 30403, 30410, 30420, 30422, 30426, 30431, 30436, 30438, 30441, 30447, 30458, 30462, 30487, 30488, 30496, 30502, 30506, 30511, 30522, 30530, 30531, 30558, 30560, 30561, 30569, 30585, 30588, 30592, 30600, 30610, 30617, 30620, 30623, 30627, 30628, 30630, 30632, 30645, 30646, 30659, 30661, 30664, 30671, 30679, 30687, 30693, 30700, 30701, 30713, 30720, 30728, 30731, 30741, 30744, 30747, 30753, 30761, 30768, 30775, 30779, 30781, 30784, 30788, 30807, 30811, 30815, 30820, 30827, 30828, 30840, 30843, 30852, 30856, 30857, 30860, 30862, 30869, 30870, 30873, 30876, 30882, 30883, 30884, 30885, 30892, 30908, 30912, 30918, 30919, 30926, 30931, 30936, 30947, 30951, 30952, 30954, 30965, 30966, 30969, 30974, 30980, 30982, 30985, 30988, 30993, 30994, 31001, 31006, 31007, 31012, 31015, 31020, 31022, 31024, 31025, 31030, 31031, 31033, 31041, 31043, 31044, 31055, 31062, 31063, 31065, 31066, 31083, 31086, 31095, 31096, 31097, 31106, 31118, 31124, 31125, 31128, 31130, 31141, 31142, 31149, 31150, 31152, 31153, 31162, 31167, 31170, 31178, 31180, 31189, 31194, 31197, 31205, 31206, 31216, 31220, 31227, 31239, 31241, 31245, 31247, 31256, 31270, 31271, 31276, 31283, 31288, 31290, 31293, 31302, 31306, 31311, 31321, 31334, 31342, 31346, 31348, 31356, 31364, 31367, 31369, 31372, 31376, 31379, 31383, 31388, 31390, 31392, 31395, 31403, 31411, 31417, 31426, 31430, 31431, 31432, 31435, 31442, 31444, 31445, 31447, 31450, 31452, 31467, 31475, 31480, 31505, 31513, 31522, 31524, 31528, 31530, 31535, 31538, 31540, 31561, 31565, 31577, 31580, 31591, 31592, 31594, 31604, 31620, 31621, 31622, 31625, 31626, 31628, 31629, 31635, 31639, 31642, 31643, 31654, 31656, 31657, 31661, 31662, 31664, 31666, 31668, 31669, 31674, 31678, 31682, 31685, 31694, 31696, 31705, 31709, 31710, 31711, 31722, 31731, 31732, 31734, 31737, 31745, 31762, 31764, 31774, 31775, 31776, 31780, 31783, 31788, 31793, 31795, 31799, 31803, 31806, 31807, 31808, 31809, 31814, 31815, 31823, 31824, 31836, 31840, 31843, 31844, 31848, 31850, 31855, 31875, 31876, 31878, 31880, 31881, 31891, 31892, 31894, 31899, 31904, 31908, 31912, 31922, 31923, 31927, 31940, 31941, 31947, 31952, 31966, 31997, 31998, 32001, 32003, 32007, 32008, 32013, 32016, 32023, 32024, 32033, 32034, 32038, 32043, 32047, 32052, 32056, 32058, 32059, 32060, 32061, 32073, 32076, 32083, 32086, 32089, 32090, 32093, 32099, 32102, 32107, 32113, 32116, 32125, 32133, 32134, 32144, 32153, 32162, 32165, 32179, 32185, 32186, 32192, 32193, 32198, 32203, 32206, 32208, 32215, 32225, 32226, 32244, 32257, 32258, 32259, 32262, 32270, 32277, 32278, 32283, 32287, 32291, 32300, 32301, 32303, 32311, 32317, 32319, 32321, 32340, 32341, 32343, 32350, 32351, 32360, 32361, 32362, 32367, 32370, 32372, 32375, 32381, 32384, 32386, 32390, 32391, 32396, 32400, 32401, 32412, 32415, 32423, 32429, 32430, 32431, 32438, 32441, 32444, 32445, 32446, 32448, 32459, 32460, 32463, 32465, 32467, 32469, 32479, 32481, 32487, 32489, 32490, 32494, 32498, 32501, 32515, 32518, 32522, 32525, 32533, 32539, 32542, 32548, 32554, 32558, 32560]\n"
          ]
        }
      ]
    },
    {
      "cell_type": "code",
      "source": [
        "!pip install Faker #instala dados falsos"
      ],
      "metadata": {
        "id": "44Op56_VzR32",
        "outputId": "2f32a9d0-f2fc-4bce-fa08-d873fc54157c",
        "colab": {
          "base_uri": "https://localhost:8080/"
        }
      },
      "execution_count": 31,
      "outputs": [
        {
          "output_type": "stream",
          "name": "stdout",
          "text": [
            "Collecting Faker\n",
            "  Downloading faker-37.4.0-py3-none-any.whl.metadata (15 kB)\n",
            "Requirement already satisfied: tzdata in /usr/local/lib/python3.11/dist-packages (from Faker) (2025.2)\n",
            "Downloading faker-37.4.0-py3-none-any.whl (1.9 MB)\n",
            "\u001b[2K   \u001b[90m━━━━━━━━━━━━━━━━━━━━━━━━━━━━━━━━━━━━━━━━\u001b[0m \u001b[32m1.9/1.9 MB\u001b[0m \u001b[31m19.0 MB/s\u001b[0m eta \u001b[36m0:00:00\u001b[0m\n",
            "\u001b[?25hInstalling collected packages: Faker\n",
            "Successfully installed Faker-37.4.0\n"
          ]
        }
      ]
    },
    {
      "cell_type": "code",
      "source": [
        "from faker import Faker\n",
        "fake = Faker()\n",
        "fake.name()"
      ],
      "metadata": {
        "id": "xwQFBnS8z3da",
        "outputId": "203b4b4d-9d7b-4432-f2e2-6c83c552f527",
        "colab": {
          "base_uri": "https://localhost:8080/",
          "height": 35
        }
      },
      "execution_count": 32,
      "outputs": [
        {
          "output_type": "execute_result",
          "data": {
            "text/plain": [
              "'Cassandra Newton'"
            ],
            "application/vnd.google.colaboratory.intrinsic+json": {
              "type": "string"
            }
          },
          "metadata": {},
          "execution_count": 32
        }
      ]
    },
    {
      "cell_type": "code",
      "source": [
        "indices_nome = []\n",
        "for _ in range(32561) :\n",
        "  indices_nome.append(fake.name())"
      ],
      "metadata": {
        "id": "AEk4ZzeBz8sa"
      },
      "execution_count": 33,
      "outputs": []
    },
    {
      "cell_type": "code",
      "source": [
        "type(indices_nome), len(indices_nome) #gerando uma lista"
      ],
      "metadata": {
        "id": "emw72owq20I2",
        "outputId": "b779e2f3-42e6-4ded-f12e-2c929a03d031",
        "colab": {
          "base_uri": "https://localhost:8080/"
        }
      },
      "execution_count": 34,
      "outputs": [
        {
          "output_type": "execute_result",
          "data": {
            "text/plain": [
              "(list, 32561)"
            ]
          },
          "metadata": {},
          "execution_count": 34
        }
      ]
    },
    {
      "cell_type": "code",
      "source": [
        "indices_nome[0:10] #mostrando 10 nomes"
      ],
      "metadata": {
        "id": "v9SW9bGh3oir",
        "outputId": "a79ac3ea-44a1-4bc2-c456-76fdd7d87b5a",
        "colab": {
          "base_uri": "https://localhost:8080/"
        }
      },
      "execution_count": 35,
      "outputs": [
        {
          "output_type": "execute_result",
          "data": {
            "text/plain": [
              "['Christy Alvarez',\n",
              " 'Nicholas Harvey',\n",
              " 'Shaun Chang',\n",
              " 'Andrew Smith',\n",
              " 'Brandi Kelly',\n",
              " 'Kristina Larsen',\n",
              " 'Dennis Murillo',\n",
              " 'Teresa Davis',\n",
              " 'Amber Sanders',\n",
              " 'Glenda Farmer']"
            ]
          },
          "metadata": {},
          "execution_count": 35
        }
      ]
    },
    {
      "cell_type": "code",
      "source": [
        "serie_idade_nome= pd.Series(np.array(dataset['age']), index = indices_nome)\n",
        "serie_idade_nome"
      ],
      "metadata": {
        "id": "OCwnXC2D4Gq4",
        "outputId": "55501b95-df71-41b4-dac7-0477f34c7f44",
        "colab": {
          "base_uri": "https://localhost:8080/",
          "height": 459
        }
      },
      "execution_count": 36,
      "outputs": [
        {
          "output_type": "execute_result",
          "data": {
            "text/plain": [
              "Christy Alvarez    39\n",
              "Nicholas Harvey    50\n",
              "Shaun Chang        38\n",
              "Andrew Smith       53\n",
              "Brandi Kelly       28\n",
              "                   ..\n",
              "Brenda Smith       27\n",
              "Peter Knox         40\n",
              "Billy Morris       58\n",
              "Justin Berger      22\n",
              "Aaron Perez        52\n",
              "Length: 32561, dtype: int64"
            ],
            "text/html": [
              "<div>\n",
              "<style scoped>\n",
              "    .dataframe tbody tr th:only-of-type {\n",
              "        vertical-align: middle;\n",
              "    }\n",
              "\n",
              "    .dataframe tbody tr th {\n",
              "        vertical-align: top;\n",
              "    }\n",
              "\n",
              "    .dataframe thead th {\n",
              "        text-align: right;\n",
              "    }\n",
              "</style>\n",
              "<table border=\"1\" class=\"dataframe\">\n",
              "  <thead>\n",
              "    <tr style=\"text-align: right;\">\n",
              "      <th></th>\n",
              "      <th>0</th>\n",
              "    </tr>\n",
              "  </thead>\n",
              "  <tbody>\n",
              "    <tr>\n",
              "      <th>Christy Alvarez</th>\n",
              "      <td>39</td>\n",
              "    </tr>\n",
              "    <tr>\n",
              "      <th>Nicholas Harvey</th>\n",
              "      <td>50</td>\n",
              "    </tr>\n",
              "    <tr>\n",
              "      <th>Shaun Chang</th>\n",
              "      <td>38</td>\n",
              "    </tr>\n",
              "    <tr>\n",
              "      <th>Andrew Smith</th>\n",
              "      <td>53</td>\n",
              "    </tr>\n",
              "    <tr>\n",
              "      <th>Brandi Kelly</th>\n",
              "      <td>28</td>\n",
              "    </tr>\n",
              "    <tr>\n",
              "      <th>...</th>\n",
              "      <td>...</td>\n",
              "    </tr>\n",
              "    <tr>\n",
              "      <th>Brenda Smith</th>\n",
              "      <td>27</td>\n",
              "    </tr>\n",
              "    <tr>\n",
              "      <th>Peter Knox</th>\n",
              "      <td>40</td>\n",
              "    </tr>\n",
              "    <tr>\n",
              "      <th>Billy Morris</th>\n",
              "      <td>58</td>\n",
              "    </tr>\n",
              "    <tr>\n",
              "      <th>Justin Berger</th>\n",
              "      <td>22</td>\n",
              "    </tr>\n",
              "    <tr>\n",
              "      <th>Aaron Perez</th>\n",
              "      <td>52</td>\n",
              "    </tr>\n",
              "  </tbody>\n",
              "</table>\n",
              "<p>32561 rows × 1 columns</p>\n",
              "</div><br><label><b>dtype:</b> int64</label>"
            ]
          },
          "metadata": {},
          "execution_count": 36
        }
      ]
    },
    {
      "cell_type": "code",
      "source": [
        "serie_idade_nome[\"Richard Taylor\"] #volta a respectiva idade\n"
      ],
      "metadata": {
        "id": "T_Gorv5C4Xoy",
        "outputId": "4c90690b-eb57-40f6-c2e7-a0823374b6ff",
        "colab": {
          "base_uri": "https://localhost:8080/",
          "height": 147
        }
      },
      "execution_count": 37,
      "outputs": [
        {
          "output_type": "execute_result",
          "data": {
            "text/plain": [
              "Richard Taylor    23\n",
              "Richard Taylor    46\n",
              "dtype: int64"
            ],
            "text/html": [
              "<div>\n",
              "<style scoped>\n",
              "    .dataframe tbody tr th:only-of-type {\n",
              "        vertical-align: middle;\n",
              "    }\n",
              "\n",
              "    .dataframe tbody tr th {\n",
              "        vertical-align: top;\n",
              "    }\n",
              "\n",
              "    .dataframe thead th {\n",
              "        text-align: right;\n",
              "    }\n",
              "</style>\n",
              "<table border=\"1\" class=\"dataframe\">\n",
              "  <thead>\n",
              "    <tr style=\"text-align: right;\">\n",
              "      <th></th>\n",
              "      <th>0</th>\n",
              "    </tr>\n",
              "  </thead>\n",
              "  <tbody>\n",
              "    <tr>\n",
              "      <th>Richard Taylor</th>\n",
              "      <td>23</td>\n",
              "    </tr>\n",
              "    <tr>\n",
              "      <th>Richard Taylor</th>\n",
              "      <td>46</td>\n",
              "    </tr>\n",
              "  </tbody>\n",
              "</table>\n",
              "</div><br><label><b>dtype:</b> int64</label>"
            ]
          },
          "metadata": {},
          "execution_count": 37
        }
      ]
    },
    {
      "cell_type": "code",
      "source": [
        "serie_idade_nome2= serie_idade_nome.drop_duplicates() #apaga os nomes que são iguais\n",
        "serie_idade_nome2.size\n",
        "serie_idade_nome2"
      ],
      "metadata": {
        "id": "lQWWLFSm6NNJ",
        "outputId": "7f7e9e46-a82b-432e-f415-12fe80c1de17",
        "colab": {
          "base_uri": "https://localhost:8080/",
          "height": 459
        }
      },
      "execution_count": 38,
      "outputs": [
        {
          "output_type": "execute_result",
          "data": {
            "text/plain": [
              "Christy Alvarez    39\n",
              "Nicholas Harvey    50\n",
              "Shaun Chang        38\n",
              "Andrew Smith       53\n",
              "Brandi Kelly       28\n",
              "                   ..\n",
              "Sydney Kim         83\n",
              "Abigail Hardin     84\n",
              "Denise Garcia      85\n",
              "Gabriel Ortega     86\n",
              "James Powell       87\n",
              "Length: 73, dtype: int64"
            ],
            "text/html": [
              "<div>\n",
              "<style scoped>\n",
              "    .dataframe tbody tr th:only-of-type {\n",
              "        vertical-align: middle;\n",
              "    }\n",
              "\n",
              "    .dataframe tbody tr th {\n",
              "        vertical-align: top;\n",
              "    }\n",
              "\n",
              "    .dataframe thead th {\n",
              "        text-align: right;\n",
              "    }\n",
              "</style>\n",
              "<table border=\"1\" class=\"dataframe\">\n",
              "  <thead>\n",
              "    <tr style=\"text-align: right;\">\n",
              "      <th></th>\n",
              "      <th>0</th>\n",
              "    </tr>\n",
              "  </thead>\n",
              "  <tbody>\n",
              "    <tr>\n",
              "      <th>Christy Alvarez</th>\n",
              "      <td>39</td>\n",
              "    </tr>\n",
              "    <tr>\n",
              "      <th>Nicholas Harvey</th>\n",
              "      <td>50</td>\n",
              "    </tr>\n",
              "    <tr>\n",
              "      <th>Shaun Chang</th>\n",
              "      <td>38</td>\n",
              "    </tr>\n",
              "    <tr>\n",
              "      <th>Andrew Smith</th>\n",
              "      <td>53</td>\n",
              "    </tr>\n",
              "    <tr>\n",
              "      <th>Brandi Kelly</th>\n",
              "      <td>28</td>\n",
              "    </tr>\n",
              "    <tr>\n",
              "      <th>...</th>\n",
              "      <td>...</td>\n",
              "    </tr>\n",
              "    <tr>\n",
              "      <th>Sydney Kim</th>\n",
              "      <td>83</td>\n",
              "    </tr>\n",
              "    <tr>\n",
              "      <th>Abigail Hardin</th>\n",
              "      <td>84</td>\n",
              "    </tr>\n",
              "    <tr>\n",
              "      <th>Denise Garcia</th>\n",
              "      <td>85</td>\n",
              "    </tr>\n",
              "    <tr>\n",
              "      <th>Gabriel Ortega</th>\n",
              "      <td>86</td>\n",
              "    </tr>\n",
              "    <tr>\n",
              "      <th>James Powell</th>\n",
              "      <td>87</td>\n",
              "    </tr>\n",
              "  </tbody>\n",
              "</table>\n",
              "<p>73 rows × 1 columns</p>\n",
              "</div><br><label><b>dtype:</b> int64</label>"
            ]
          },
          "metadata": {},
          "execution_count": 38
        }
      ]
    },
    {
      "cell_type": "code",
      "source": [
        "serie_idade_nome2[\"Richard Taylor\":\"Denise Horne\"] #mostrando nomes em um intervalo"
      ],
      "metadata": {
        "id": "J7kJmG346vfY",
        "outputId": "a8c273b6-7bc1-4ddc-f125-ef8cfcb3cb2b",
        "colab": {
          "base_uri": "https://localhost:8080/",
          "height": 579
        }
      },
      "execution_count": 39,
      "outputs": [
        {
          "output_type": "error",
          "ename": "KeyError",
          "evalue": "'Richard Taylor'",
          "traceback": [
            "\u001b[0;31m---------------------------------------------------------------------------\u001b[0m",
            "\u001b[0;31mKeyError\u001b[0m                                  Traceback (most recent call last)",
            "\u001b[0;32m/usr/local/lib/python3.11/dist-packages/pandas/core/indexes/base.py\u001b[0m in \u001b[0;36mget_loc\u001b[0;34m(self, key, method, tolerance)\u001b[0m\n\u001b[1;32m   3801\u001b[0m             \u001b[0;32mtry\u001b[0m\u001b[0;34m:\u001b[0m\u001b[0;34m\u001b[0m\u001b[0;34m\u001b[0m\u001b[0m\n\u001b[0;32m-> 3802\u001b[0;31m                 \u001b[0;32mreturn\u001b[0m \u001b[0mself\u001b[0m\u001b[0;34m.\u001b[0m\u001b[0m_engine\u001b[0m\u001b[0;34m.\u001b[0m\u001b[0mget_loc\u001b[0m\u001b[0;34m(\u001b[0m\u001b[0mcasted_key\u001b[0m\u001b[0;34m)\u001b[0m\u001b[0;34m\u001b[0m\u001b[0;34m\u001b[0m\u001b[0m\n\u001b[0m\u001b[1;32m   3803\u001b[0m             \u001b[0;32mexcept\u001b[0m \u001b[0mKeyError\u001b[0m \u001b[0;32mas\u001b[0m \u001b[0merr\u001b[0m\u001b[0;34m:\u001b[0m\u001b[0;34m\u001b[0m\u001b[0;34m\u001b[0m\u001b[0m\n",
            "\u001b[0;32m/usr/local/lib/python3.11/dist-packages/pandas/_libs/index.pyx\u001b[0m in \u001b[0;36mpandas._libs.index.IndexEngine.get_loc\u001b[0;34m()\u001b[0m\n",
            "\u001b[0;32m/usr/local/lib/python3.11/dist-packages/pandas/_libs/index.pyx\u001b[0m in \u001b[0;36mpandas._libs.index.IndexEngine.get_loc\u001b[0;34m()\u001b[0m\n",
            "\u001b[0;32mpandas/_libs/hashtable_class_helper.pxi\u001b[0m in \u001b[0;36mpandas._libs.hashtable.PyObjectHashTable.get_item\u001b[0;34m()\u001b[0m\n",
            "\u001b[0;32mpandas/_libs/hashtable_class_helper.pxi\u001b[0m in \u001b[0;36mpandas._libs.hashtable.PyObjectHashTable.get_item\u001b[0;34m()\u001b[0m\n",
            "\u001b[0;31mKeyError\u001b[0m: 'Richard Taylor'",
            "\nThe above exception was the direct cause of the following exception:\n",
            "\u001b[0;31mKeyError\u001b[0m                                  Traceback (most recent call last)",
            "\u001b[0;32m/tmp/ipython-input-39-1384667144.py\u001b[0m in \u001b[0;36m<cell line: 0>\u001b[0;34m()\u001b[0m\n\u001b[0;32m----> 1\u001b[0;31m \u001b[0mserie_idade_nome2\u001b[0m\u001b[0;34m[\u001b[0m\u001b[0;34m\"Richard Taylor\"\u001b[0m\u001b[0;34m:\u001b[0m\u001b[0;34m\"Denise Horne\"\u001b[0m\u001b[0;34m]\u001b[0m \u001b[0;31m#mostrando nomes em um intervalo\u001b[0m\u001b[0;34m\u001b[0m\u001b[0;34m\u001b[0m\u001b[0m\n\u001b[0m",
            "\u001b[0;32m/usr/local/lib/python3.11/dist-packages/pandas/core/series.py\u001b[0m in \u001b[0;36m__getitem__\u001b[0;34m(self, key)\u001b[0m\n\u001b[1;32m   1005\u001b[0m             \u001b[0;32mreturn\u001b[0m \u001b[0mself\u001b[0m\u001b[0;34m.\u001b[0m\u001b[0m_get_values\u001b[0m\u001b[0;34m(\u001b[0m\u001b[0mkey\u001b[0m\u001b[0;34m)\u001b[0m\u001b[0;34m\u001b[0m\u001b[0;34m\u001b[0m\u001b[0m\n\u001b[1;32m   1006\u001b[0m \u001b[0;34m\u001b[0m\u001b[0m\n\u001b[0;32m-> 1007\u001b[0;31m         \u001b[0;32mreturn\u001b[0m \u001b[0mself\u001b[0m\u001b[0;34m.\u001b[0m\u001b[0m_get_with\u001b[0m\u001b[0;34m(\u001b[0m\u001b[0mkey\u001b[0m\u001b[0;34m)\u001b[0m\u001b[0;34m\u001b[0m\u001b[0;34m\u001b[0m\u001b[0m\n\u001b[0m\u001b[1;32m   1008\u001b[0m \u001b[0;34m\u001b[0m\u001b[0m\n\u001b[1;32m   1009\u001b[0m     \u001b[0;32mdef\u001b[0m \u001b[0m_get_with\u001b[0m\u001b[0;34m(\u001b[0m\u001b[0mself\u001b[0m\u001b[0;34m,\u001b[0m \u001b[0mkey\u001b[0m\u001b[0;34m)\u001b[0m\u001b[0;34m:\u001b[0m\u001b[0;34m\u001b[0m\u001b[0;34m\u001b[0m\u001b[0m\n",
            "\u001b[0;32m/usr/local/lib/python3.11/dist-packages/pandas/core/series.py\u001b[0m in \u001b[0;36m_get_with\u001b[0;34m(self, key)\u001b[0m\n\u001b[1;32m   1012\u001b[0m             \u001b[0;31m# _convert_slice_indexer to determine if this slice is positional\u001b[0m\u001b[0;34m\u001b[0m\u001b[0;34m\u001b[0m\u001b[0m\n\u001b[1;32m   1013\u001b[0m             \u001b[0;31m#  or label based, and if the latter, convert to positional\u001b[0m\u001b[0;34m\u001b[0m\u001b[0;34m\u001b[0m\u001b[0m\n\u001b[0;32m-> 1014\u001b[0;31m             \u001b[0mslobj\u001b[0m \u001b[0;34m=\u001b[0m \u001b[0mself\u001b[0m\u001b[0;34m.\u001b[0m\u001b[0mindex\u001b[0m\u001b[0;34m.\u001b[0m\u001b[0m_convert_slice_indexer\u001b[0m\u001b[0;34m(\u001b[0m\u001b[0mkey\u001b[0m\u001b[0;34m,\u001b[0m \u001b[0mkind\u001b[0m\u001b[0;34m=\u001b[0m\u001b[0;34m\"getitem\"\u001b[0m\u001b[0;34m)\u001b[0m\u001b[0;34m\u001b[0m\u001b[0;34m\u001b[0m\u001b[0m\n\u001b[0m\u001b[1;32m   1015\u001b[0m             \u001b[0;32mreturn\u001b[0m \u001b[0mself\u001b[0m\u001b[0;34m.\u001b[0m\u001b[0m_slice\u001b[0m\u001b[0;34m(\u001b[0m\u001b[0mslobj\u001b[0m\u001b[0;34m)\u001b[0m\u001b[0;34m\u001b[0m\u001b[0;34m\u001b[0m\u001b[0m\n\u001b[1;32m   1016\u001b[0m         \u001b[0;32melif\u001b[0m \u001b[0misinstance\u001b[0m\u001b[0;34m(\u001b[0m\u001b[0mkey\u001b[0m\u001b[0;34m,\u001b[0m \u001b[0mABCDataFrame\u001b[0m\u001b[0;34m)\u001b[0m\u001b[0;34m:\u001b[0m\u001b[0;34m\u001b[0m\u001b[0;34m\u001b[0m\u001b[0m\n",
            "\u001b[0;32m/usr/local/lib/python3.11/dist-packages/pandas/core/indexes/base.py\u001b[0m in \u001b[0;36m_convert_slice_indexer\u001b[0;34m(self, key, kind)\u001b[0m\n\u001b[1;32m   4282\u001b[0m             \u001b[0mindexer\u001b[0m \u001b[0;34m=\u001b[0m \u001b[0mkey\u001b[0m\u001b[0;34m\u001b[0m\u001b[0;34m\u001b[0m\u001b[0m\n\u001b[1;32m   4283\u001b[0m         \u001b[0;32melse\u001b[0m\u001b[0;34m:\u001b[0m\u001b[0;34m\u001b[0m\u001b[0;34m\u001b[0m\u001b[0m\n\u001b[0;32m-> 4284\u001b[0;31m             \u001b[0mindexer\u001b[0m \u001b[0;34m=\u001b[0m \u001b[0mself\u001b[0m\u001b[0;34m.\u001b[0m\u001b[0mslice_indexer\u001b[0m\u001b[0;34m(\u001b[0m\u001b[0mstart\u001b[0m\u001b[0;34m,\u001b[0m \u001b[0mstop\u001b[0m\u001b[0;34m,\u001b[0m \u001b[0mstep\u001b[0m\u001b[0;34m)\u001b[0m\u001b[0;34m\u001b[0m\u001b[0;34m\u001b[0m\u001b[0m\n\u001b[0m\u001b[1;32m   4285\u001b[0m \u001b[0;34m\u001b[0m\u001b[0m\n\u001b[1;32m   4286\u001b[0m         \u001b[0;32mreturn\u001b[0m \u001b[0mindexer\u001b[0m\u001b[0;34m\u001b[0m\u001b[0;34m\u001b[0m\u001b[0m\n",
            "\u001b[0;32m/usr/local/lib/python3.11/dist-packages/pandas/core/indexes/base.py\u001b[0m in \u001b[0;36mslice_indexer\u001b[0;34m(self, start, end, step, kind)\u001b[0m\n\u001b[1;32m   6557\u001b[0m         \u001b[0mself\u001b[0m\u001b[0;34m.\u001b[0m\u001b[0m_deprecated_arg\u001b[0m\u001b[0;34m(\u001b[0m\u001b[0mkind\u001b[0m\u001b[0;34m,\u001b[0m \u001b[0;34m\"kind\"\u001b[0m\u001b[0;34m,\u001b[0m \u001b[0;34m\"slice_indexer\"\u001b[0m\u001b[0;34m)\u001b[0m\u001b[0;34m\u001b[0m\u001b[0;34m\u001b[0m\u001b[0m\n\u001b[1;32m   6558\u001b[0m \u001b[0;34m\u001b[0m\u001b[0m\n\u001b[0;32m-> 6559\u001b[0;31m         \u001b[0mstart_slice\u001b[0m\u001b[0;34m,\u001b[0m \u001b[0mend_slice\u001b[0m \u001b[0;34m=\u001b[0m \u001b[0mself\u001b[0m\u001b[0;34m.\u001b[0m\u001b[0mslice_locs\u001b[0m\u001b[0;34m(\u001b[0m\u001b[0mstart\u001b[0m\u001b[0;34m,\u001b[0m \u001b[0mend\u001b[0m\u001b[0;34m,\u001b[0m \u001b[0mstep\u001b[0m\u001b[0;34m=\u001b[0m\u001b[0mstep\u001b[0m\u001b[0;34m)\u001b[0m\u001b[0;34m\u001b[0m\u001b[0;34m\u001b[0m\u001b[0m\n\u001b[0m\u001b[1;32m   6560\u001b[0m \u001b[0;34m\u001b[0m\u001b[0m\n\u001b[1;32m   6561\u001b[0m         \u001b[0;31m# return a slice\u001b[0m\u001b[0;34m\u001b[0m\u001b[0;34m\u001b[0m\u001b[0m\n",
            "\u001b[0;32m/usr/local/lib/python3.11/dist-packages/pandas/core/indexes/base.py\u001b[0m in \u001b[0;36mslice_locs\u001b[0;34m(self, start, end, step, kind)\u001b[0m\n\u001b[1;32m   6765\u001b[0m         \u001b[0mstart_slice\u001b[0m \u001b[0;34m=\u001b[0m \u001b[0;32mNone\u001b[0m\u001b[0;34m\u001b[0m\u001b[0;34m\u001b[0m\u001b[0m\n\u001b[1;32m   6766\u001b[0m         \u001b[0;32mif\u001b[0m \u001b[0mstart\u001b[0m \u001b[0;32mis\u001b[0m \u001b[0;32mnot\u001b[0m \u001b[0;32mNone\u001b[0m\u001b[0;34m:\u001b[0m\u001b[0;34m\u001b[0m\u001b[0;34m\u001b[0m\u001b[0m\n\u001b[0;32m-> 6767\u001b[0;31m             \u001b[0mstart_slice\u001b[0m \u001b[0;34m=\u001b[0m \u001b[0mself\u001b[0m\u001b[0;34m.\u001b[0m\u001b[0mget_slice_bound\u001b[0m\u001b[0;34m(\u001b[0m\u001b[0mstart\u001b[0m\u001b[0;34m,\u001b[0m \u001b[0;34m\"left\"\u001b[0m\u001b[0;34m)\u001b[0m\u001b[0;34m\u001b[0m\u001b[0;34m\u001b[0m\u001b[0m\n\u001b[0m\u001b[1;32m   6768\u001b[0m         \u001b[0;32mif\u001b[0m \u001b[0mstart_slice\u001b[0m \u001b[0;32mis\u001b[0m \u001b[0;32mNone\u001b[0m\u001b[0;34m:\u001b[0m\u001b[0;34m\u001b[0m\u001b[0;34m\u001b[0m\u001b[0m\n\u001b[1;32m   6769\u001b[0m             \u001b[0mstart_slice\u001b[0m \u001b[0;34m=\u001b[0m \u001b[0;36m0\u001b[0m\u001b[0;34m\u001b[0m\u001b[0;34m\u001b[0m\u001b[0m\n",
            "\u001b[0;32m/usr/local/lib/python3.11/dist-packages/pandas/core/indexes/base.py\u001b[0m in \u001b[0;36mget_slice_bound\u001b[0;34m(self, label, side, kind)\u001b[0m\n\u001b[1;32m   6684\u001b[0m             \u001b[0;32mexcept\u001b[0m \u001b[0mValueError\u001b[0m\u001b[0;34m:\u001b[0m\u001b[0;34m\u001b[0m\u001b[0;34m\u001b[0m\u001b[0m\n\u001b[1;32m   6685\u001b[0m                 \u001b[0;31m# raise the original KeyError\u001b[0m\u001b[0;34m\u001b[0m\u001b[0;34m\u001b[0m\u001b[0m\n\u001b[0;32m-> 6686\u001b[0;31m                 \u001b[0;32mraise\u001b[0m \u001b[0merr\u001b[0m\u001b[0;34m\u001b[0m\u001b[0;34m\u001b[0m\u001b[0m\n\u001b[0m\u001b[1;32m   6687\u001b[0m \u001b[0;34m\u001b[0m\u001b[0m\n\u001b[1;32m   6688\u001b[0m         \u001b[0;32mif\u001b[0m \u001b[0misinstance\u001b[0m\u001b[0;34m(\u001b[0m\u001b[0mslc\u001b[0m\u001b[0;34m,\u001b[0m \u001b[0mnp\u001b[0m\u001b[0;34m.\u001b[0m\u001b[0mndarray\u001b[0m\u001b[0;34m)\u001b[0m\u001b[0;34m:\u001b[0m\u001b[0;34m\u001b[0m\u001b[0;34m\u001b[0m\u001b[0m\n",
            "\u001b[0;32m/usr/local/lib/python3.11/dist-packages/pandas/core/indexes/base.py\u001b[0m in \u001b[0;36mget_slice_bound\u001b[0;34m(self, label, side, kind)\u001b[0m\n\u001b[1;32m   6678\u001b[0m         \u001b[0;31m# we need to look up the label\u001b[0m\u001b[0;34m\u001b[0m\u001b[0;34m\u001b[0m\u001b[0m\n\u001b[1;32m   6679\u001b[0m         \u001b[0;32mtry\u001b[0m\u001b[0;34m:\u001b[0m\u001b[0;34m\u001b[0m\u001b[0;34m\u001b[0m\u001b[0m\n\u001b[0;32m-> 6680\u001b[0;31m             \u001b[0mslc\u001b[0m \u001b[0;34m=\u001b[0m \u001b[0mself\u001b[0m\u001b[0;34m.\u001b[0m\u001b[0mget_loc\u001b[0m\u001b[0;34m(\u001b[0m\u001b[0mlabel\u001b[0m\u001b[0;34m)\u001b[0m\u001b[0;34m\u001b[0m\u001b[0;34m\u001b[0m\u001b[0m\n\u001b[0m\u001b[1;32m   6681\u001b[0m         \u001b[0;32mexcept\u001b[0m \u001b[0mKeyError\u001b[0m \u001b[0;32mas\u001b[0m \u001b[0merr\u001b[0m\u001b[0;34m:\u001b[0m\u001b[0;34m\u001b[0m\u001b[0;34m\u001b[0m\u001b[0m\n\u001b[1;32m   6682\u001b[0m             \u001b[0;32mtry\u001b[0m\u001b[0;34m:\u001b[0m\u001b[0;34m\u001b[0m\u001b[0;34m\u001b[0m\u001b[0m\n",
            "\u001b[0;32m/usr/local/lib/python3.11/dist-packages/pandas/core/indexes/base.py\u001b[0m in \u001b[0;36mget_loc\u001b[0;34m(self, key, method, tolerance)\u001b[0m\n\u001b[1;32m   3802\u001b[0m                 \u001b[0;32mreturn\u001b[0m \u001b[0mself\u001b[0m\u001b[0;34m.\u001b[0m\u001b[0m_engine\u001b[0m\u001b[0;34m.\u001b[0m\u001b[0mget_loc\u001b[0m\u001b[0;34m(\u001b[0m\u001b[0mcasted_key\u001b[0m\u001b[0;34m)\u001b[0m\u001b[0;34m\u001b[0m\u001b[0;34m\u001b[0m\u001b[0m\n\u001b[1;32m   3803\u001b[0m             \u001b[0;32mexcept\u001b[0m \u001b[0mKeyError\u001b[0m \u001b[0;32mas\u001b[0m \u001b[0merr\u001b[0m\u001b[0;34m:\u001b[0m\u001b[0;34m\u001b[0m\u001b[0;34m\u001b[0m\u001b[0m\n\u001b[0;32m-> 3804\u001b[0;31m                 \u001b[0;32mraise\u001b[0m \u001b[0mKeyError\u001b[0m\u001b[0;34m(\u001b[0m\u001b[0mkey\u001b[0m\u001b[0;34m)\u001b[0m \u001b[0;32mfrom\u001b[0m \u001b[0merr\u001b[0m\u001b[0;34m\u001b[0m\u001b[0;34m\u001b[0m\u001b[0m\n\u001b[0m\u001b[1;32m   3805\u001b[0m             \u001b[0;32mexcept\u001b[0m \u001b[0mTypeError\u001b[0m\u001b[0;34m:\u001b[0m\u001b[0;34m\u001b[0m\u001b[0;34m\u001b[0m\u001b[0m\n\u001b[1;32m   3806\u001b[0m                 \u001b[0;31m# If we have a listlike key, _check_indexing_error will raise\u001b[0m\u001b[0;34m\u001b[0m\u001b[0;34m\u001b[0m\u001b[0m\n",
            "\u001b[0;31mKeyError\u001b[0m: 'Richard Taylor'"
          ]
        }
      ]
    },
    {
      "cell_type": "code",
      "source": [
        "serie_idade_nome2.loc[[\"Lori Perry\",\"Katie Fox\"]] #agora só mostra essas duas pessoas"
      ],
      "metadata": {
        "id": "EtpmfNlA7iF0"
      },
      "execution_count": null,
      "outputs": []
    },
    {
      "cell_type": "code",
      "source": [
        "serie_idade_nome3= serie_idade_nome2.copy() #copiando valores para outra variável\n",
        "serie_idade_nome3"
      ],
      "metadata": {
        "id": "uye4u2JU70Np"
      },
      "execution_count": null,
      "outputs": []
    },
    {
      "cell_type": "code",
      "source": [
        "serie_idade_nome3.reset_index(drop= True, inplace = True) #reseta os indices\n",
        "serie_idade_nome3"
      ],
      "metadata": {
        "id": "PTD7hfmc8RSg"
      },
      "execution_count": null,
      "outputs": []
    },
    {
      "cell_type": "code",
      "source": [
        "serie_idade_nome2.index #retorna apenas os nomes das pessoas"
      ],
      "metadata": {
        "id": "_aIdTZlK-oXh"
      },
      "execution_count": null,
      "outputs": []
    },
    {
      "cell_type": "markdown",
      "source": [
        "### Ordenação"
      ],
      "metadata": {
        "id": "-DHdvhP4_mHQ"
      }
    },
    {
      "cell_type": "code",
      "source": [
        "serie_idade_nome.sort_values() #serie será ordenada pelos valores"
      ],
      "metadata": {
        "id": "GBi0QxqO_puY"
      },
      "execution_count": null,
      "outputs": []
    },
    {
      "cell_type": "code",
      "source": [
        "serie_idade_nome.sort_values(ascending= False) #serie será ordenada pelos valores em ordem decrescente"
      ],
      "metadata": {
        "id": "RWrBKYfO_28T"
      },
      "execution_count": null,
      "outputs": []
    },
    {
      "cell_type": "code",
      "source": [
        "serie_idade_nome.sort_index(ascending = True) #será ordenado em ordem alfabética"
      ],
      "metadata": {
        "id": "rzfrn7WJAM8p"
      },
      "execution_count": null,
      "outputs": []
    },
    {
      "cell_type": "code",
      "source": [
        "sr= serie_idade_nome.sort_values(ascending = False).iloc[0:11] #gerando um novo dataframe filtrando as pessoas de maior idade\n",
        "sr"
      ],
      "metadata": {
        "id": "sWRObcNVAmGz"
      },
      "execution_count": null,
      "outputs": []
    },
    {
      "cell_type": "markdown",
      "source": [
        "### Contagem"
      ],
      "metadata": {
        "id": "CzVjIAKcBDAx"
      }
    },
    {
      "cell_type": "code",
      "source": [
        "serie_idade_nome.size"
      ],
      "metadata": {
        "id": "5u-p_DCvA64p"
      },
      "execution_count": null,
      "outputs": []
    },
    {
      "cell_type": "code",
      "source": [
        "serie_idade_nome.value_counts() #conta quantas pessoas tem a mesma idade. idade disposta na esquerda e quantidade de pessoas com essa idade na direita"
      ],
      "metadata": {
        "id": "_1Ip-DyRBIiv"
      },
      "execution_count": null,
      "outputs": []
    },
    {
      "cell_type": "code",
      "source": [
        "serie_idade_nome.value_counts(normalize= True)*100 #mostra as idades em porcentagem"
      ],
      "metadata": {
        "id": "GyYihWxCBpq4"
      },
      "execution_count": null,
      "outputs": []
    },
    {
      "cell_type": "code",
      "source": [
        "serie_idade_nome.value_counts(bins = 10) #dividindo em faixa etária"
      ],
      "metadata": {
        "id": "gPZBaNvgCDrR"
      },
      "execution_count": null,
      "outputs": []
    },
    {
      "cell_type": "markdown",
      "source": [
        "#### Filtros"
      ],
      "metadata": {
        "id": "bswqQrs6XOAT"
      }
    },
    {
      "cell_type": "code",
      "source": [
        "fake.country()"
      ],
      "metadata": {
        "id": "YlEZqqmWXQMR"
      },
      "execution_count": null,
      "outputs": []
    },
    {
      "cell_type": "code",
      "source": [
        "indices_pais = []\n",
        "for _ in range(32561) :\n",
        "  indices_pais.append(fake.country())"
      ],
      "metadata": {
        "id": "yshC5Ilj_cnH"
      },
      "execution_count": null,
      "outputs": []
    },
    {
      "cell_type": "code",
      "source": [
        "indices_pais[0:11] #indice dos países"
      ],
      "metadata": {
        "id": "lEIdOtpC_mEJ"
      },
      "execution_count": null,
      "outputs": []
    },
    {
      "cell_type": "code",
      "source": [
        "serie_país = pd.Series(np.array(dataset['age']), index = indices_pais)\n",
        "serie_país #listando países com idades"
      ],
      "metadata": {
        "id": "0feqNX8tcV4U"
      },
      "execution_count": null,
      "outputs": []
    },
    {
      "cell_type": "code",
      "source": [
        "serie_país.loc[serie_país>50] #filtra os que estão acima de 50"
      ],
      "metadata": {
        "id": "kcA1ATMvd64u"
      },
      "execution_count": null,
      "outputs": []
    },
    {
      "cell_type": "code",
      "source": [
        "serie_país.loc[(serie_país>50) & (serie_país.index==\"India\")] #filtra os maiores de 50 e da India"
      ],
      "metadata": {
        "id": "R2CXlalvev1s"
      },
      "execution_count": null,
      "outputs": []
    },
    {
      "cell_type": "code",
      "source": [
        "serie_país.index.isin([\"India\", \"Brazil\"]) #true quando é india ou brasil, false quando não é"
      ],
      "metadata": {
        "id": "uUuygX9YfDsb"
      },
      "execution_count": null,
      "outputs": []
    },
    {
      "cell_type": "markdown",
      "source": [
        "### Operações Matemáticas"
      ],
      "metadata": {
        "id": "-EALASDKfoJ_"
      }
    },
    {
      "cell_type": "code",
      "source": [
        "serie_país +2 #adiciona 2 em cada valor"
      ],
      "metadata": {
        "id": "OeC_TogVfrhb"
      },
      "execution_count": null,
      "outputs": []
    },
    {
      "cell_type": "code",
      "source": [
        "serie_país.mul(2) #multiplica por 2"
      ],
      "metadata": {
        "id": "yfdUB5ybgCeq"
      },
      "execution_count": null,
      "outputs": []
    },
    {
      "cell_type": "code",
      "source": [
        "s1= pd.Series([20,30,40])\n",
        "s2= pd.Series([10,20,30])\n",
        "s1, s2"
      ],
      "metadata": {
        "collapsed": true,
        "id": "FUgO7JotgNLC"
      },
      "execution_count": null,
      "outputs": []
    },
    {
      "cell_type": "code",
      "source": [
        "s1.add(s2) #soma os valores das séries"
      ],
      "metadata": {
        "id": "MGhJvOuxgaGa"
      },
      "execution_count": null,
      "outputs": []
    },
    {
      "cell_type": "code",
      "source": [
        "s1.mul(s2) #multiplica os valores das séries"
      ],
      "metadata": {
        "id": "c2m4cCisgmxC"
      },
      "execution_count": null,
      "outputs": []
    },
    {
      "cell_type": "code",
      "source": [
        "s1.div(s2) #divide os valores das séries"
      ],
      "metadata": {
        "id": "h42FPqrKgozL"
      },
      "execution_count": null,
      "outputs": []
    },
    {
      "cell_type": "markdown",
      "source": [
        "#### Operações com strings"
      ],
      "metadata": {
        "id": "4-7GE2LOg9tg"
      }
    },
    {
      "cell_type": "code",
      "source": [
        "serie_pais_index= serie_país.index.to_series() #passa os países como índice\n",
        "serie_pais_index.reset_index(drop= True, inplace = True) #apagando os nomes dos países para que se tornem números\n",
        "serie_pais_index"
      ],
      "metadata": {
        "id": "AqCVXNEHhA0T"
      },
      "execution_count": null,
      "outputs": []
    },
    {
      "cell_type": "code",
      "source": [
        "serie_pais_index.str.contains(\"tse\") #coloca como true quem tem essas letras no nome"
      ],
      "metadata": {
        "id": "pq9qpt4Pht2y"
      },
      "execution_count": null,
      "outputs": []
    },
    {
      "cell_type": "code",
      "source": [
        "serie_pais_index.str.upper() #deixa todos os nomes em capslock"
      ],
      "metadata": {
        "id": "nUV50iO6iBoF"
      },
      "execution_count": null,
      "outputs": []
    },
    {
      "cell_type": "code",
      "source": [
        "serie_pais_index.str.lower() #deixa em minúsculo"
      ],
      "metadata": {
        "id": "OFCmF9coiKvc"
      },
      "execution_count": null,
      "outputs": []
    },
    {
      "cell_type": "code",
      "source": [
        "serie_pais_index.str.strip(\"Libyan\") #remove um nome desejado"
      ],
      "metadata": {
        "id": "Z495m5hXicWs"
      },
      "execution_count": null,
      "outputs": []
    },
    {
      "cell_type": "code",
      "source": [
        "serie_pais_index.str.split(' ', expand=True) #separando as palavras em colunas diferentes"
      ],
      "metadata": {
        "id": "oGx7aSQIitYy"
      },
      "execution_count": null,
      "outputs": []
    },
    {
      "cell_type": "code",
      "source": [
        "serie_pais_index.str[0:5] #retorna os primeiros 5 caracteres de cada palavra"
      ],
      "metadata": {
        "id": "xfW1Pnx8i61E"
      },
      "execution_count": null,
      "outputs": []
    },
    {
      "cell_type": "code",
      "source": [
        "serie_país.sum() #realiza a somatória de todos os valores"
      ],
      "metadata": {
        "id": "XE3A-HjsQZ6W"
      },
      "execution_count": null,
      "outputs": []
    },
    {
      "cell_type": "code",
      "source": [
        "serie_país.mean() #realiza a media"
      ],
      "metadata": {
        "id": "cKUe25nYHNWg"
      },
      "execution_count": null,
      "outputs": []
    },
    {
      "cell_type": "code",
      "source": [
        "serie_país.median() #mediana"
      ],
      "metadata": {
        "id": "qQGKTm0WHW9h"
      },
      "execution_count": null,
      "outputs": []
    },
    {
      "cell_type": "code",
      "source": [
        "serie_país.count() #qte de registros"
      ],
      "metadata": {
        "id": "V-iJpJ7mHbKL"
      },
      "execution_count": null,
      "outputs": []
    },
    {
      "cell_type": "code",
      "source": [
        "serie_país.std() #desvio padrão"
      ],
      "metadata": {
        "id": "2aSWdyx4Hkb7"
      },
      "execution_count": null,
      "outputs": []
    },
    {
      "cell_type": "code",
      "source": [
        "serie_país.var() #variancia"
      ],
      "metadata": {
        "id": "n0FNzwIgHtXx"
      },
      "execution_count": null,
      "outputs": []
    },
    {
      "cell_type": "code",
      "source": [
        "serie_país.loc[\"Brazil\"].mean() #extrai a média apenas do Brazil"
      ],
      "metadata": {
        "id": "vtKFnRZIIN0I"
      },
      "execution_count": null,
      "outputs": []
    },
    {
      "cell_type": "code",
      "source": [
        "serie_país.quantile([0.25, 0.5, 0.75]) #mostra a quantidade dos valores que aparecem em 25%, 50% e 75% do total de dados"
      ],
      "metadata": {
        "id": "sCCn8xD5KLDp"
      },
      "execution_count": null,
      "outputs": []
    },
    {
      "cell_type": "markdown",
      "source": [
        "#### Agrupamento categórico"
      ],
      "metadata": {
        "id": "i6m949Y8Y1a1"
      }
    },
    {
      "cell_type": "code",
      "source": [
        "serie_pais_index.value_counts() #retorna o valor por país"
      ],
      "metadata": {
        "id": "0CeXoiQwY6jd"
      },
      "execution_count": null,
      "outputs": []
    },
    {
      "cell_type": "code",
      "source": [
        "serie_pais_index.value_counts(normalize = True)*100 #retorna o valor por país em porcentagem"
      ],
      "metadata": {
        "id": "dMcMGJhjZKEP"
      },
      "execution_count": null,
      "outputs": []
    },
    {
      "cell_type": "code",
      "source": [
        "serie_pais_index.unique() #retorna o nome único dos países"
      ],
      "metadata": {
        "id": "5VJRGoSRZVGD"
      },
      "execution_count": null,
      "outputs": []
    },
    {
      "cell_type": "code",
      "source": [
        "serie_pais_index.unique() #retorna o numero de países registrados"
      ],
      "metadata": {
        "id": "sIUFsJWFZipT"
      },
      "execution_count": null,
      "outputs": []
    },
    {
      "cell_type": "markdown",
      "source": [
        "### Valores faltantes"
      ],
      "metadata": {
        "id": "gGklELb9Z0IL"
      }
    },
    {
      "cell_type": "code",
      "source": [
        "serie_faltante = pd.Series([1, 2, 3, np.nan, 5, np.nan]) #representa valor não existente"
      ],
      "metadata": {
        "id": "GQz9GLIvZ3QT"
      },
      "execution_count": null,
      "outputs": []
    },
    {
      "cell_type": "code",
      "source": [
        "serie_faltante.isna() #retorna se há valor faltante nas linhas (true representa faltante)"
      ],
      "metadata": {
        "id": "79vn73kbaNB0"
      },
      "execution_count": null,
      "outputs": []
    },
    {
      "cell_type": "code",
      "source": [
        "serie_faltante.isna().sum() #soma a quantidade de valor faltante"
      ],
      "metadata": {
        "id": "On4GCKXbag07"
      },
      "execution_count": null,
      "outputs": []
    },
    {
      "cell_type": "code",
      "source": [
        "serie_faltante.value_counts(dropna = False) #conta os valores faltantes e mostra os resto dos numeros"
      ],
      "metadata": {
        "id": "NhExRHf_atIa"
      },
      "execution_count": null,
      "outputs": []
    },
    {
      "cell_type": "code",
      "source": [
        "serie_faltante.fillna(0) #substitui os valores faltantes por 0"
      ],
      "metadata": {
        "id": "jERRCdqQy3td"
      },
      "execution_count": null,
      "outputs": []
    },
    {
      "cell_type": "code",
      "source": [
        "serie_faltante.dropna() #linha de valores faltantes são apagadas"
      ],
      "metadata": {
        "id": "MKK-Cyljy6pd"
      },
      "execution_count": null,
      "outputs": []
    },
    {
      "cell_type": "code",
      "source": [
        "serie_faltante.fillna(serie_faltante.mean()) #substitui os valores faltantes pela média"
      ],
      "metadata": {
        "id": "AxsA7rkLzURO"
      },
      "execution_count": null,
      "outputs": []
    },
    {
      "cell_type": "code",
      "source": [
        "serie_faltante = pd.Series(\"Mação\", \"Banana\", \"Arroz\", \"Arroz\", np.nan, \"Batata\")\n",
        "serie_faltante"
      ],
      "metadata": {
        "id": "OPlEMa7ZzZNF"
      },
      "execution_count": null,
      "outputs": []
    },
    {
      "cell_type": "code",
      "source": [
        "serie_faltante.isna().sum() #soma de valores faltantes"
      ],
      "metadata": {
        "id": "H67Tpu87z3nF"
      },
      "execution_count": null,
      "outputs": []
    },
    {
      "cell_type": "code",
      "source": [
        "serie_faltante.fillna(\"Não informado\") #todos os valores faltantes são substituídos por \"não informado\""
      ],
      "metadata": {
        "id": "6oha2Jp-0aul"
      },
      "execution_count": null,
      "outputs": []
    },
    {
      "cell_type": "code",
      "source": [
        "serie_faltante.mode().iloc[0] #retorna qual é a moda dos valores declarados, na posição 0"
      ],
      "metadata": {
        "id": "YsyEUmP301R-"
      },
      "execution_count": null,
      "outputs": []
    },
    {
      "cell_type": "code",
      "source": [
        "serie_faltante.fillna(serie_faltante.mode().iloc[0]) #substitui os valores faltantes pela moda"
      ],
      "metadata": {
        "id": "4l2sNOui1ADX"
      },
      "execution_count": null,
      "outputs": []
    },
    {
      "cell_type": "markdown",
      "source": [
        "### Funções"
      ],
      "metadata": {
        "id": "xC9IUNEm1D_N"
      }
    },
    {
      "cell_type": "code",
      "source": [
        "serie_idade #retorna índices e idades"
      ],
      "metadata": {
        "id": "-7YubZ0F1GSV"
      },
      "execution_count": null,
      "outputs": []
    },
    {
      "cell_type": "code",
      "source": [
        "serie_idade.loc[serie_idade<18] #retorna pessoas menores de 18 anos"
      ],
      "metadata": {
        "id": "OASMGGTt1fvx"
      },
      "execution_count": null,
      "outputs": []
    },
    {
      "cell_type": "code",
      "source": [
        "#transformando todas as idades menores de 18 em 18 anos, utilizando a função corrige_idade\n",
        "def corrige_idade(idade):\n",
        "  if idade < 18:\n",
        "    idade = 18\n",
        "    return idade"
      ],
      "metadata": {
        "id": "G9D54l8L1oU2"
      },
      "execution_count": null,
      "outputs": []
    },
    {
      "cell_type": "code",
      "source": [
        "serie_idade = serie_idade.apply(corrige_idade) #aplica a função em todos os elementos da série, não necessitando passar manualmente\n",
        "serie_idade"
      ],
      "metadata": {
        "id": "1oWNGsDF2SzR"
      },
      "execution_count": null,
      "outputs": []
    },
    {
      "cell_type": "code",
      "source": [
        "#outra maneira de utilizar uma função\n",
        "serie_idade= serie_idade.apply(lambda idade: 17 if idade==18 else idade) #declarando uma função e já executando ela para todos os elementos. Nesse caso, transformando todos os elementos iguais a 18 em 17 anos"
      ],
      "metadata": {
        "id": "c_WVsYh12xVF"
      },
      "execution_count": null,
      "outputs": []
    },
    {
      "cell_type": "code",
      "source": [
        "serie_idade[serie_idade<18] #retorna apenas os menores de 18"
      ],
      "metadata": {
        "id": "9c2tQrSxDQRQ"
      },
      "execution_count": null,
      "outputs": []
    },
    {
      "cell_type": "code",
      "source": [
        "serie_idade2 = serie_idade.iloc[0:10] #recebe os primeiros 10 elementos\n",
        "serie_idade2"
      ],
      "metadata": {
        "id": "RIxwYzS736lU"
      },
      "execution_count": null,
      "outputs": []
    },
    {
      "cell_type": "code",
      "source": [
        "serie_idade2.where(serie_idade2 < 40, 0) #para todos os valores menores que 40, recebe 0"
      ],
      "metadata": {
        "id": "i4we_Lay4Flc"
      },
      "execution_count": null,
      "outputs": []
    },
    {
      "cell_type": "markdown",
      "source": [
        "# Dataframe"
      ],
      "metadata": {
        "id": "pravpuClEAI0"
      }
    },
    {
      "cell_type": "markdown",
      "source": [
        "um dataframe é um conjunto de várias séries."
      ],
      "metadata": {
        "id": "wYpLFYUpmMPp"
      }
    },
    {
      "cell_type": "code",
      "source": [
        "import pandas as pd\n",
        "import numpy as np"
      ],
      "metadata": {
        "id": "OJUj1pIYkZDW"
      },
      "execution_count": null,
      "outputs": []
    },
    {
      "cell_type": "code",
      "source": [
        "data = [['Alice', 25, 'São Paulo'],\n",
        "        ['João', 30, 'Rio de Janeiro'],\n",
        "        ['Bruno', 35, 'Curitiba'],\n",
        "        ['Carlos', 40, 'Manaus']]"
      ],
      "metadata": {
        "id": "IXi8ETD-ECwF"
      },
      "execution_count": null,
      "outputs": []
    },
    {
      "cell_type": "code",
      "source": [
        "type(data) #tipo de dados"
      ],
      "metadata": {
        "id": "w99gDfutkB-e"
      },
      "execution_count": null,
      "outputs": []
    },
    {
      "cell_type": "code",
      "source": [
        "colunas = ['Nome', 'idade', 'Cidade'] #separando por categorias"
      ],
      "metadata": {
        "id": "3tYHNWlrkIRW"
      },
      "execution_count": null,
      "outputs": []
    },
    {
      "cell_type": "code",
      "source": [
        "df = pd.DataFrame(data, columns=colunas) #criando um dataframe utilizando listas\n",
        "df"
      ],
      "metadata": {
        "id": "s0BsA_F9kNGA"
      },
      "execution_count": null,
      "outputs": []
    },
    {
      "cell_type": "code",
      "source": [
        "#criando um dataframe a partir de um dicionário\n",
        "data = {'Nome': ['Alice', 'João', 'Bruno', 'Carlos'],\n",
        "         'Idade': [25, 30, 35, 40],\n",
        "         'Cidade': ['São Paulo', 'Rio de Janeiro', 'Curitiba', 'Manaus']}\n",
        "data"
      ],
      "metadata": {
        "id": "cd-2bJh-khbO"
      },
      "execution_count": null,
      "outputs": []
    },
    {
      "cell_type": "code",
      "source": [
        "type(data)"
      ],
      "metadata": {
        "id": "kWHB16mEkwWd"
      },
      "execution_count": null,
      "outputs": []
    },
    {
      "cell_type": "code",
      "source": [
        "df = pd.DataFrame(data)\n",
        "df"
      ],
      "metadata": {
        "id": "euvy2yEHk9A2"
      },
      "execution_count": null,
      "outputs": []
    },
    {
      "cell_type": "code",
      "source": [
        "#data frame criado a partir de um array\n",
        "data = np.array ([['Alice', 25, 'São Paulo'],\n",
        "        ['João', 30, 'Rio de Janeiro'],\n",
        "        ['Bruno', 35, 'Curitiba'],\n",
        "        ['Carlos', 40, 'Manaus']])\n",
        "type(data)"
      ],
      "metadata": {
        "id": "ekkzZ7mzk94G"
      },
      "execution_count": null,
      "outputs": []
    },
    {
      "cell_type": "code",
      "source": [
        "df = pd.DataFrame(data, columns=colunas)\n",
        "df"
      ],
      "metadata": {
        "id": "EdyQ6l5UlREm"
      },
      "execution_count": null,
      "outputs": []
    },
    {
      "cell_type": "code",
      "source": [
        "#dataframe com tuplas\n",
        "data = [('Alice', 25, 'São Paulo'),\n",
        "        ('João', 30, 'Rio de Janeiro'),\n",
        "        ('Bruno', 35, 'Curitiba'),\n",
        "        ('Carlos', 40, 'Manaus')]\n",
        "type(data), type(data[0])"
      ],
      "metadata": {
        "id": "4mLfGsJhlu_O"
      },
      "execution_count": null,
      "outputs": []
    },
    {
      "cell_type": "code",
      "source": [
        "df = pd.DataFrame(data, columns=colunas)\n",
        "df"
      ],
      "metadata": {
        "id": "8bNbaMg4mEev"
      },
      "execution_count": null,
      "outputs": []
    },
    {
      "cell_type": "code",
      "source": [
        "#utilizando a estrutura de dicionários organizado em séries e transformando em dataframe\n",
        "data= {'Nome': pd.Series (['Alice', 'João', 'Bruno', 'Carlos']),\n",
        "         'Idade': pd.Series ([25, 30, 35, 40]),\n",
        "         'Cidade': pd.Series (['São Paulo', 'Rio de Janeiro', 'Curitiba', 'Manaus'])}\n",
        "data"
      ],
      "metadata": {
        "id": "ACuw5hx3mih4"
      },
      "execution_count": null,
      "outputs": []
    },
    {
      "cell_type": "code",
      "source": [
        "df = pd.DataFrame(data)\n",
        "df"
      ],
      "metadata": {
        "id": "xxmEFsx4nFh2"
      },
      "execution_count": null,
      "outputs": []
    },
    {
      "cell_type": "code",
      "source": [
        "#utilizando dicionário organizando em array\n",
        "data = {'Nome': np.array(['Alice', 'João', 'Bruno', 'Carlos']),\n",
        "        'Idade': np.array([25, 30, 35, 40]),\n",
        "        'Cidade': np.array(['São Paulo', 'Rio de Janeiro', 'Curitiba', 'Manaus'])}\n",
        "data"
      ],
      "metadata": {
        "id": "Y5BCHZGpn1C2"
      },
      "execution_count": null,
      "outputs": []
    },
    {
      "cell_type": "code",
      "source": [
        "df = pd.DataFrame(data)\n",
        "df"
      ],
      "metadata": {
        "id": "rpUkPdgLn84L"
      },
      "execution_count": null,
      "outputs": []
    },
    {
      "cell_type": "markdown",
      "source": [
        "### Explorando dataframes"
      ],
      "metadata": {
        "id": "Z75grc7VoLWw"
      }
    },
    {
      "cell_type": "code",
      "source": [
        "dataset= pd.read_csv('census.csv')\n",
        "dataset"
      ],
      "metadata": {
        "id": "u0q6Cwa0oOD-"
      },
      "execution_count": null,
      "outputs": []
    },
    {
      "cell_type": "code",
      "source": [
        "dataset.head() #analisar apenas os 5 primeiros registros"
      ],
      "metadata": {
        "id": "VEee3HT0oUlQ"
      },
      "execution_count": null,
      "outputs": []
    },
    {
      "cell_type": "code",
      "source": [
        "dataset.tail() #analisar as últimas 5 linhas do registro"
      ],
      "metadata": {
        "id": "8bWxxyj3orSn"
      },
      "execution_count": null,
      "outputs": []
    },
    {
      "cell_type": "code",
      "source": [
        "dataset.shape #quantidade total de linhas e colunas"
      ],
      "metadata": {
        "id": "czsob3Ito0Bl"
      },
      "execution_count": null,
      "outputs": []
    },
    {
      "cell_type": "code",
      "source": [
        "dataset.size #multiplicação linha x coluna (32561 * 15)"
      ],
      "metadata": {
        "id": "tIxUkTTIo6rr"
      },
      "execution_count": null,
      "outputs": []
    },
    {
      "cell_type": "code",
      "source": [
        "dataset.index #índices"
      ],
      "metadata": {
        "id": "BcMowazLpFjY"
      },
      "execution_count": null,
      "outputs": []
    },
    {
      "cell_type": "code",
      "source": [
        "dataset.columns #colunas"
      ],
      "metadata": {
        "id": "dKqKsuNdpMHV"
      },
      "execution_count": null,
      "outputs": []
    },
    {
      "cell_type": "code",
      "source": [
        "dataset.axes #análise eixos"
      ],
      "metadata": {
        "id": "Odv_YaQLpSQh"
      },
      "execution_count": null,
      "outputs": []
    },
    {
      "cell_type": "code",
      "source": [
        "dataset.dtypes #volta o datatype de cada linha do registro"
      ],
      "metadata": {
        "id": "5wnWly2ipXw3"
      },
      "execution_count": null,
      "outputs": []
    },
    {
      "cell_type": "code",
      "source": [
        "dataset.info() #fornece a classe, os índices, o nome, o tipo, a quantiade de registros não nulos, etc."
      ],
      "metadata": {
        "id": "cgQnSJdrpfSu"
      },
      "execution_count": null,
      "outputs": []
    },
    {
      "cell_type": "code",
      "source": [
        "dataset.describe() #estatísticas sobre cada um dos atribustos numéricos"
      ],
      "metadata": {
        "id": "GLh3lw5-pm0Y"
      },
      "execution_count": null,
      "outputs": []
    },
    {
      "cell_type": "markdown",
      "source": [
        "### Acesso com loc e iloc"
      ],
      "metadata": {
        "id": "FK40RRXFp7FP"
      }
    },
    {
      "cell_type": "code",
      "source": [
        "dataset[\"age\"] #acessando uma parte específica do gráfico"
      ],
      "metadata": {
        "id": "ShSdTCW5p99X"
      },
      "execution_count": null,
      "outputs": []
    },
    {
      "cell_type": "code",
      "source": [
        "type(dataset[\"age\"]) #demonstrando que dataframes são conjuntos de séries"
      ],
      "metadata": {
        "id": "2CHgTN4gqFNp"
      },
      "execution_count": null,
      "outputs": []
    },
    {
      "cell_type": "code",
      "source": [
        "dataset.age.mean() #calculando a média da coluna age"
      ],
      "metadata": {
        "id": "fxI_2GoCqOhm"
      },
      "execution_count": null,
      "outputs": []
    },
    {
      "cell_type": "code",
      "source": [
        "dataset.age.iloc[0:4] #retornar apenas as primeiras idades"
      ],
      "metadata": {
        "id": "Cao81y3pqefD"
      },
      "execution_count": null,
      "outputs": []
    },
    {
      "cell_type": "code",
      "source": [
        "dataset[[\"age\", \"education\"]] #acessando somente age e education"
      ],
      "metadata": {
        "id": "YaywMzgTqolG"
      },
      "execution_count": null,
      "outputs": []
    },
    {
      "cell_type": "code",
      "source": [
        "dataset.iloc[0:4 ,0:4] #linhas(do 0 ao 4), colunas(do 0 ao 4)"
      ],
      "metadata": {
        "id": "7sVUpyG0q2z_"
      },
      "execution_count": null,
      "outputs": []
    },
    {
      "cell_type": "code",
      "source": [
        "dataset.iloc[0:4, :] #acessando apenas as linhas do 0 ao 4."
      ],
      "metadata": {
        "id": "X-EEyDkirC4h"
      },
      "execution_count": null,
      "outputs": []
    },
    {
      "cell_type": "code",
      "source": [
        "dataset.iloc[0:4,[0, 3, 5]] #acessando as primeiras 4 linhas, acessando essa colunas específicas"
      ],
      "metadata": {
        "id": "Ok8RR5furMZ-"
      },
      "execution_count": null,
      "outputs": []
    },
    {
      "cell_type": "code",
      "source": [
        "dataset.iloc[:, 0:4] #acessando apenas as 4 primeiras colunas"
      ],
      "metadata": {
        "id": "87btWn-frfyT"
      },
      "execution_count": null,
      "outputs": []
    },
    {
      "cell_type": "code",
      "source": [
        "dataset.loc[:, \"age\"] #acessando todas as linhas, mostrando apenas a coluna age"
      ],
      "metadata": {
        "id": "gfjPGzoArvP9"
      },
      "execution_count": null,
      "outputs": []
    },
    {
      "cell_type": "code",
      "source": [
        "dataset.loc[:, [\"age\", \"workclass\", \"education\"]] #acessando todas as linhas, mostrando apenas as colunas explicitadas"
      ],
      "metadata": {
        "id": "SSZRP4WusEwy"
      },
      "execution_count": null,
      "outputs": []
    },
    {
      "cell_type": "code",
      "source": [
        "dataset.loc[0:5, \"age\":\"occupation\"] #acessando as primeiras 5 linhas, e as colunas do intervalo do age ao occupation"
      ],
      "metadata": {
        "id": "il2_zli9sU2d"
      },
      "execution_count": null,
      "outputs": []
    },
    {
      "cell_type": "markdown",
      "source": [
        "### Apagar linhas e colunas"
      ],
      "metadata": {
        "id": "mGRuBZZHsyfQ"
      }
    },
    {
      "cell_type": "code",
      "source": [
        "dataset.drop(\"education\", axis = 1) #referenciando qual linha eu quero apagar\n",
        "#quando axis = 0 (linhas), quando axis = 1 (colunas)"
      ],
      "metadata": {
        "id": "LMew8uf6s1M-"
      },
      "execution_count": null,
      "outputs": []
    },
    {
      "cell_type": "code",
      "source": [
        "dataset.drop(\"final-weight\", axis =1, inplace= True) #apagando a coluna de forma definitiva da base de dados"
      ],
      "metadata": {
        "id": "5vHd7WlotBLu"
      },
      "execution_count": null,
      "outputs": []
    },
    {
      "cell_type": "code",
      "source": [
        "dataset.columns #repare que final-weight foi apagado, enquanto education só foi oculto visualmente"
      ],
      "metadata": {
        "id": "EFr5BNRytq8n"
      },
      "execution_count": null,
      "outputs": []
    },
    {
      "cell_type": "code",
      "source": [
        "dataset.drop([0], axis = 0) #apagando a primeira linha (deixando oculto)"
      ],
      "metadata": {
        "id": "ewplE0gLt8oB"
      },
      "execution_count": null,
      "outputs": []
    },
    {
      "cell_type": "code",
      "source": [
        "dataset.drop([0], axis= 0, inplace= True) #apagando a primeira linha de forma definitiva"
      ],
      "metadata": {
        "id": "5_q0_bSruGBf"
      },
      "execution_count": null,
      "outputs": []
    },
    {
      "cell_type": "code",
      "source": [
        "dataset.reset_index(drop= True, inplace = True) #resetando os índices (atualizando após ter apagado a linha)"
      ],
      "metadata": {
        "id": "79dvEPLpuWAk"
      },
      "execution_count": null,
      "outputs": []
    },
    {
      "cell_type": "markdown",
      "source": [
        "### Linhas duplicadas na base de dados"
      ],
      "metadata": {
        "id": "Vo6kyNz0ule8"
      }
    },
    {
      "cell_type": "code",
      "source": [
        "dataset.duplicated() #retorna se há linhas duplicadas"
      ],
      "metadata": {
        "id": "jnMOjx6PupTi"
      },
      "execution_count": null,
      "outputs": []
    },
    {
      "cell_type": "code",
      "source": [
        "dataset.duplicated().sum() #retorna a quantidade de linhas duplicadas"
      ],
      "metadata": {
        "id": "3dSOAm6suual"
      },
      "execution_count": null,
      "outputs": []
    },
    {
      "cell_type": "code",
      "source": [
        "dataset.iloc[[32557, 32558]]"
      ],
      "metadata": {
        "id": "9qkDfi7muy8G"
      },
      "execution_count": null,
      "outputs": []
    },
    {
      "cell_type": "code",
      "source": [
        "dataset.drop_duplicates() #apaga as linhas duplicadas (oculta)"
      ],
      "metadata": {
        "id": "-e4-5C9LvaoP"
      },
      "execution_count": null,
      "outputs": []
    },
    {
      "cell_type": "code",
      "source": [
        "dataset.duplicated(subset= \"age\").sum() #somatórios dos valores de colunas duplicadas"
      ],
      "metadata": {
        "id": "41_bauiIvfTQ"
      },
      "execution_count": null,
      "outputs": []
    },
    {
      "cell_type": "code",
      "source": [
        "dataset.drop_duplicates(subset= \"age\", keep = \"last\", ignore_index = True) #apaga as colunas (idades duplicadas), mantendo o útlimo registro duplicado e reorganizando os índices"
      ],
      "metadata": {
        "id": "vK_7gPwqwI0n"
      },
      "execution_count": null,
      "outputs": []
    },
    {
      "cell_type": "markdown",
      "source": [
        "### Valores faltantes"
      ],
      "metadata": {
        "id": "Sg10-ty0x4C9"
      }
    },
    {
      "cell_type": "code",
      "source": [
        "dataset.isna().sum() #os valores nulos está representados por '?'"
      ],
      "metadata": {
        "id": "p15Sh4N0x6pE"
      },
      "execution_count": null,
      "outputs": []
    },
    {
      "cell_type": "code",
      "source": [
        "dataset.loc[dataset[\"workclass\"].str.contains(\"\\?\")] #mostra"
      ],
      "metadata": {
        "id": "GEDOLGStyK7A"
      },
      "execution_count": null,
      "outputs": []
    },
    {
      "cell_type": "code",
      "source": [
        "colunas_categoricas = ['workclass', 'education', 'marital-status', 'occupation', 'relationship', 'race', 'sex', 'native-country', 'income']\n",
        "\n",
        "for coluna in colunas_categoricas:\n",
        "  #print(coluna)\n",
        "  tem_interrogacao= dataset[coluna].str.contains(\"\\?\").any() #percorrendo todas as colunas\n",
        "  if tem_interrogacao:\n",
        "    print(f\"na coluna ' {coluna} 'tem interrogacao '?' \")"
      ],
      "metadata": {
        "id": "0sMbjRPaBqlN"
      },
      "execution_count": null,
      "outputs": []
    },
    {
      "cell_type": "code",
      "source": [
        "for coluna in colunas_categoricas:\n",
        "  dataset[coluna] = dataset[coluna].replace(' ?', np.nan) #substituir toda interrogação por nan"
      ],
      "metadata": {
        "id": "Z8tUAiTcFFAi"
      },
      "execution_count": null,
      "outputs": []
    },
    {
      "cell_type": "code",
      "source": [
        "dataset.isna().sum() #retorna a quantidade de valores faltantes"
      ],
      "metadata": {
        "id": "ABTUFWynFUzR"
      },
      "execution_count": null,
      "outputs": []
    },
    {
      "cell_type": "code",
      "source": [
        "dataset.fillna(\"Não informado\").iloc[0:30] #colocar 'não informado' no lugar de 0"
      ],
      "metadata": {
        "id": "AO0JQgAGFaom"
      },
      "execution_count": null,
      "outputs": []
    },
    {
      "cell_type": "code",
      "source": [
        "dataset[\"workclass\"].mode() #retorna o valor mais frequente"
      ],
      "metadata": {
        "id": "Rhm7LjCJFqBB"
      },
      "execution_count": null,
      "outputs": []
    },
    {
      "cell_type": "code",
      "source": [
        "dataset[\"occupation\"].mode() #retorna o valor mais frequente"
      ],
      "metadata": {
        "id": "3gNpWJZJFvcm"
      },
      "execution_count": null,
      "outputs": []
    },
    {
      "cell_type": "code",
      "source": [
        "dataset[\"native-country\"].mode() #retorna o valor mais frequente"
      ],
      "metadata": {
        "id": "Ogs6_Ny6Fy_W"
      },
      "execution_count": null,
      "outputs": []
    },
    {
      "cell_type": "code",
      "source": [
        "dataset[\"workclass\"].fillna(dataset[\"workclass\"].mode().iloc[0], inplace= True) #substutuindo valores"
      ],
      "metadata": {
        "id": "71cjtZn0F4YW"
      },
      "execution_count": null,
      "outputs": []
    },
    {
      "cell_type": "code",
      "source": [
        "dataset[\"occupation\"].fillna(dataset[\"occupation\"].mode().iloc[0], inplace= True)"
      ],
      "metadata": {
        "id": "z8U8RqpvGOhP"
      },
      "execution_count": null,
      "outputs": []
    },
    {
      "cell_type": "code",
      "source": [
        "dataset[\"native-country\"].fillna(dataset[\"native-country\"].mode().iloc[0], inplace= True)"
      ],
      "metadata": {
        "id": "Y0tpG1amGYt4"
      },
      "execution_count": null,
      "outputs": []
    },
    {
      "cell_type": "code",
      "source": [
        "dataset.isna().sum()"
      ],
      "metadata": {
        "id": "KpTbmr8qGlwm"
      },
      "execution_count": null,
      "outputs": []
    },
    {
      "cell_type": "markdown",
      "source": [
        "### Contagem de valores"
      ],
      "metadata": {
        "id": "Gngrl9lJJFTi"
      }
    },
    {
      "cell_type": "code",
      "source": [
        "dataset.age.value_counts()"
      ],
      "metadata": {
        "id": "Kh5P69yuHR-O"
      },
      "execution_count": null,
      "outputs": []
    },
    {
      "cell_type": "code",
      "source": [
        "dataset.workclass.value_counts(normalize= True, sort= False)*100"
      ],
      "metadata": {
        "id": "p8ymJutfH0i6"
      },
      "execution_count": null,
      "outputs": []
    },
    {
      "cell_type": "code",
      "source": [
        "for coluna in dataset.columns:\n",
        "  #print(coluna, dataset[coluna].dtype)\n",
        "  if dataset[coluna].dtype == object:\n",
        "    print('--------', coluna, '--------')\n",
        "    print(dataset[coluna].value_counts(normalize= True))\n",
        "    print()"
      ],
      "metadata": {
        "id": "ub4xxBUNIGB8"
      },
      "execution_count": null,
      "outputs": []
    },
    {
      "cell_type": "markdown",
      "source": [
        "### Ordenação do dataframe"
      ],
      "metadata": {
        "id": "U6D-4FNiJMgh"
      }
    },
    {
      "cell_type": "code",
      "source": [
        "dataset.sort_index(ascending= True) #ordenando pelo índice"
      ],
      "metadata": {
        "id": "l72Ua5KZJPRM"
      },
      "execution_count": null,
      "outputs": []
    },
    {
      "cell_type": "code",
      "source": [
        "dataset.sort_values([\"age\", \"workclass\"], ascending= [False, True], inplace= True) #ordenando por colunas, com ascending declarando se vai ser crescente ou descrescente e o inplace definindo a alteração"
      ],
      "metadata": {
        "id": "DIyOcdHbJa9c"
      },
      "execution_count": null,
      "outputs": []
    },
    {
      "cell_type": "code",
      "source": [
        "dataset.reset_index(drop= True, inplace= True) #resetando índice"
      ],
      "metadata": {
        "id": "nCooRiLNKhxz"
      },
      "execution_count": null,
      "outputs": []
    },
    {
      "cell_type": "markdown",
      "source": [
        "### filtragem do dataset.loc"
      ],
      "metadata": {
        "id": "Xg3L2MT4KsyJ"
      }
    },
    {
      "cell_type": "code",
      "source": [
        "dataset.loc[dataset.education == 'Bachelors', [\"age\", \"workclass\", \"education-num\"]] #colocando o filtro por linha"
      ],
      "metadata": {
        "id": "e0tlKsKIKxet"
      },
      "execution_count": null,
      "outputs": []
    },
    {
      "cell_type": "code",
      "source": [
        "dataset.loc[(dataset[\"education-num\"]==6) & (dataset[\"marital-status\"]== \" never merried\")] #filtrando education.num para 6. E o estado civil"
      ],
      "metadata": {
        "id": "zBo-k3rALTUm"
      },
      "execution_count": null,
      "outputs": []
    },
    {
      "cell_type": "code",
      "source": [
        "dataset.query(\" `education-num` ==6 and `marital-status` == ' never-merried' \") #dois filtros"
      ],
      "metadata": {
        "id": "ImQMfHCgVB5a"
      },
      "execution_count": null,
      "outputs": []
    },
    {
      "cell_type": "code",
      "source": [
        "dataset.query(\"age > 35 and workclass == ' Private' \") #dois filtros"
      ],
      "metadata": {
        "id": "dQDrG-y-VqKd"
      },
      "execution_count": null,
      "outputs": []
    },
    {
      "cell_type": "code",
      "source": [
        "dataset.query(\"age > 35 and workclass == ' Private' \").loc[:, \"capital-gain\"].sum() #retornando as linhas com o filtro nas colunas e somando todo o ganho de pessoas acima de 35 anos com workclass = private"
      ],
      "metadata": {
        "id": "oge6Wbf4V_Bw"
      },
      "execution_count": null,
      "outputs": []
    },
    {
      "cell_type": "markdown",
      "source": [
        "### Renomear e reordenar"
      ],
      "metadata": {
        "id": "-kZh9RFGWY3S"
      }
    },
    {
      "cell_type": "code",
      "source": [
        "dataset.columns = [coluna.upper() for coluna in dataset.columns] #transformando as colunas em letras maiusculas\n",
        "dataset.columns"
      ],
      "metadata": {
        "id": "e7teO07DWbzE"
      },
      "execution_count": null,
      "outputs": []
    },
    {
      "cell_type": "code",
      "source": [
        "dataset.columns = [coluna.lower() for coluna in dataset.columns] #transformando as colunas em letras minúsculas\n",
        "dataset.columns"
      ],
      "metadata": {
        "id": "o0W_GNmyWq54"
      },
      "execution_count": null,
      "outputs": []
    },
    {
      "cell_type": "code",
      "source": [
        "dataset.rename(columns= {\"idade\": \"age\", \"trabalho\": \"workclass\"}, inplace = True) #mudando o nome das colunas"
      ],
      "metadata": {
        "id": "sXtVTd4JW10P"
      },
      "execution_count": null,
      "outputs": []
    },
    {
      "cell_type": "code",
      "source": [
        "dataset.head()"
      ],
      "metadata": {
        "id": "xeVTb1O8XK9v"
      },
      "execution_count": null,
      "outputs": []
    },
    {
      "cell_type": "code",
      "source": [
        "dataset= dataset.reindex(labels= ['workclass', 'age', 'final-weight', 'education', 'education-num',\n",
        "       'marital-status', 'occupation', 'relationship', 'race', 'sex',\n",
        "       'capital-gain', 'capital-loos', 'hour-per-week', 'native-country',\n",
        "       'income'], axis = 1) #trocando a ordem das colunas age pelo workclass, colocando axis = 1 para mudar apenas as colunas e não as linhas\n",
        "\n",
        "dataset"
      ],
      "metadata": {
        "id": "R59Eon8KXVw9"
      },
      "execution_count": null,
      "outputs": []
    },
    {
      "cell_type": "markdown",
      "source": [
        "### Criação de colunas"
      ],
      "metadata": {
        "id": "5vaa_N3nY0kD"
      }
    },
    {
      "cell_type": "code",
      "source": [
        "dataset[\"hour-per-month\"]= dataset[\"hour-per-week\"] * 4 #criando uma colunas que conta as horas trabalhadas por mês\n",
        "dataset.head()"
      ],
      "metadata": {
        "id": "T2SmWZCXY4ac"
      },
      "execution_count": null,
      "outputs": []
    },
    {
      "cell_type": "code",
      "source": [
        "dataset[\"high-education-level\"]= dataset[\"education-num\"] > 11 #valida a educação. Se maior que 11, é verdadeiro, se menor é falso\n",
        "dataset.head()"
      ],
      "metadata": {
        "id": "mMO6fNqIZX1K"
      },
      "execution_count": null,
      "outputs": []
    },
    {
      "cell_type": "code",
      "source": [
        "dicionario_map= {\"<=50k\": \"low\", \">50k\": \"high\"} #dicionario que define caso a pessoa ganhe pouco (menos que 50k) e caso ela ganhe muito (mais que 50k)"
      ],
      "metadata": {
        "id": "YqU3dCQWZxNa"
      },
      "execution_count": null,
      "outputs": []
    },
    {
      "cell_type": "code",
      "source": [
        "dataset[\"category-income\"]= dataset[\"income\"].map(dicionario_map)\n",
        "dataset"
      ],
      "metadata": {
        "id": "CFSRZkEaaJ6_"
      },
      "execution_count": null,
      "outputs": []
    },
    {
      "cell_type": "code",
      "source": [
        "dataset[\"capital-gain-usd\"]= dataset[\"capital-gain\"].map(lambda x: f\"USD {x}\") #aplicando uma formatação. Agora aparece USD ao lados dos valores\n",
        "dataset.head()"
      ],
      "metadata": {
        "id": "Tbt_9bMVam_Y"
      },
      "execution_count": null,
      "outputs": []
    },
    {
      "cell_type": "code",
      "source": [
        "from datetime import datetime #importando data e hora"
      ],
      "metadata": {
        "id": "eCULeS47bB9n"
      },
      "execution_count": null,
      "outputs": []
    },
    {
      "cell_type": "code",
      "source": [
        "datetime.now().year"
      ],
      "metadata": {
        "id": "uJ7nTmotbFr4"
      },
      "execution_count": null,
      "outputs": []
    },
    {
      "cell_type": "code",
      "source": [
        "dataset= dataset.assign(birth= datetime.now().year - dataset[\"age\"], hardwork= dataset[\"hour-per-week\"] > 40) #descobrindo a idade que a pessoa nasceu com base no ano atual e classificando quem trabalha mais\n",
        "dataset"
      ],
      "metadata": {
        "id": "MtqU_Bj3bNL4"
      },
      "execution_count": null,
      "outputs": []
    },
    {
      "cell_type": "code",
      "source": [
        "dataset.loc[dataset[\"hardwork\"] == True] #filtro de pessoas que trabalham mais de 40 horas por semana"
      ],
      "metadata": {
        "id": "1d7v5pamb98A"
      },
      "execution_count": null,
      "outputs": []
    },
    {
      "cell_type": "markdown",
      "source": [
        "### Colunas categóricas"
      ],
      "metadata": {
        "id": "7gZ2yXaycVjg"
      }
    },
    {
      "cell_type": "code",
      "source": [
        "dataset.info() #obtendo colunas categóricas"
      ],
      "metadata": {
        "id": "JCsSpAOfcXvg"
      },
      "execution_count": null,
      "outputs": []
    },
    {
      "cell_type": "code",
      "source": [
        "dataset[\"native-country\"].unique() #retorna os países únicos nessa base de dados"
      ],
      "metadata": {
        "id": "GLhDTbe4ceo_"
      },
      "execution_count": null,
      "outputs": []
    },
    {
      "cell_type": "code",
      "source": [
        "dataset= dataset.astype({\"native-country\": \"category\"}) #alterando o tipo de variáveis, transformando os nomes em números para reduzir a memória.\n",
        "dataset"
      ],
      "metadata": {
        "id": "tXu3wqtTcwdY"
      },
      "execution_count": null,
      "outputs": []
    },
    {
      "cell_type": "markdown",
      "source": [
        "### Agregação"
      ],
      "metadata": {
        "id": "pbK4clXdddT4"
      }
    },
    {
      "cell_type": "code",
      "source": [
        "dataset.loc[:, \"hour-per-week\"].sum()"
      ],
      "metadata": {
        "id": "RCu1xNStdfA_"
      },
      "execution_count": null,
      "outputs": []
    },
    {
      "cell_type": "code",
      "source": [
        "dataset.loc[:, [\"hour-per-week\", \"age\"]].sum() #soma de horas trabalhadas e anos"
      ],
      "metadata": {
        "id": "F3crb1xgdxv3"
      },
      "execution_count": null,
      "outputs": []
    },
    {
      "cell_type": "code",
      "source": [
        "dataset.loc[:, \"hour-per-week\"].mean().round(2) #media de horas trabalhadas voltando só 2 unidades decimais"
      ],
      "metadata": {
        "id": "m0ZSuZkBd_BI"
      },
      "execution_count": null,
      "outputs": []
    },
    {
      "cell_type": "code",
      "source": [
        "dataset.loc[:, [\"hour-per-week\", \"age\"]].std().round(2) #desvio padrão"
      ],
      "metadata": {
        "id": "ibHPZGRLeNc0"
      },
      "execution_count": null,
      "outputs": []
    },
    {
      "cell_type": "code",
      "source": [
        "dataset.loc[:, [\"hour-per-week\", \"age\"]].min().round(2) #valores mínimos, a pessoa que menos trabalha e mais nova"
      ],
      "metadata": {
        "id": "Cf80Y5tfeasD"
      },
      "execution_count": null,
      "outputs": []
    },
    {
      "cell_type": "code",
      "source": [
        "dataset.loc[:, [\"hour-per-week\", \"age\"]].max().round(2) #valores máximos, a pessoa que mais trabalha e mais velha"
      ],
      "metadata": {
        "id": "kslFunKoeiOL"
      },
      "execution_count": null,
      "outputs": []
    },
    {
      "cell_type": "code",
      "source": [
        "dataset.mean(numeric_only= True) #extração da média de todas as colunas numéricas"
      ],
      "metadata": {
        "id": "w-CHHA9yepBA"
      },
      "execution_count": null,
      "outputs": []
    },
    {
      "cell_type": "markdown",
      "source": [
        "### Agrupamento"
      ],
      "metadata": {
        "id": "fkjnAUIWxpiP"
      }
    },
    {
      "cell_type": "code",
      "source": [
        "dataset[\"workclass\"].unique() #mostrando qte de valores únicos no atributo workclass"
      ],
      "metadata": {
        "id": "yCmGgHanxsAl"
      },
      "execution_count": null,
      "outputs": []
    },
    {
      "cell_type": "code",
      "source": [
        "dataset.groupby(\"workclass\")[\"hour-per-week\"].mean().sort_values() #primeiro declaro o atributo categórico que quero agrupar, depois o atributo numérico que vai ser realizado os cálculos e no final a função agregada e no final ordenando em ordem crescente (quem trabalha menos para quem trabalha mais)"
      ],
      "metadata": {
        "id": "bMsU2CWIxxFw"
      },
      "execution_count": null,
      "outputs": []
    },
    {
      "cell_type": "code",
      "source": [
        "group= dataset.groupby(\"workclass\")[\"hour-per-week\"].mean().sort_values()\n",
        "type(group) #atrelando isso a uma variável (note que é uma série do Pandas)"
      ],
      "metadata": {
        "id": "f-UTg03oz7l0"
      },
      "execution_count": null,
      "outputs": []
    },
    {
      "cell_type": "code",
      "source": [
        "dataset.groupby(\"income\")[\"education-num\"].mean() #fazendo a média de quantos anos as pessoas estudam em relação a sua renda\n",
        "#pessoas que ganham mais de 50k, estudam por mais tempo em relação as que ganham menos"
      ],
      "metadata": {
        "id": "RgeLLno105CH"
      },
      "execution_count": null,
      "outputs": []
    },
    {
      "cell_type": "code",
      "source": [
        "group= dataset.groupby([\"income\",\"workclass\"])[\"hour-per-week\"].mean().sort_values().sort_index() #ordenando em forma de lista, com a coluna income, workclass e o atributo numérico hours-per-week, ordenando de forma crescente e por índice\n",
        "group\n",
        "# pessoas que trabalham 3 horas a mais ganham mais de 50k, em relação as que trabalham menos e ganham menos"
      ],
      "metadata": {
        "id": "FJx34FMW2GPp"
      },
      "execution_count": null,
      "outputs": []
    },
    {
      "cell_type": "code",
      "source": [
        "group.index"
      ],
      "metadata": {
        "id": "_SDBA0mp3rbG"
      },
      "execution_count": null,
      "outputs": []
    },
    {
      "cell_type": "code",
      "source": [
        "group.loc[\" <=50K\"]"
      ],
      "metadata": {
        "id": "nkQYJGhM31Le"
      },
      "execution_count": null,
      "outputs": []
    },
    {
      "cell_type": "code",
      "source": [
        "group.loc[(\" <=50k\", \" Federal-gov\"):(\" <=50k\", \" Private\")] #definindo intervalo de índices"
      ],
      "metadata": {
        "id": "pElewbns36-P"
      },
      "execution_count": null,
      "outputs": []
    },
    {
      "cell_type": "code",
      "source": [
        "group.loc[\" <=50k\"][\" Federal-gov\":\"Never-worked\"] #intervalo"
      ],
      "metadata": {
        "id": "hlC5EYPj--wi"
      },
      "execution_count": null,
      "outputs": []
    },
    {
      "cell_type": "code",
      "source": [
        "group= dataset.groupby([\"income\", \"workclass\"], as_index= False) [\"hour-per-week\"].mean().sort_index() #agrupamento dos atributos income e workclass e não gerando um índice múltiplo\n",
        "group\n",
        "#isso gerou um dataframe, não mais uma série"
      ],
      "metadata": {
        "id": "9BQXfc6E_pVd"
      },
      "execution_count": null,
      "outputs": []
    },
    {
      "cell_type": "code",
      "source": [
        "group.query(\"workclass== ' Federal-gov'\") #separando e visualizando melhor os dados"
      ],
      "metadata": {
        "id": "-n6oy68fAdsW"
      },
      "execution_count": null,
      "outputs": []
    },
    {
      "cell_type": "markdown",
      "source": [
        "### Agrupamento com agregação"
      ],
      "metadata": {
        "id": "tq2gLNp5BXbi"
      }
    },
    {
      "cell_type": "code",
      "source": [
        "dataset.groupby([\"income\", \"workclass\"]).agg(\"mean\", numeric_only= True) #agrupando e utilizando a função agg(agregar) passando as operações por strings. Passando o parametro numeric_only para que se analise apenas valores numéricos"
      ],
      "metadata": {
        "id": "BwHN5iXNBptg"
      },
      "execution_count": null,
      "outputs": []
    },
    {
      "cell_type": "code",
      "source": [
        "dataset.groupby([\"income\", \"workclass\"]).agg({\"age\": [\"mean\", \"std\"],\n",
        "                                              \"hour-per-week\": [\"min\", \"max\"]}) #definindo funções agregadas de acordo com a necessidade"
      ],
      "metadata": {
        "id": "LTB5PchVDgWC"
      },
      "execution_count": null,
      "outputs": []
    },
    {
      "cell_type": "code",
      "source": [
        "dataset.groupby([\"income\", \"workclass\"]).agg(age_mean= (\"age\", \"mean\"),\n",
        "                                             age_std= (\"age\", \"std\"),\n",
        "                                             hour_min= (\"hour-per-week\",\"min\"),\n",
        "                                             hour_max= (\"hour-per-week\", \"max\")) #definindo funções agregadas de acordo com a necessidade. Mostrando de uma outra forma, mais organizada"
      ],
      "metadata": {
        "id": "ZZSKSTRpEXzB"
      },
      "execution_count": null,
      "outputs": []
    },
    {
      "cell_type": "markdown",
      "source": [
        "### Agregação com transform"
      ],
      "metadata": {
        "id": "0PZ05-4-GUOB"
      }
    },
    {
      "cell_type": "code",
      "source": [
        "group = dataset.groupby([\"workclass\"], as_index= False)[\"hour-per-week\"].mean().sort_index()\n",
        "group #realizando um agrupamento"
      ],
      "metadata": {
        "id": "TMnDTwLLGbQW"
      },
      "execution_count": null,
      "outputs": []
    },
    {
      "cell_type": "code",
      "source": [
        "group.assign(avg_age= dataset.groupby([\"workclass\"])[\"age\"].transform(\"mean\"),\n",
        "            avg_education= dataset.groupby([\"workclass\"])[\"education-num\"].transform(\"mean\")) #adicionando duas colunas a mais no agrupamento com a média de idade em relação a suas profissões e a média dos anos estudados"
      ],
      "metadata": {
        "id": "DfpsZkPVHEAP"
      },
      "execution_count": null,
      "outputs": []
    },
    {
      "cell_type": "markdown",
      "source": [
        "### Tabelas pivot\n",
        "visualização de dados quando agrupados"
      ],
      "metadata": {
        "id": "11njczpMINYn"
      }
    },
    {
      "cell_type": "code",
      "source": [
        "dataset.pivot_table(index= \"income\",\n",
        "                    columns= \"workclass\",\n",
        "                    values= \"age\",\n",
        "                    aggfunc=\"mean\") #agrupamento entre renda e tipo de trabalho, valores númerico que vai ser analisado e qual função vai fazer a agregação (no caso a média)"
      ],
      "metadata": {
        "id": "-kcTghfeIZ4u"
      },
      "execution_count": null,
      "outputs": []
    },
    {
      "cell_type": "code",
      "source": [
        "dataset.pivot_table(index= \"marital-status\",\n",
        "                    columns = \"income\",\n",
        "                    values= \"education-num\",\n",
        "                    aggfunc= \"mean\",\n",
        "                    margins= True)"
      ],
      "metadata": {
        "id": "L7Fd1_pRITrj"
      },
      "execution_count": null,
      "outputs": []
    },
    {
      "cell_type": "markdown",
      "source": [],
      "metadata": {
        "id": "xwKTZndRI6nN"
      }
    },
    {
      "cell_type": "code",
      "source": [
        "dataset.pivot_table(index= \"marital-status\",\n",
        "                    columns = \"income\",\n",
        "                    values= \"education-num\",\n",
        "                    aggfunc= (\"mean\", \"max\")).style.background_gradient(cmap= \"Blues\") #organizando esses dados em tuplas, e um estilo de tabela"
      ],
      "metadata": {
        "id": "nQ1TjomRJ9yJ"
      },
      "execution_count": null,
      "outputs": []
    },
    {
      "cell_type": "markdown",
      "source": [
        "### Concatenação"
      ],
      "metadata": {
        "id": "IUPaQZyQKyu2"
      }
    },
    {
      "cell_type": "code",
      "source": [
        "data= {'idvenda': [123, 374, 654, 345],\n",
        "       'data': ['2024-01-19', '2024-01-20', '2024-01-21', '2024-01-21'],\n",
        "       'idvendedor': [1, np.nan, 2, 3],\n",
        "       'valor_total': [45.76, 102.34, 56.34, 34.21]} #dicionário com informações\n",
        "df1 = pd.DataFrame.from_dict(data) #variável que recebe o dicionário\n",
        "df1"
      ],
      "metadata": {
        "id": "qKEklm3jK1hm"
      },
      "execution_count": null,
      "outputs": []
    },
    {
      "cell_type": "code",
      "source": [
        "data= {'idvenda': [123, 374, 654, 345],\n",
        "       'data': ['2024-01-19', '2024-01-20', '2024-01-21', '2024-01-21'],\n",
        "       'idvendedor': [1, np.nan, 2, 3],\n",
        "       'valor_total': [45.76, 102.34, 56.34, 34.21]} #dicionário com informações\n",
        "df2 = pd.DataFrame.from_dict(data) #variável que recebe o dicionário\n",
        "df2"
      ],
      "metadata": {
        "id": "LWLNpu3qgW81"
      },
      "execution_count": null,
      "outputs": []
    },
    {
      "cell_type": "code",
      "source": [
        "data_complete= pd.concat([df1, df2], ignore_index= True) #concatenando os dois dataframes\n",
        "data_complete #se eu quiser realizar um filtro com o nome dos vendedores, eu não vou conseguir, pois aqui eu só tenho o id deles"
      ],
      "metadata": {
        "id": "fUyoZZPqgivk"
      },
      "execution_count": null,
      "outputs": []
    },
    {
      "cell_type": "markdown",
      "source": [
        "### Junção"
      ],
      "metadata": {
        "id": "EivBV6PGhlLO"
      }
    },
    {
      "cell_type": "code",
      "source": [
        "data= {'idvendedor': [1,2,3,4],\n",
        "       'nome': ['Julia', 'Paulo', 'Jessica', 'Marcos']}\n",
        "df_vendedor= pd.DataFrame.from_dict(data)\n",
        "df_vendedor #gerando um dicionário com os nomes dos vendedores"
      ],
      "metadata": {
        "id": "iRrLgdaWhnCz",
        "outputId": "80ea09ad-3d09-4d68-ec28-e63f3530d766",
        "colab": {
          "base_uri": "https://localhost:8080/",
          "height": 175
        }
      },
      "execution_count": 46,
      "outputs": [
        {
          "output_type": "execute_result",
          "data": {
            "text/plain": [
              "   idvendedor     nome\n",
              "0           1    Julia\n",
              "1           2    Paulo\n",
              "2           3  Jessica\n",
              "3           4   Marcos"
            ],
            "text/html": [
              "\n",
              "  <div id=\"df-a3bfbe02-69c8-4e1d-bbe1-399c9df79f86\" class=\"colab-df-container\">\n",
              "    <div>\n",
              "<style scoped>\n",
              "    .dataframe tbody tr th:only-of-type {\n",
              "        vertical-align: middle;\n",
              "    }\n",
              "\n",
              "    .dataframe tbody tr th {\n",
              "        vertical-align: top;\n",
              "    }\n",
              "\n",
              "    .dataframe thead th {\n",
              "        text-align: right;\n",
              "    }\n",
              "</style>\n",
              "<table border=\"1\" class=\"dataframe\">\n",
              "  <thead>\n",
              "    <tr style=\"text-align: right;\">\n",
              "      <th></th>\n",
              "      <th>idvendedor</th>\n",
              "      <th>nome</th>\n",
              "    </tr>\n",
              "  </thead>\n",
              "  <tbody>\n",
              "    <tr>\n",
              "      <th>0</th>\n",
              "      <td>1</td>\n",
              "      <td>Julia</td>\n",
              "    </tr>\n",
              "    <tr>\n",
              "      <th>1</th>\n",
              "      <td>2</td>\n",
              "      <td>Paulo</td>\n",
              "    </tr>\n",
              "    <tr>\n",
              "      <th>2</th>\n",
              "      <td>3</td>\n",
              "      <td>Jessica</td>\n",
              "    </tr>\n",
              "    <tr>\n",
              "      <th>3</th>\n",
              "      <td>4</td>\n",
              "      <td>Marcos</td>\n",
              "    </tr>\n",
              "  </tbody>\n",
              "</table>\n",
              "</div>\n",
              "    <div class=\"colab-df-buttons\">\n",
              "\n",
              "  <div class=\"colab-df-container\">\n",
              "    <button class=\"colab-df-convert\" onclick=\"convertToInteractive('df-a3bfbe02-69c8-4e1d-bbe1-399c9df79f86')\"\n",
              "            title=\"Convert this dataframe to an interactive table.\"\n",
              "            style=\"display:none;\">\n",
              "\n",
              "  <svg xmlns=\"http://www.w3.org/2000/svg\" height=\"24px\" viewBox=\"0 -960 960 960\">\n",
              "    <path d=\"M120-120v-720h720v720H120Zm60-500h600v-160H180v160Zm220 220h160v-160H400v160Zm0 220h160v-160H400v160ZM180-400h160v-160H180v160Zm440 0h160v-160H620v160ZM180-180h160v-160H180v160Zm440 0h160v-160H620v160Z\"/>\n",
              "  </svg>\n",
              "    </button>\n",
              "\n",
              "  <style>\n",
              "    .colab-df-container {\n",
              "      display:flex;\n",
              "      gap: 12px;\n",
              "    }\n",
              "\n",
              "    .colab-df-convert {\n",
              "      background-color: #E8F0FE;\n",
              "      border: none;\n",
              "      border-radius: 50%;\n",
              "      cursor: pointer;\n",
              "      display: none;\n",
              "      fill: #1967D2;\n",
              "      height: 32px;\n",
              "      padding: 0 0 0 0;\n",
              "      width: 32px;\n",
              "    }\n",
              "\n",
              "    .colab-df-convert:hover {\n",
              "      background-color: #E2EBFA;\n",
              "      box-shadow: 0px 1px 2px rgba(60, 64, 67, 0.3), 0px 1px 3px 1px rgba(60, 64, 67, 0.15);\n",
              "      fill: #174EA6;\n",
              "    }\n",
              "\n",
              "    .colab-df-buttons div {\n",
              "      margin-bottom: 4px;\n",
              "    }\n",
              "\n",
              "    [theme=dark] .colab-df-convert {\n",
              "      background-color: #3B4455;\n",
              "      fill: #D2E3FC;\n",
              "    }\n",
              "\n",
              "    [theme=dark] .colab-df-convert:hover {\n",
              "      background-color: #434B5C;\n",
              "      box-shadow: 0px 1px 3px 1px rgba(0, 0, 0, 0.15);\n",
              "      filter: drop-shadow(0px 1px 2px rgba(0, 0, 0, 0.3));\n",
              "      fill: #FFFFFF;\n",
              "    }\n",
              "  </style>\n",
              "\n",
              "    <script>\n",
              "      const buttonEl =\n",
              "        document.querySelector('#df-a3bfbe02-69c8-4e1d-bbe1-399c9df79f86 button.colab-df-convert');\n",
              "      buttonEl.style.display =\n",
              "        google.colab.kernel.accessAllowed ? 'block' : 'none';\n",
              "\n",
              "      async function convertToInteractive(key) {\n",
              "        const element = document.querySelector('#df-a3bfbe02-69c8-4e1d-bbe1-399c9df79f86');\n",
              "        const dataTable =\n",
              "          await google.colab.kernel.invokeFunction('convertToInteractive',\n",
              "                                                    [key], {});\n",
              "        if (!dataTable) return;\n",
              "\n",
              "        const docLinkHtml = 'Like what you see? Visit the ' +\n",
              "          '<a target=\"_blank\" href=https://colab.research.google.com/notebooks/data_table.ipynb>data table notebook</a>'\n",
              "          + ' to learn more about interactive tables.';\n",
              "        element.innerHTML = '';\n",
              "        dataTable['output_type'] = 'display_data';\n",
              "        await google.colab.output.renderOutput(dataTable, element);\n",
              "        const docLink = document.createElement('div');\n",
              "        docLink.innerHTML = docLinkHtml;\n",
              "        element.appendChild(docLink);\n",
              "      }\n",
              "    </script>\n",
              "  </div>\n",
              "\n",
              "\n",
              "    <div id=\"df-2b945667-cf6b-422b-a762-2af651c9ca3c\">\n",
              "      <button class=\"colab-df-quickchart\" onclick=\"quickchart('df-2b945667-cf6b-422b-a762-2af651c9ca3c')\"\n",
              "                title=\"Suggest charts\"\n",
              "                style=\"display:none;\">\n",
              "\n",
              "<svg xmlns=\"http://www.w3.org/2000/svg\" height=\"24px\"viewBox=\"0 0 24 24\"\n",
              "     width=\"24px\">\n",
              "    <g>\n",
              "        <path d=\"M19 3H5c-1.1 0-2 .9-2 2v14c0 1.1.9 2 2 2h14c1.1 0 2-.9 2-2V5c0-1.1-.9-2-2-2zM9 17H7v-7h2v7zm4 0h-2V7h2v10zm4 0h-2v-4h2v4z\"/>\n",
              "    </g>\n",
              "</svg>\n",
              "      </button>\n",
              "\n",
              "<style>\n",
              "  .colab-df-quickchart {\n",
              "      --bg-color: #E8F0FE;\n",
              "      --fill-color: #1967D2;\n",
              "      --hover-bg-color: #E2EBFA;\n",
              "      --hover-fill-color: #174EA6;\n",
              "      --disabled-fill-color: #AAA;\n",
              "      --disabled-bg-color: #DDD;\n",
              "  }\n",
              "\n",
              "  [theme=dark] .colab-df-quickchart {\n",
              "      --bg-color: #3B4455;\n",
              "      --fill-color: #D2E3FC;\n",
              "      --hover-bg-color: #434B5C;\n",
              "      --hover-fill-color: #FFFFFF;\n",
              "      --disabled-bg-color: #3B4455;\n",
              "      --disabled-fill-color: #666;\n",
              "  }\n",
              "\n",
              "  .colab-df-quickchart {\n",
              "    background-color: var(--bg-color);\n",
              "    border: none;\n",
              "    border-radius: 50%;\n",
              "    cursor: pointer;\n",
              "    display: none;\n",
              "    fill: var(--fill-color);\n",
              "    height: 32px;\n",
              "    padding: 0;\n",
              "    width: 32px;\n",
              "  }\n",
              "\n",
              "  .colab-df-quickchart:hover {\n",
              "    background-color: var(--hover-bg-color);\n",
              "    box-shadow: 0 1px 2px rgba(60, 64, 67, 0.3), 0 1px 3px 1px rgba(60, 64, 67, 0.15);\n",
              "    fill: var(--button-hover-fill-color);\n",
              "  }\n",
              "\n",
              "  .colab-df-quickchart-complete:disabled,\n",
              "  .colab-df-quickchart-complete:disabled:hover {\n",
              "    background-color: var(--disabled-bg-color);\n",
              "    fill: var(--disabled-fill-color);\n",
              "    box-shadow: none;\n",
              "  }\n",
              "\n",
              "  .colab-df-spinner {\n",
              "    border: 2px solid var(--fill-color);\n",
              "    border-color: transparent;\n",
              "    border-bottom-color: var(--fill-color);\n",
              "    animation:\n",
              "      spin 1s steps(1) infinite;\n",
              "  }\n",
              "\n",
              "  @keyframes spin {\n",
              "    0% {\n",
              "      border-color: transparent;\n",
              "      border-bottom-color: var(--fill-color);\n",
              "      border-left-color: var(--fill-color);\n",
              "    }\n",
              "    20% {\n",
              "      border-color: transparent;\n",
              "      border-left-color: var(--fill-color);\n",
              "      border-top-color: var(--fill-color);\n",
              "    }\n",
              "    30% {\n",
              "      border-color: transparent;\n",
              "      border-left-color: var(--fill-color);\n",
              "      border-top-color: var(--fill-color);\n",
              "      border-right-color: var(--fill-color);\n",
              "    }\n",
              "    40% {\n",
              "      border-color: transparent;\n",
              "      border-right-color: var(--fill-color);\n",
              "      border-top-color: var(--fill-color);\n",
              "    }\n",
              "    60% {\n",
              "      border-color: transparent;\n",
              "      border-right-color: var(--fill-color);\n",
              "    }\n",
              "    80% {\n",
              "      border-color: transparent;\n",
              "      border-right-color: var(--fill-color);\n",
              "      border-bottom-color: var(--fill-color);\n",
              "    }\n",
              "    90% {\n",
              "      border-color: transparent;\n",
              "      border-bottom-color: var(--fill-color);\n",
              "    }\n",
              "  }\n",
              "</style>\n",
              "\n",
              "      <script>\n",
              "        async function quickchart(key) {\n",
              "          const quickchartButtonEl =\n",
              "            document.querySelector('#' + key + ' button');\n",
              "          quickchartButtonEl.disabled = true;  // To prevent multiple clicks.\n",
              "          quickchartButtonEl.classList.add('colab-df-spinner');\n",
              "          try {\n",
              "            const charts = await google.colab.kernel.invokeFunction(\n",
              "                'suggestCharts', [key], {});\n",
              "          } catch (error) {\n",
              "            console.error('Error during call to suggestCharts:', error);\n",
              "          }\n",
              "          quickchartButtonEl.classList.remove('colab-df-spinner');\n",
              "          quickchartButtonEl.classList.add('colab-df-quickchart-complete');\n",
              "        }\n",
              "        (() => {\n",
              "          let quickchartButtonEl =\n",
              "            document.querySelector('#df-2b945667-cf6b-422b-a762-2af651c9ca3c button');\n",
              "          quickchartButtonEl.style.display =\n",
              "            google.colab.kernel.accessAllowed ? 'block' : 'none';\n",
              "        })();\n",
              "      </script>\n",
              "    </div>\n",
              "\n",
              "  <div id=\"id_ebf4d1b8-9c66-4029-b531-2cd33e26b934\">\n",
              "    <style>\n",
              "      .colab-df-generate {\n",
              "        background-color: #E8F0FE;\n",
              "        border: none;\n",
              "        border-radius: 50%;\n",
              "        cursor: pointer;\n",
              "        display: none;\n",
              "        fill: #1967D2;\n",
              "        height: 32px;\n",
              "        padding: 0 0 0 0;\n",
              "        width: 32px;\n",
              "      }\n",
              "\n",
              "      .colab-df-generate:hover {\n",
              "        background-color: #E2EBFA;\n",
              "        box-shadow: 0px 1px 2px rgba(60, 64, 67, 0.3), 0px 1px 3px 1px rgba(60, 64, 67, 0.15);\n",
              "        fill: #174EA6;\n",
              "      }\n",
              "\n",
              "      [theme=dark] .colab-df-generate {\n",
              "        background-color: #3B4455;\n",
              "        fill: #D2E3FC;\n",
              "      }\n",
              "\n",
              "      [theme=dark] .colab-df-generate:hover {\n",
              "        background-color: #434B5C;\n",
              "        box-shadow: 0px 1px 3px 1px rgba(0, 0, 0, 0.15);\n",
              "        filter: drop-shadow(0px 1px 2px rgba(0, 0, 0, 0.3));\n",
              "        fill: #FFFFFF;\n",
              "      }\n",
              "    </style>\n",
              "    <button class=\"colab-df-generate\" onclick=\"generateWithVariable('df_vendedor')\"\n",
              "            title=\"Generate code using this dataframe.\"\n",
              "            style=\"display:none;\">\n",
              "\n",
              "  <svg xmlns=\"http://www.w3.org/2000/svg\" height=\"24px\"viewBox=\"0 0 24 24\"\n",
              "       width=\"24px\">\n",
              "    <path d=\"M7,19H8.4L18.45,9,17,7.55,7,17.6ZM5,21V16.75L18.45,3.32a2,2,0,0,1,2.83,0l1.4,1.43a1.91,1.91,0,0,1,.58,1.4,1.91,1.91,0,0,1-.58,1.4L9.25,21ZM18.45,9,17,7.55Zm-12,3A5.31,5.31,0,0,0,4.9,8.1,5.31,5.31,0,0,0,1,6.5,5.31,5.31,0,0,0,4.9,4.9,5.31,5.31,0,0,0,6.5,1,5.31,5.31,0,0,0,8.1,4.9,5.31,5.31,0,0,0,12,6.5,5.46,5.46,0,0,0,6.5,12Z\"/>\n",
              "  </svg>\n",
              "    </button>\n",
              "    <script>\n",
              "      (() => {\n",
              "      const buttonEl =\n",
              "        document.querySelector('#id_ebf4d1b8-9c66-4029-b531-2cd33e26b934 button.colab-df-generate');\n",
              "      buttonEl.style.display =\n",
              "        google.colab.kernel.accessAllowed ? 'block' : 'none';\n",
              "\n",
              "      buttonEl.onclick = () => {\n",
              "        google.colab.notebook.generateWithVariable('df_vendedor');\n",
              "      }\n",
              "      })();\n",
              "    </script>\n",
              "  </div>\n",
              "\n",
              "    </div>\n",
              "  </div>\n"
            ],
            "application/vnd.google.colaboratory.intrinsic+json": {
              "type": "dataframe",
              "variable_name": "df_vendedor",
              "summary": "{\n  \"name\": \"df_vendedor\",\n  \"rows\": 4,\n  \"fields\": [\n    {\n      \"column\": \"idvendedor\",\n      \"properties\": {\n        \"dtype\": \"number\",\n        \"std\": 1,\n        \"min\": 1,\n        \"max\": 4,\n        \"num_unique_values\": 4,\n        \"samples\": [\n          2,\n          4,\n          1\n        ],\n        \"semantic_type\": \"\",\n        \"description\": \"\"\n      }\n    },\n    {\n      \"column\": \"nome\",\n      \"properties\": {\n        \"dtype\": \"string\",\n        \"num_unique_values\": 4,\n        \"samples\": [\n          \"Paulo\",\n          \"Marcos\",\n          \"Julia\"\n        ],\n        \"semantic_type\": \"\",\n        \"description\": \"\"\n      }\n    }\n  ]\n}"
            }
          },
          "metadata": {},
          "execution_count": 46
        }
      ]
    },
    {
      "cell_type": "code",
      "source": [
        "data_complete.merge(df_vendedor,\n",
        "                   how= \"inner\", #comando inner vai buscar info da coluna esquerda e da direita. é obrigatório que haja uma correspondência entre eles\n",
        "                   left_on= [\"idvendedor\"],\n",
        "                   right_on= [\"idvendedor\"] ) #foi adicionado a coluna com o nome dos vendedores a tabela, nem necessitando mais a coluna do id do vendedor"
      ],
      "metadata": {
        "id": "9sybxqQTh5s_",
        "outputId": "ac28fc27-ca34-4d16-ab19-aa2bc5eb99a9",
        "colab": {
          "base_uri": "https://localhost:8080/",
          "height": 198
        }
      },
      "execution_count": 45,
      "outputs": [
        {
          "output_type": "error",
          "ename": "NameError",
          "evalue": "name 'data_complete' is not defined",
          "traceback": [
            "\u001b[0;31m---------------------------------------------------------------------------\u001b[0m",
            "\u001b[0;31mNameError\u001b[0m                                 Traceback (most recent call last)",
            "\u001b[0;32m/tmp/ipython-input-45-1535454618.py\u001b[0m in \u001b[0;36m<cell line: 0>\u001b[0;34m()\u001b[0m\n\u001b[0;32m----> 1\u001b[0;31m data_complete.merge(df_vendedor,\n\u001b[0m\u001b[1;32m      2\u001b[0m                    \u001b[0mhow\u001b[0m\u001b[0;34m=\u001b[0m \u001b[0;34m\"inner\"\u001b[0m\u001b[0;34m,\u001b[0m \u001b[0;31m#comando inner vai buscar info da coluna esquerda e da direita. é obrigatório que haja uma correspondência entre eles\u001b[0m\u001b[0;34m\u001b[0m\u001b[0;34m\u001b[0m\u001b[0m\n\u001b[1;32m      3\u001b[0m                    \u001b[0mleft_on\u001b[0m\u001b[0;34m=\u001b[0m \u001b[0;34m[\u001b[0m\u001b[0;34m\"idvendedor\"\u001b[0m\u001b[0;34m]\u001b[0m\u001b[0;34m,\u001b[0m\u001b[0;34m\u001b[0m\u001b[0;34m\u001b[0m\u001b[0m\n\u001b[1;32m      4\u001b[0m                    right_on= [\"idvendedor\"] ) #foi adicionado a coluna com o nome dos vendedores a tabela, nem necessitando mais a coluna do id do vendedor\n",
            "\u001b[0;31mNameError\u001b[0m: name 'data_complete' is not defined"
          ]
        }
      ]
    },
    {
      "cell_type": "markdown",
      "source": [],
      "metadata": {
        "id": "QXl0A6azgrrk"
      }
    },
    {
      "cell_type": "code",
      "source": [
        "data_complete= data_complete.merge(df_vendedor,\n",
        "                   how= \"left\", #agora será feito com base na tabela da esquerda, independente se haja correspondência na tabela da direita.\n",
        "                   left_on= [\"idvendedor\"],\n",
        "                   right_on= [\"idvendedor\"] )\n",
        "data_complete"
      ],
      "metadata": {
        "id": "woW5dbkhjYu0",
        "outputId": "abb9665c-42b9-4700-ce23-8860227ef419",
        "colab": {
          "base_uri": "https://localhost:8080/",
          "height": 216
        }
      },
      "execution_count": 44,
      "outputs": [
        {
          "output_type": "error",
          "ename": "NameError",
          "evalue": "name 'data_complete' is not defined",
          "traceback": [
            "\u001b[0;31m---------------------------------------------------------------------------\u001b[0m",
            "\u001b[0;31mNameError\u001b[0m                                 Traceback (most recent call last)",
            "\u001b[0;32m/tmp/ipython-input-44-1078090613.py\u001b[0m in \u001b[0;36m<cell line: 0>\u001b[0;34m()\u001b[0m\n\u001b[0;32m----> 1\u001b[0;31m data_complete= data_complete.merge(df_vendedor,\n\u001b[0m\u001b[1;32m      2\u001b[0m                    \u001b[0mhow\u001b[0m\u001b[0;34m=\u001b[0m \u001b[0;34m\"left\"\u001b[0m\u001b[0;34m,\u001b[0m \u001b[0;31m#agora será feito com base na tabela da esquerda, independente se haja correspondência na tabela da direita.\u001b[0m\u001b[0;34m\u001b[0m\u001b[0;34m\u001b[0m\u001b[0m\n\u001b[1;32m      3\u001b[0m                    \u001b[0mleft_on\u001b[0m\u001b[0;34m=\u001b[0m \u001b[0;34m[\u001b[0m\u001b[0;34m\"idvendedor\"\u001b[0m\u001b[0;34m]\u001b[0m\u001b[0;34m,\u001b[0m\u001b[0;34m\u001b[0m\u001b[0;34m\u001b[0m\u001b[0m\n\u001b[1;32m      4\u001b[0m                    right_on= [\"idvendedor\"] )\n\u001b[1;32m      5\u001b[0m \u001b[0mdata_complete\u001b[0m\u001b[0;34m\u001b[0m\u001b[0;34m\u001b[0m\u001b[0m\n",
            "\u001b[0;31mNameError\u001b[0m: name 'data_complete' is not defined"
          ]
        }
      ]
    },
    {
      "cell_type": "code",
      "source": [
        "data_complete.query(\"nome== 'Jessica' \") #filtrando nomes"
      ],
      "metadata": {
        "id": "ueBglzNUj8CE",
        "outputId": "69196433-363c-4b2b-b43b-09adf7021338",
        "colab": {
          "base_uri": "https://localhost:8080/",
          "height": 144
        }
      },
      "execution_count": 42,
      "outputs": [
        {
          "output_type": "error",
          "ename": "NameError",
          "evalue": "name 'data_complete' is not defined",
          "traceback": [
            "\u001b[0;31m---------------------------------------------------------------------------\u001b[0m",
            "\u001b[0;31mNameError\u001b[0m                                 Traceback (most recent call last)",
            "\u001b[0;32m/tmp/ipython-input-42-1321367841.py\u001b[0m in \u001b[0;36m<cell line: 0>\u001b[0;34m()\u001b[0m\n\u001b[0;32m----> 1\u001b[0;31m \u001b[0mdata_complete\u001b[0m\u001b[0;34m.\u001b[0m\u001b[0mquery\u001b[0m\u001b[0;34m(\u001b[0m\u001b[0;34m\"nome== 'Jessica' \"\u001b[0m\u001b[0;34m)\u001b[0m \u001b[0;31m#filtrando nomes\u001b[0m\u001b[0;34m\u001b[0m\u001b[0;34m\u001b[0m\u001b[0m\n\u001b[0m",
            "\u001b[0;31mNameError\u001b[0m: name 'data_complete' is not defined"
          ]
        }
      ]
    },
    {
      "cell_type": "markdown",
      "source": [
        "### Conversão e formatação de data"
      ],
      "metadata": {
        "id": "jZrJ8--8lJ0s"
      }
    },
    {
      "cell_type": "code",
      "source": [
        "df_vendas= data_complete.copy()"
      ],
      "metadata": {
        "id": "vatxRPpzlMXF",
        "outputId": "4b086878-c63f-4b93-ae54-ed6267f28ae9",
        "colab": {
          "base_uri": "https://localhost:8080/",
          "height": 144
        }
      },
      "execution_count": 41,
      "outputs": [
        {
          "output_type": "error",
          "ename": "NameError",
          "evalue": "name 'data_complete' is not defined",
          "traceback": [
            "\u001b[0;31m---------------------------------------------------------------------------\u001b[0m",
            "\u001b[0;31mNameError\u001b[0m                                 Traceback (most recent call last)",
            "\u001b[0;32m/tmp/ipython-input-41-3813091407.py\u001b[0m in \u001b[0;36m<cell line: 0>\u001b[0;34m()\u001b[0m\n\u001b[0;32m----> 1\u001b[0;31m \u001b[0mdf_vendas\u001b[0m\u001b[0;34m=\u001b[0m \u001b[0mdata_complete\u001b[0m\u001b[0;34m.\u001b[0m\u001b[0mcopy\u001b[0m\u001b[0;34m(\u001b[0m\u001b[0;34m)\u001b[0m\u001b[0;34m\u001b[0m\u001b[0;34m\u001b[0m\u001b[0m\n\u001b[0m",
            "\u001b[0;31mNameError\u001b[0m: name 'data_complete' is not defined"
          ]
        }
      ]
    },
    {
      "cell_type": "code",
      "source": [
        "df_vendas.info() #mostra infos de valores nulos, tipos de dados, etc."
      ],
      "metadata": {
        "id": "QPhUYct3lut9"
      },
      "execution_count": null,
      "outputs": []
    },
    {
      "cell_type": "code",
      "source": [
        "df_vendas"
      ],
      "metadata": {
        "id": "pS9Bjt1ql7BM"
      },
      "execution_count": null,
      "outputs": []
    },
    {
      "cell_type": "code",
      "source": [
        "#df_vendas= df_vendas.astype({\"data\": \"datetime64\"}) #mudando o formato de dados (string para data) pode ser que retorne erro caso string não esteja em formato de data"
      ],
      "metadata": {
        "id": "jrsIxUZRmHpL"
      },
      "execution_count": null,
      "outputs": []
    },
    {
      "cell_type": "code",
      "source": [
        "df_vendas= df_vendas.assign(data= pd.to_datetime(df_vendas[\"data\"], #mudando o formato de dados (string para data)\n",
        "                                                 infer_datetime_format=True, #tornando true o formato data\n",
        "                                                 errors= \"coerce\")) #caso encontre erro, retorna a palavra 'NaT' (não é uma data)"
      ],
      "metadata": {
        "id": "iDPzd0AhIOKT"
      },
      "execution_count": null,
      "outputs": []
    },
    {
      "cell_type": "code",
      "source": [
        "df_vendas"
      ],
      "metadata": {
        "id": "-G3Y3NDoJCAp",
        "outputId": "13c194b8-13d5-4336-fc1d-afa91d0bd6e2",
        "colab": {
          "base_uri": "https://localhost:8080/",
          "height": 144
        }
      },
      "execution_count": 40,
      "outputs": [
        {
          "output_type": "error",
          "ename": "NameError",
          "evalue": "name 'df_vendas' is not defined",
          "traceback": [
            "\u001b[0;31m---------------------------------------------------------------------------\u001b[0m",
            "\u001b[0;31mNameError\u001b[0m                                 Traceback (most recent call last)",
            "\u001b[0;32m/tmp/ipython-input-40-2584594206.py\u001b[0m in \u001b[0;36m<cell line: 0>\u001b[0;34m()\u001b[0m\n\u001b[0;32m----> 1\u001b[0;31m \u001b[0mdf_vendas\u001b[0m\u001b[0;34m\u001b[0m\u001b[0;34m\u001b[0m\u001b[0m\n\u001b[0m",
            "\u001b[0;31mNameError\u001b[0m: name 'df_vendas' is not defined"
          ]
        }
      ]
    },
    {
      "cell_type": "code",
      "source": [
        "df_vendas.info() #uso de memória é reduzido dependendo do tipo da variável utilizada"
      ],
      "metadata": {
        "id": "rXuMMbjgmaxS"
      },
      "execution_count": null,
      "outputs": []
    },
    {
      "cell_type": "code",
      "source": [
        "df_vendas.loc[0, [\"data\"]] = \"N/A\"\n",
        "df_vendas #repare que agora irá gerar uma coluna com data inválida"
      ],
      "metadata": {
        "id": "8nongdQTHJSj"
      },
      "execution_count": null,
      "outputs": []
    },
    {
      "cell_type": "markdown",
      "source": [
        "### Formatação de data"
      ],
      "metadata": {
        "id": "kRLGVVY0JsLS"
      }
    },
    {
      "cell_type": "markdown",
      "source": [
        "- https://www.programiz.com/python-programming/datetime/strftime"
      ],
      "metadata": {
        "id": "bdV6Ml4DK888"
      }
    },
    {
      "cell_type": "code",
      "source": [
        "df_vendas.assign(data2 = df_vendas[\"data\"].dt.strftime(\"%Y-%b-%a\"), #%Y indica o ano em formato numérico. %b nome do mês abreviado. %a nome abreviado do dia da semana.\n",
        "                 data3 = df_vendas[\"data\"].dt.strftime(\"%d-%m-%Y\"))"
      ],
      "metadata": {
        "id": "Qj__DLL0JuP7",
        "outputId": "f35d9094-1d10-4ab2-eca0-a9fef1e2dc0b",
        "colab": {
          "base_uri": "https://localhost:8080/",
          "height": 162
        }
      },
      "execution_count": 48,
      "outputs": [
        {
          "output_type": "error",
          "ename": "NameError",
          "evalue": "name 'df_vendas' is not defined",
          "traceback": [
            "\u001b[0;31m---------------------------------------------------------------------------\u001b[0m",
            "\u001b[0;31mNameError\u001b[0m                                 Traceback (most recent call last)",
            "\u001b[0;32m/tmp/ipython-input-48-4102630909.py\u001b[0m in \u001b[0;36m<cell line: 0>\u001b[0;34m()\u001b[0m\n\u001b[0;32m----> 1\u001b[0;31m df_vendas.assign(data2 = df_vendas[\"data\"].dt.strftime(\"%Y-%b-%a\"), #%Y indica o ano em formato numérico. %b nome do mês abreviado. %a nome abreviado do dia da semana.\n\u001b[0m\u001b[1;32m      2\u001b[0m                  data3 = df_vendas[\"data\"].dt.strftime(\"%d-%m-%Y\")) \n",
            "\u001b[0;31mNameError\u001b[0m: name 'df_vendas' is not defined"
          ]
        }
      ]
    },
    {
      "cell_type": "code",
      "source": [
        "df_vendas[\"data\"].fillna(\"2024-01-19\", inplace= True) #preenchendo valor nulo\n",
        "df_vendas"
      ],
      "metadata": {
        "id": "BYFZcWHlMZrD"
      },
      "execution_count": null,
      "outputs": []
    },
    {
      "cell_type": "code",
      "source": [
        "df_vendas[\"data\"].dt.month #dt.year para extração de ano, dt.month para mês, dt.day para dia, dt.hour, dt.minute, dt.second"
      ],
      "metadata": {
        "id": "U2fS8ySoM1S1"
      },
      "execution_count": null,
      "outputs": []
    },
    {
      "cell_type": "markdown",
      "source": [
        "### índices com data"
      ],
      "metadata": {
        "id": "yogLnDB_NTeK"
      }
    },
    {
      "cell_type": "code",
      "source": [
        "df_vendas2 = df_vendas.copy()\n",
        "df_vendas2"
      ],
      "metadata": {
        "id": "A62FqqrhNVkD"
      },
      "execution_count": null,
      "outputs": []
    },
    {
      "cell_type": "code",
      "source": [
        "df_vendas.dtypes #a coluna data está em formato datetime"
      ],
      "metadata": {
        "id": "jBWBKZvGNYe5"
      },
      "execution_count": null,
      "outputs": []
    },
    {
      "cell_type": "code",
      "source": [
        "df_vendas2.set_index(\"data\", inplace= True) #definindo data como índice, modificando a variável\n",
        "df_vendas2 #a vantagem de estar como índice é que podemos aplicar filtros adicionais"
      ],
      "metadata": {
        "id": "1bRCfOMPNtfb"
      },
      "execution_count": null,
      "outputs": []
    },
    {
      "cell_type": "code",
      "source": [
        "#ex:\n",
        "df_vendas2.loc[\"2024-01-19\"] #vendas apenas desse período"
      ],
      "metadata": {
        "id": "R3kct_KMN85K"
      },
      "execution_count": null,
      "outputs": []
    },
    {
      "cell_type": "code",
      "source": [
        "df_vendas2.loc[\"2024-01\":\"2024-02\"]"
      ],
      "metadata": {
        "id": "UX4xq-hxOH9w"
      },
      "execution_count": null,
      "outputs": []
    },
    {
      "cell_type": "code",
      "source": [
        "df_vendas2"
      ],
      "metadata": {
        "id": "cmtUr1uBOety",
        "outputId": "e862de9b-4ba0-45c0-eaba-b748e097037f",
        "colab": {
          "base_uri": "https://localhost:8080/",
          "height": 144
        }
      },
      "execution_count": 49,
      "outputs": [
        {
          "output_type": "error",
          "ename": "NameError",
          "evalue": "name 'df_vendas2' is not defined",
          "traceback": [
            "\u001b[0;31m---------------------------------------------------------------------------\u001b[0m",
            "\u001b[0;31mNameError\u001b[0m                                 Traceback (most recent call last)",
            "\u001b[0;32m/tmp/ipython-input-49-2075185038.py\u001b[0m in \u001b[0;36m<cell line: 0>\u001b[0;34m()\u001b[0m\n\u001b[0;32m----> 1\u001b[0;31m \u001b[0mdf_vendas2\u001b[0m\u001b[0;34m\u001b[0m\u001b[0;34m\u001b[0m\u001b[0m\n\u001b[0m",
            "\u001b[0;31mNameError\u001b[0m: name 'df_vendas2' is not defined"
          ]
        }
      ]
    },
    {
      "cell_type": "code",
      "source": [
        "df_vendas2.resample('M')[\"valor total\"].sum(numeric_only= True) #somando todas as colunas numéricas por mês"
      ],
      "metadata": {
        "id": "wtzIh9SaOhsp"
      },
      "execution_count": null,
      "outputs": []
    },
    {
      "cell_type": "code",
      "source": [
        "df_venda2.resample('D')[\"valor_total\"].mean(numeric_only= True) #tirando a média de todas as colunas numéricas por dia"
      ],
      "metadata": {
        "id": "G8A_-YOoO-rK"
      },
      "execution_count": null,
      "outputs": []
    },
    {
      "cell_type": "markdown",
      "source": [
        "### Importação e exportação de dados"
      ],
      "metadata": {
        "id": "8xzf_yFnPfRe"
      }
    },
    {
      "cell_type": "code",
      "source": [
        "dataset = pd.read_csv('census.csv').head(5) #carregando apenas as 5 primeiras linhas\n",
        "dataset"
      ],
      "metadata": {
        "id": "GBmb1Ds_PkPN",
        "outputId": "ca53a036-8678-4df9-e2d3-ebe2a8abe7b0",
        "colab": {
          "base_uri": "https://localhost:8080/",
          "height": 756
        }
      },
      "execution_count": 51,
      "outputs": [
        {
          "output_type": "execute_result",
          "data": {
            "text/plain": [
              "       age          workclass  final-weight    education  education-num  \\\n",
              "0       39          State-gov         77516    Bachelors             13   \n",
              "1       50   Self-emp-not-inc         83311    Bachelors             13   \n",
              "2       38            Private        215646      HS-grad              9   \n",
              "3       53            Private        234721         11th              7   \n",
              "4       28            Private        338409    Bachelors             13   \n",
              "...    ...                ...           ...          ...            ...   \n",
              "32556   27            Private        257302   Assoc-acdm             12   \n",
              "32557   40            Private        154374      HS-grad              9   \n",
              "32558   58            Private        151910      HS-grad              9   \n",
              "32559   22            Private        201490      HS-grad              9   \n",
              "32560   52       Self-emp-inc        287927      HS-grad              9   \n",
              "\n",
              "            marital-status          occupation    relationship    race  \\\n",
              "0            Never-married        Adm-clerical   Not-in-family   White   \n",
              "1       Married-civ-spouse     Exec-managerial         Husband   White   \n",
              "2                 Divorced   Handlers-cleaners   Not-in-family   White   \n",
              "3       Married-civ-spouse   Handlers-cleaners         Husband   Black   \n",
              "4       Married-civ-spouse      Prof-specialty            Wife   Black   \n",
              "...                    ...                 ...             ...     ...   \n",
              "32556   Married-civ-spouse        Tech-support            Wife   White   \n",
              "32557   Married-civ-spouse   Machine-op-inspct         Husband   White   \n",
              "32558              Widowed        Adm-clerical       Unmarried   White   \n",
              "32559        Never-married        Adm-clerical       Own-child   White   \n",
              "32560   Married-civ-spouse     Exec-managerial            Wife   White   \n",
              "\n",
              "           sex  capital-gain  capital-loos  hour-per-week  native-country  \\\n",
              "0         Male          2174             0             40   United-States   \n",
              "1         Male             0             0             13   United-States   \n",
              "2         Male             0             0             40   United-States   \n",
              "3         Male             0             0             40   United-States   \n",
              "4       Female             0             0             40            Cuba   \n",
              "...        ...           ...           ...            ...             ...   \n",
              "32556   Female             0             0             38   United-States   \n",
              "32557     Male             0             0             40   United-States   \n",
              "32558   Female             0             0             40   United-States   \n",
              "32559     Male             0             0             20   United-States   \n",
              "32560   Female         15024             0             40   United-States   \n",
              "\n",
              "       income  \n",
              "0       <=50K  \n",
              "1       <=50K  \n",
              "2       <=50K  \n",
              "3       <=50K  \n",
              "4       <=50K  \n",
              "...       ...  \n",
              "32556   <=50K  \n",
              "32557    >50K  \n",
              "32558   <=50K  \n",
              "32559   <=50K  \n",
              "32560    >50K  \n",
              "\n",
              "[32561 rows x 15 columns]"
            ],
            "text/html": [
              "\n",
              "  <div id=\"df-f6969d55-8d40-4bb7-9688-ccace1f18901\" class=\"colab-df-container\">\n",
              "    <div>\n",
              "<style scoped>\n",
              "    .dataframe tbody tr th:only-of-type {\n",
              "        vertical-align: middle;\n",
              "    }\n",
              "\n",
              "    .dataframe tbody tr th {\n",
              "        vertical-align: top;\n",
              "    }\n",
              "\n",
              "    .dataframe thead th {\n",
              "        text-align: right;\n",
              "    }\n",
              "</style>\n",
              "<table border=\"1\" class=\"dataframe\">\n",
              "  <thead>\n",
              "    <tr style=\"text-align: right;\">\n",
              "      <th></th>\n",
              "      <th>age</th>\n",
              "      <th>workclass</th>\n",
              "      <th>final-weight</th>\n",
              "      <th>education</th>\n",
              "      <th>education-num</th>\n",
              "      <th>marital-status</th>\n",
              "      <th>occupation</th>\n",
              "      <th>relationship</th>\n",
              "      <th>race</th>\n",
              "      <th>sex</th>\n",
              "      <th>capital-gain</th>\n",
              "      <th>capital-loos</th>\n",
              "      <th>hour-per-week</th>\n",
              "      <th>native-country</th>\n",
              "      <th>income</th>\n",
              "    </tr>\n",
              "  </thead>\n",
              "  <tbody>\n",
              "    <tr>\n",
              "      <th>0</th>\n",
              "      <td>39</td>\n",
              "      <td>State-gov</td>\n",
              "      <td>77516</td>\n",
              "      <td>Bachelors</td>\n",
              "      <td>13</td>\n",
              "      <td>Never-married</td>\n",
              "      <td>Adm-clerical</td>\n",
              "      <td>Not-in-family</td>\n",
              "      <td>White</td>\n",
              "      <td>Male</td>\n",
              "      <td>2174</td>\n",
              "      <td>0</td>\n",
              "      <td>40</td>\n",
              "      <td>United-States</td>\n",
              "      <td>&lt;=50K</td>\n",
              "    </tr>\n",
              "    <tr>\n",
              "      <th>1</th>\n",
              "      <td>50</td>\n",
              "      <td>Self-emp-not-inc</td>\n",
              "      <td>83311</td>\n",
              "      <td>Bachelors</td>\n",
              "      <td>13</td>\n",
              "      <td>Married-civ-spouse</td>\n",
              "      <td>Exec-managerial</td>\n",
              "      <td>Husband</td>\n",
              "      <td>White</td>\n",
              "      <td>Male</td>\n",
              "      <td>0</td>\n",
              "      <td>0</td>\n",
              "      <td>13</td>\n",
              "      <td>United-States</td>\n",
              "      <td>&lt;=50K</td>\n",
              "    </tr>\n",
              "    <tr>\n",
              "      <th>2</th>\n",
              "      <td>38</td>\n",
              "      <td>Private</td>\n",
              "      <td>215646</td>\n",
              "      <td>HS-grad</td>\n",
              "      <td>9</td>\n",
              "      <td>Divorced</td>\n",
              "      <td>Handlers-cleaners</td>\n",
              "      <td>Not-in-family</td>\n",
              "      <td>White</td>\n",
              "      <td>Male</td>\n",
              "      <td>0</td>\n",
              "      <td>0</td>\n",
              "      <td>40</td>\n",
              "      <td>United-States</td>\n",
              "      <td>&lt;=50K</td>\n",
              "    </tr>\n",
              "    <tr>\n",
              "      <th>3</th>\n",
              "      <td>53</td>\n",
              "      <td>Private</td>\n",
              "      <td>234721</td>\n",
              "      <td>11th</td>\n",
              "      <td>7</td>\n",
              "      <td>Married-civ-spouse</td>\n",
              "      <td>Handlers-cleaners</td>\n",
              "      <td>Husband</td>\n",
              "      <td>Black</td>\n",
              "      <td>Male</td>\n",
              "      <td>0</td>\n",
              "      <td>0</td>\n",
              "      <td>40</td>\n",
              "      <td>United-States</td>\n",
              "      <td>&lt;=50K</td>\n",
              "    </tr>\n",
              "    <tr>\n",
              "      <th>4</th>\n",
              "      <td>28</td>\n",
              "      <td>Private</td>\n",
              "      <td>338409</td>\n",
              "      <td>Bachelors</td>\n",
              "      <td>13</td>\n",
              "      <td>Married-civ-spouse</td>\n",
              "      <td>Prof-specialty</td>\n",
              "      <td>Wife</td>\n",
              "      <td>Black</td>\n",
              "      <td>Female</td>\n",
              "      <td>0</td>\n",
              "      <td>0</td>\n",
              "      <td>40</td>\n",
              "      <td>Cuba</td>\n",
              "      <td>&lt;=50K</td>\n",
              "    </tr>\n",
              "    <tr>\n",
              "      <th>...</th>\n",
              "      <td>...</td>\n",
              "      <td>...</td>\n",
              "      <td>...</td>\n",
              "      <td>...</td>\n",
              "      <td>...</td>\n",
              "      <td>...</td>\n",
              "      <td>...</td>\n",
              "      <td>...</td>\n",
              "      <td>...</td>\n",
              "      <td>...</td>\n",
              "      <td>...</td>\n",
              "      <td>...</td>\n",
              "      <td>...</td>\n",
              "      <td>...</td>\n",
              "      <td>...</td>\n",
              "    </tr>\n",
              "    <tr>\n",
              "      <th>32556</th>\n",
              "      <td>27</td>\n",
              "      <td>Private</td>\n",
              "      <td>257302</td>\n",
              "      <td>Assoc-acdm</td>\n",
              "      <td>12</td>\n",
              "      <td>Married-civ-spouse</td>\n",
              "      <td>Tech-support</td>\n",
              "      <td>Wife</td>\n",
              "      <td>White</td>\n",
              "      <td>Female</td>\n",
              "      <td>0</td>\n",
              "      <td>0</td>\n",
              "      <td>38</td>\n",
              "      <td>United-States</td>\n",
              "      <td>&lt;=50K</td>\n",
              "    </tr>\n",
              "    <tr>\n",
              "      <th>32557</th>\n",
              "      <td>40</td>\n",
              "      <td>Private</td>\n",
              "      <td>154374</td>\n",
              "      <td>HS-grad</td>\n",
              "      <td>9</td>\n",
              "      <td>Married-civ-spouse</td>\n",
              "      <td>Machine-op-inspct</td>\n",
              "      <td>Husband</td>\n",
              "      <td>White</td>\n",
              "      <td>Male</td>\n",
              "      <td>0</td>\n",
              "      <td>0</td>\n",
              "      <td>40</td>\n",
              "      <td>United-States</td>\n",
              "      <td>&gt;50K</td>\n",
              "    </tr>\n",
              "    <tr>\n",
              "      <th>32558</th>\n",
              "      <td>58</td>\n",
              "      <td>Private</td>\n",
              "      <td>151910</td>\n",
              "      <td>HS-grad</td>\n",
              "      <td>9</td>\n",
              "      <td>Widowed</td>\n",
              "      <td>Adm-clerical</td>\n",
              "      <td>Unmarried</td>\n",
              "      <td>White</td>\n",
              "      <td>Female</td>\n",
              "      <td>0</td>\n",
              "      <td>0</td>\n",
              "      <td>40</td>\n",
              "      <td>United-States</td>\n",
              "      <td>&lt;=50K</td>\n",
              "    </tr>\n",
              "    <tr>\n",
              "      <th>32559</th>\n",
              "      <td>22</td>\n",
              "      <td>Private</td>\n",
              "      <td>201490</td>\n",
              "      <td>HS-grad</td>\n",
              "      <td>9</td>\n",
              "      <td>Never-married</td>\n",
              "      <td>Adm-clerical</td>\n",
              "      <td>Own-child</td>\n",
              "      <td>White</td>\n",
              "      <td>Male</td>\n",
              "      <td>0</td>\n",
              "      <td>0</td>\n",
              "      <td>20</td>\n",
              "      <td>United-States</td>\n",
              "      <td>&lt;=50K</td>\n",
              "    </tr>\n",
              "    <tr>\n",
              "      <th>32560</th>\n",
              "      <td>52</td>\n",
              "      <td>Self-emp-inc</td>\n",
              "      <td>287927</td>\n",
              "      <td>HS-grad</td>\n",
              "      <td>9</td>\n",
              "      <td>Married-civ-spouse</td>\n",
              "      <td>Exec-managerial</td>\n",
              "      <td>Wife</td>\n",
              "      <td>White</td>\n",
              "      <td>Female</td>\n",
              "      <td>15024</td>\n",
              "      <td>0</td>\n",
              "      <td>40</td>\n",
              "      <td>United-States</td>\n",
              "      <td>&gt;50K</td>\n",
              "    </tr>\n",
              "  </tbody>\n",
              "</table>\n",
              "<p>32561 rows × 15 columns</p>\n",
              "</div>\n",
              "    <div class=\"colab-df-buttons\">\n",
              "\n",
              "  <div class=\"colab-df-container\">\n",
              "    <button class=\"colab-df-convert\" onclick=\"convertToInteractive('df-f6969d55-8d40-4bb7-9688-ccace1f18901')\"\n",
              "            title=\"Convert this dataframe to an interactive table.\"\n",
              "            style=\"display:none;\">\n",
              "\n",
              "  <svg xmlns=\"http://www.w3.org/2000/svg\" height=\"24px\" viewBox=\"0 -960 960 960\">\n",
              "    <path d=\"M120-120v-720h720v720H120Zm60-500h600v-160H180v160Zm220 220h160v-160H400v160Zm0 220h160v-160H400v160ZM180-400h160v-160H180v160Zm440 0h160v-160H620v160ZM180-180h160v-160H180v160Zm440 0h160v-160H620v160Z\"/>\n",
              "  </svg>\n",
              "    </button>\n",
              "\n",
              "  <style>\n",
              "    .colab-df-container {\n",
              "      display:flex;\n",
              "      gap: 12px;\n",
              "    }\n",
              "\n",
              "    .colab-df-convert {\n",
              "      background-color: #E8F0FE;\n",
              "      border: none;\n",
              "      border-radius: 50%;\n",
              "      cursor: pointer;\n",
              "      display: none;\n",
              "      fill: #1967D2;\n",
              "      height: 32px;\n",
              "      padding: 0 0 0 0;\n",
              "      width: 32px;\n",
              "    }\n",
              "\n",
              "    .colab-df-convert:hover {\n",
              "      background-color: #E2EBFA;\n",
              "      box-shadow: 0px 1px 2px rgba(60, 64, 67, 0.3), 0px 1px 3px 1px rgba(60, 64, 67, 0.15);\n",
              "      fill: #174EA6;\n",
              "    }\n",
              "\n",
              "    .colab-df-buttons div {\n",
              "      margin-bottom: 4px;\n",
              "    }\n",
              "\n",
              "    [theme=dark] .colab-df-convert {\n",
              "      background-color: #3B4455;\n",
              "      fill: #D2E3FC;\n",
              "    }\n",
              "\n",
              "    [theme=dark] .colab-df-convert:hover {\n",
              "      background-color: #434B5C;\n",
              "      box-shadow: 0px 1px 3px 1px rgba(0, 0, 0, 0.15);\n",
              "      filter: drop-shadow(0px 1px 2px rgba(0, 0, 0, 0.3));\n",
              "      fill: #FFFFFF;\n",
              "    }\n",
              "  </style>\n",
              "\n",
              "    <script>\n",
              "      const buttonEl =\n",
              "        document.querySelector('#df-f6969d55-8d40-4bb7-9688-ccace1f18901 button.colab-df-convert');\n",
              "      buttonEl.style.display =\n",
              "        google.colab.kernel.accessAllowed ? 'block' : 'none';\n",
              "\n",
              "      async function convertToInteractive(key) {\n",
              "        const element = document.querySelector('#df-f6969d55-8d40-4bb7-9688-ccace1f18901');\n",
              "        const dataTable =\n",
              "          await google.colab.kernel.invokeFunction('convertToInteractive',\n",
              "                                                    [key], {});\n",
              "        if (!dataTable) return;\n",
              "\n",
              "        const docLinkHtml = 'Like what you see? Visit the ' +\n",
              "          '<a target=\"_blank\" href=https://colab.research.google.com/notebooks/data_table.ipynb>data table notebook</a>'\n",
              "          + ' to learn more about interactive tables.';\n",
              "        element.innerHTML = '';\n",
              "        dataTable['output_type'] = 'display_data';\n",
              "        await google.colab.output.renderOutput(dataTable, element);\n",
              "        const docLink = document.createElement('div');\n",
              "        docLink.innerHTML = docLinkHtml;\n",
              "        element.appendChild(docLink);\n",
              "      }\n",
              "    </script>\n",
              "  </div>\n",
              "\n",
              "\n",
              "    <div id=\"df-d4faeb3e-f471-4084-9c07-883142678265\">\n",
              "      <button class=\"colab-df-quickchart\" onclick=\"quickchart('df-d4faeb3e-f471-4084-9c07-883142678265')\"\n",
              "                title=\"Suggest charts\"\n",
              "                style=\"display:none;\">\n",
              "\n",
              "<svg xmlns=\"http://www.w3.org/2000/svg\" height=\"24px\"viewBox=\"0 0 24 24\"\n",
              "     width=\"24px\">\n",
              "    <g>\n",
              "        <path d=\"M19 3H5c-1.1 0-2 .9-2 2v14c0 1.1.9 2 2 2h14c1.1 0 2-.9 2-2V5c0-1.1-.9-2-2-2zM9 17H7v-7h2v7zm4 0h-2V7h2v10zm4 0h-2v-4h2v4z\"/>\n",
              "    </g>\n",
              "</svg>\n",
              "      </button>\n",
              "\n",
              "<style>\n",
              "  .colab-df-quickchart {\n",
              "      --bg-color: #E8F0FE;\n",
              "      --fill-color: #1967D2;\n",
              "      --hover-bg-color: #E2EBFA;\n",
              "      --hover-fill-color: #174EA6;\n",
              "      --disabled-fill-color: #AAA;\n",
              "      --disabled-bg-color: #DDD;\n",
              "  }\n",
              "\n",
              "  [theme=dark] .colab-df-quickchart {\n",
              "      --bg-color: #3B4455;\n",
              "      --fill-color: #D2E3FC;\n",
              "      --hover-bg-color: #434B5C;\n",
              "      --hover-fill-color: #FFFFFF;\n",
              "      --disabled-bg-color: #3B4455;\n",
              "      --disabled-fill-color: #666;\n",
              "  }\n",
              "\n",
              "  .colab-df-quickchart {\n",
              "    background-color: var(--bg-color);\n",
              "    border: none;\n",
              "    border-radius: 50%;\n",
              "    cursor: pointer;\n",
              "    display: none;\n",
              "    fill: var(--fill-color);\n",
              "    height: 32px;\n",
              "    padding: 0;\n",
              "    width: 32px;\n",
              "  }\n",
              "\n",
              "  .colab-df-quickchart:hover {\n",
              "    background-color: var(--hover-bg-color);\n",
              "    box-shadow: 0 1px 2px rgba(60, 64, 67, 0.3), 0 1px 3px 1px rgba(60, 64, 67, 0.15);\n",
              "    fill: var(--button-hover-fill-color);\n",
              "  }\n",
              "\n",
              "  .colab-df-quickchart-complete:disabled,\n",
              "  .colab-df-quickchart-complete:disabled:hover {\n",
              "    background-color: var(--disabled-bg-color);\n",
              "    fill: var(--disabled-fill-color);\n",
              "    box-shadow: none;\n",
              "  }\n",
              "\n",
              "  .colab-df-spinner {\n",
              "    border: 2px solid var(--fill-color);\n",
              "    border-color: transparent;\n",
              "    border-bottom-color: var(--fill-color);\n",
              "    animation:\n",
              "      spin 1s steps(1) infinite;\n",
              "  }\n",
              "\n",
              "  @keyframes spin {\n",
              "    0% {\n",
              "      border-color: transparent;\n",
              "      border-bottom-color: var(--fill-color);\n",
              "      border-left-color: var(--fill-color);\n",
              "    }\n",
              "    20% {\n",
              "      border-color: transparent;\n",
              "      border-left-color: var(--fill-color);\n",
              "      border-top-color: var(--fill-color);\n",
              "    }\n",
              "    30% {\n",
              "      border-color: transparent;\n",
              "      border-left-color: var(--fill-color);\n",
              "      border-top-color: var(--fill-color);\n",
              "      border-right-color: var(--fill-color);\n",
              "    }\n",
              "    40% {\n",
              "      border-color: transparent;\n",
              "      border-right-color: var(--fill-color);\n",
              "      border-top-color: var(--fill-color);\n",
              "    }\n",
              "    60% {\n",
              "      border-color: transparent;\n",
              "      border-right-color: var(--fill-color);\n",
              "    }\n",
              "    80% {\n",
              "      border-color: transparent;\n",
              "      border-right-color: var(--fill-color);\n",
              "      border-bottom-color: var(--fill-color);\n",
              "    }\n",
              "    90% {\n",
              "      border-color: transparent;\n",
              "      border-bottom-color: var(--fill-color);\n",
              "    }\n",
              "  }\n",
              "</style>\n",
              "\n",
              "      <script>\n",
              "        async function quickchart(key) {\n",
              "          const quickchartButtonEl =\n",
              "            document.querySelector('#' + key + ' button');\n",
              "          quickchartButtonEl.disabled = true;  // To prevent multiple clicks.\n",
              "          quickchartButtonEl.classList.add('colab-df-spinner');\n",
              "          try {\n",
              "            const charts = await google.colab.kernel.invokeFunction(\n",
              "                'suggestCharts', [key], {});\n",
              "          } catch (error) {\n",
              "            console.error('Error during call to suggestCharts:', error);\n",
              "          }\n",
              "          quickchartButtonEl.classList.remove('colab-df-spinner');\n",
              "          quickchartButtonEl.classList.add('colab-df-quickchart-complete');\n",
              "        }\n",
              "        (() => {\n",
              "          let quickchartButtonEl =\n",
              "            document.querySelector('#df-d4faeb3e-f471-4084-9c07-883142678265 button');\n",
              "          quickchartButtonEl.style.display =\n",
              "            google.colab.kernel.accessAllowed ? 'block' : 'none';\n",
              "        })();\n",
              "      </script>\n",
              "    </div>\n",
              "\n",
              "  <div id=\"id_69a5c4b3-9fd5-4d47-9189-d1dcf59b63f9\">\n",
              "    <style>\n",
              "      .colab-df-generate {\n",
              "        background-color: #E8F0FE;\n",
              "        border: none;\n",
              "        border-radius: 50%;\n",
              "        cursor: pointer;\n",
              "        display: none;\n",
              "        fill: #1967D2;\n",
              "        height: 32px;\n",
              "        padding: 0 0 0 0;\n",
              "        width: 32px;\n",
              "      }\n",
              "\n",
              "      .colab-df-generate:hover {\n",
              "        background-color: #E2EBFA;\n",
              "        box-shadow: 0px 1px 2px rgba(60, 64, 67, 0.3), 0px 1px 3px 1px rgba(60, 64, 67, 0.15);\n",
              "        fill: #174EA6;\n",
              "      }\n",
              "\n",
              "      [theme=dark] .colab-df-generate {\n",
              "        background-color: #3B4455;\n",
              "        fill: #D2E3FC;\n",
              "      }\n",
              "\n",
              "      [theme=dark] .colab-df-generate:hover {\n",
              "        background-color: #434B5C;\n",
              "        box-shadow: 0px 1px 3px 1px rgba(0, 0, 0, 0.15);\n",
              "        filter: drop-shadow(0px 1px 2px rgba(0, 0, 0, 0.3));\n",
              "        fill: #FFFFFF;\n",
              "      }\n",
              "    </style>\n",
              "    <button class=\"colab-df-generate\" onclick=\"generateWithVariable('dataset')\"\n",
              "            title=\"Generate code using this dataframe.\"\n",
              "            style=\"display:none;\">\n",
              "\n",
              "  <svg xmlns=\"http://www.w3.org/2000/svg\" height=\"24px\"viewBox=\"0 0 24 24\"\n",
              "       width=\"24px\">\n",
              "    <path d=\"M7,19H8.4L18.45,9,17,7.55,7,17.6ZM5,21V16.75L18.45,3.32a2,2,0,0,1,2.83,0l1.4,1.43a1.91,1.91,0,0,1,.58,1.4,1.91,1.91,0,0,1-.58,1.4L9.25,21ZM18.45,9,17,7.55Zm-12,3A5.31,5.31,0,0,0,4.9,8.1,5.31,5.31,0,0,0,1,6.5,5.31,5.31,0,0,0,4.9,4.9,5.31,5.31,0,0,0,6.5,1,5.31,5.31,0,0,0,8.1,4.9,5.31,5.31,0,0,0,12,6.5,5.46,5.46,0,0,0,6.5,12Z\"/>\n",
              "  </svg>\n",
              "    </button>\n",
              "    <script>\n",
              "      (() => {\n",
              "      const buttonEl =\n",
              "        document.querySelector('#id_69a5c4b3-9fd5-4d47-9189-d1dcf59b63f9 button.colab-df-generate');\n",
              "      buttonEl.style.display =\n",
              "        google.colab.kernel.accessAllowed ? 'block' : 'none';\n",
              "\n",
              "      buttonEl.onclick = () => {\n",
              "        google.colab.notebook.generateWithVariable('dataset');\n",
              "      }\n",
              "      })();\n",
              "    </script>\n",
              "  </div>\n",
              "\n",
              "    </div>\n",
              "  </div>\n"
            ],
            "application/vnd.google.colaboratory.intrinsic+json": {
              "type": "dataframe",
              "variable_name": "dataset",
              "summary": "{\n  \"name\": \"dataset\",\n  \"rows\": 32561,\n  \"fields\": [\n    {\n      \"column\": \"age\",\n      \"properties\": {\n        \"dtype\": \"number\",\n        \"std\": 13,\n        \"min\": 17,\n        \"max\": 90,\n        \"num_unique_values\": 73,\n        \"samples\": [\n          28,\n          73,\n          35\n        ],\n        \"semantic_type\": \"\",\n        \"description\": \"\"\n      }\n    },\n    {\n      \"column\": \"workclass\",\n      \"properties\": {\n        \"dtype\": \"category\",\n        \"num_unique_values\": 9,\n        \"samples\": [\n          \" Without-pay\",\n          \" Self-emp-not-inc\",\n          \" ?\"\n        ],\n        \"semantic_type\": \"\",\n        \"description\": \"\"\n      }\n    },\n    {\n      \"column\": \"final-weight\",\n      \"properties\": {\n        \"dtype\": \"number\",\n        \"std\": 105549,\n        \"min\": 12285,\n        \"max\": 1484705,\n        \"num_unique_values\": 21648,\n        \"samples\": [\n          128485,\n          469907,\n          235951\n        ],\n        \"semantic_type\": \"\",\n        \"description\": \"\"\n      }\n    },\n    {\n      \"column\": \"education\",\n      \"properties\": {\n        \"dtype\": \"category\",\n        \"num_unique_values\": 16,\n        \"samples\": [\n          \" Bachelors\",\n          \" HS-grad\",\n          \" Some-college\"\n        ],\n        \"semantic_type\": \"\",\n        \"description\": \"\"\n      }\n    },\n    {\n      \"column\": \"education-num\",\n      \"properties\": {\n        \"dtype\": \"number\",\n        \"std\": 2,\n        \"min\": 1,\n        \"max\": 16,\n        \"num_unique_values\": 16,\n        \"samples\": [\n          13,\n          9,\n          10\n        ],\n        \"semantic_type\": \"\",\n        \"description\": \"\"\n      }\n    },\n    {\n      \"column\": \"marital-status\",\n      \"properties\": {\n        \"dtype\": \"category\",\n        \"num_unique_values\": 7,\n        \"samples\": [\n          \" Never-married\",\n          \" Married-civ-spouse\",\n          \" Married-AF-spouse\"\n        ],\n        \"semantic_type\": \"\",\n        \"description\": \"\"\n      }\n    },\n    {\n      \"column\": \"occupation\",\n      \"properties\": {\n        \"dtype\": \"category\",\n        \"num_unique_values\": 15,\n        \"samples\": [\n          \" Machine-op-inspct\",\n          \" ?\",\n          \" Adm-clerical\"\n        ],\n        \"semantic_type\": \"\",\n        \"description\": \"\"\n      }\n    },\n    {\n      \"column\": \"relationship\",\n      \"properties\": {\n        \"dtype\": \"category\",\n        \"num_unique_values\": 6,\n        \"samples\": [\n          \" Not-in-family\",\n          \" Husband\",\n          \" Other-relative\"\n        ],\n        \"semantic_type\": \"\",\n        \"description\": \"\"\n      }\n    },\n    {\n      \"column\": \"race\",\n      \"properties\": {\n        \"dtype\": \"category\",\n        \"num_unique_values\": 5,\n        \"samples\": [\n          \" Black\",\n          \" Other\",\n          \" Asian-Pac-Islander\"\n        ],\n        \"semantic_type\": \"\",\n        \"description\": \"\"\n      }\n    },\n    {\n      \"column\": \"sex\",\n      \"properties\": {\n        \"dtype\": \"category\",\n        \"num_unique_values\": 2,\n        \"samples\": [\n          \" Female\",\n          \" Male\"\n        ],\n        \"semantic_type\": \"\",\n        \"description\": \"\"\n      }\n    },\n    {\n      \"column\": \"capital-gain\",\n      \"properties\": {\n        \"dtype\": \"number\",\n        \"std\": 7385,\n        \"min\": 0,\n        \"max\": 99999,\n        \"num_unique_values\": 119,\n        \"samples\": [\n          3781,\n          15831\n        ],\n        \"semantic_type\": \"\",\n        \"description\": \"\"\n      }\n    },\n    {\n      \"column\": \"capital-loos\",\n      \"properties\": {\n        \"dtype\": \"number\",\n        \"std\": 402,\n        \"min\": 0,\n        \"max\": 4356,\n        \"num_unique_values\": 92,\n        \"samples\": [\n          419,\n          2051\n        ],\n        \"semantic_type\": \"\",\n        \"description\": \"\"\n      }\n    },\n    {\n      \"column\": \"hour-per-week\",\n      \"properties\": {\n        \"dtype\": \"number\",\n        \"std\": 12,\n        \"min\": 1,\n        \"max\": 99,\n        \"num_unique_values\": 94,\n        \"samples\": [\n          6,\n          22\n        ],\n        \"semantic_type\": \"\",\n        \"description\": \"\"\n      }\n    },\n    {\n      \"column\": \"native-country\",\n      \"properties\": {\n        \"dtype\": \"category\",\n        \"num_unique_values\": 42,\n        \"samples\": [\n          \" El-Salvador\",\n          \" Philippines\"\n        ],\n        \"semantic_type\": \"\",\n        \"description\": \"\"\n      }\n    },\n    {\n      \"column\": \"income\",\n      \"properties\": {\n        \"dtype\": \"category\",\n        \"num_unique_values\": 2,\n        \"samples\": [\n          \" >50K\",\n          \" <=50K\"\n        ],\n        \"semantic_type\": \"\",\n        \"description\": \"\"\n      }\n    }\n  ]\n}"
            }
          },
          "metadata": {},
          "execution_count": 51
        }
      ]
    },
    {
      "cell_type": "code",
      "source": [
        "dataset = pd.read_csv('census.csv', header= None).head(5) #não mostra o título das colunas\n",
        "dataset"
      ],
      "metadata": {
        "id": "X2DoJvd7P7Zg"
      },
      "execution_count": null,
      "outputs": []
    },
    {
      "cell_type": "code",
      "source": [
        "#colocando nome nas colunas manualmente no arquivo\n",
        "colunas = ['idade', 'trabalho', 'final-weight', 'escolaridade', 'escolaridade-num', 'marital-status', 'occupation', 'relationship', 'race', 'sex', 'capital-gain', 'capital-loos',\t'hour-per-week', 'native-country', 'income']\n",
        "dataset = pd.read_csv('census.csv', header= None, names= colunas).head(5)\n",
        "dataset"
      ],
      "metadata": {
        "id": "pUvLw0VGRBmv"
      },
      "execution_count": null,
      "outputs": []
    },
    {
      "cell_type": "code",
      "source": [
        "dataset= pd.read_csv('census.csv', usecols= [\"age\", \"workclass\"]).head(5) #filtrando apenas as colunas desejadas\n",
        "dataset"
      ],
      "metadata": {
        "id": "IyBTpluzRdVS"
      },
      "execution_count": null,
      "outputs": []
    },
    {
      "cell_type": "code",
      "source": [
        "dataset= pd.read_csv('census.csv', na_values= [\" ?\"]) #substituindo caracteres faltantes, colocando o simbolo em formato de lista"
      ],
      "metadata": {
        "id": "Kah2o1vnSnPy"
      },
      "execution_count": null,
      "outputs": []
    },
    {
      "cell_type": "code",
      "source": [
        "dataset.isna().sum() #somando todos os valores faltantes"
      ],
      "metadata": {
        "id": "dcv5lK8eS2By"
      },
      "execution_count": null,
      "outputs": []
    },
    {
      "cell_type": "code",
      "source": [
        "dataset.dtypes #mostrando os tipos das variáveis"
      ],
      "metadata": {
        "id": "BFGITNPBS-Ec"
      },
      "execution_count": null,
      "outputs": []
    },
    {
      "cell_type": "code",
      "source": [
        "dataset= pd.read_csv('census.csv', dtype= ({\"final-weight\": \"float\"})) #transformando a variável 'final-weight' em float\n",
        "dataset.dtypes"
      ],
      "metadata": {
        "id": "IW9AwNW2TeJS",
        "outputId": "860fcdac-a32c-492b-ea3f-19f91ed2b26d",
        "colab": {
          "base_uri": "https://localhost:8080/",
          "height": 555
        }
      },
      "execution_count": 52,
      "outputs": [
        {
          "output_type": "execute_result",
          "data": {
            "text/plain": [
              "age                 int64\n",
              "workclass          object\n",
              "final-weight      float64\n",
              "education          object\n",
              "education-num       int64\n",
              "marital-status     object\n",
              "occupation         object\n",
              "relationship       object\n",
              "race               object\n",
              "sex                object\n",
              "capital-gain        int64\n",
              "capital-loos        int64\n",
              "hour-per-week       int64\n",
              "native-country     object\n",
              "income             object\n",
              "dtype: object"
            ],
            "text/html": [
              "<div>\n",
              "<style scoped>\n",
              "    .dataframe tbody tr th:only-of-type {\n",
              "        vertical-align: middle;\n",
              "    }\n",
              "\n",
              "    .dataframe tbody tr th {\n",
              "        vertical-align: top;\n",
              "    }\n",
              "\n",
              "    .dataframe thead th {\n",
              "        text-align: right;\n",
              "    }\n",
              "</style>\n",
              "<table border=\"1\" class=\"dataframe\">\n",
              "  <thead>\n",
              "    <tr style=\"text-align: right;\">\n",
              "      <th></th>\n",
              "      <th>0</th>\n",
              "    </tr>\n",
              "  </thead>\n",
              "  <tbody>\n",
              "    <tr>\n",
              "      <th>age</th>\n",
              "      <td>int64</td>\n",
              "    </tr>\n",
              "    <tr>\n",
              "      <th>workclass</th>\n",
              "      <td>object</td>\n",
              "    </tr>\n",
              "    <tr>\n",
              "      <th>final-weight</th>\n",
              "      <td>float64</td>\n",
              "    </tr>\n",
              "    <tr>\n",
              "      <th>education</th>\n",
              "      <td>object</td>\n",
              "    </tr>\n",
              "    <tr>\n",
              "      <th>education-num</th>\n",
              "      <td>int64</td>\n",
              "    </tr>\n",
              "    <tr>\n",
              "      <th>marital-status</th>\n",
              "      <td>object</td>\n",
              "    </tr>\n",
              "    <tr>\n",
              "      <th>occupation</th>\n",
              "      <td>object</td>\n",
              "    </tr>\n",
              "    <tr>\n",
              "      <th>relationship</th>\n",
              "      <td>object</td>\n",
              "    </tr>\n",
              "    <tr>\n",
              "      <th>race</th>\n",
              "      <td>object</td>\n",
              "    </tr>\n",
              "    <tr>\n",
              "      <th>sex</th>\n",
              "      <td>object</td>\n",
              "    </tr>\n",
              "    <tr>\n",
              "      <th>capital-gain</th>\n",
              "      <td>int64</td>\n",
              "    </tr>\n",
              "    <tr>\n",
              "      <th>capital-loos</th>\n",
              "      <td>int64</td>\n",
              "    </tr>\n",
              "    <tr>\n",
              "      <th>hour-per-week</th>\n",
              "      <td>int64</td>\n",
              "    </tr>\n",
              "    <tr>\n",
              "      <th>native-country</th>\n",
              "      <td>object</td>\n",
              "    </tr>\n",
              "    <tr>\n",
              "      <th>income</th>\n",
              "      <td>object</td>\n",
              "    </tr>\n",
              "  </tbody>\n",
              "</table>\n",
              "</div><br><label><b>dtype:</b> object</label>"
            ]
          },
          "metadata": {},
          "execution_count": 52
        }
      ]
    },
    {
      "cell_type": "code",
      "source": [
        "dataset = pd.read_csv('AirPassengers.csv', parse_dates= [\"Month\"] #transformando as datas em formatos de mês\n",
        "                      infer_datetime_format =True, index_col= \"Month\") #transformado o tipo em data, e mudando o índice como sendo o próprio mês\n",
        "dataset #carregando essa base de dados"
      ],
      "metadata": {
        "id": "bSqWO9SXT49H"
      },
      "execution_count": null,
      "outputs": []
    },
    {
      "cell_type": "code",
      "source": [
        "moeda = lambda x: f\"{x} USD\"\n",
        "dataset = pd.read_csv('census.csv', converters = {\"capital-gain\": moeda}) #aplicando uma função em uma coluna durante a leitura do arquivo\n",
        "dataset"
      ],
      "metadata": {
        "id": "7VEe2ADyUH-C"
      },
      "execution_count": null,
      "outputs": []
    },
    {
      "cell_type": "code",
      "source": [
        "dataset = pd.read_csv('seeds_dataset.txt', sep= \"\\t\", #colocando um separador de coluans, \\t\n",
        "                      header = None, names = [\"a\",\"b\",\"c\",\"d\",\"e\",\"f\",\"g\",\"h\"]) #retirando o cabeçalho e colocando nomes nas colunas\n",
        "dataset #por ser um txt, não há cabeçalho nem formatação"
      ],
      "metadata": {
        "id": "KkmpUIfbVxqm",
        "outputId": "2a590c74-84c3-462f-c2fa-54572def0481",
        "colab": {
          "base_uri": "https://localhost:8080/",
          "height": 457
        }
      },
      "execution_count": 54,
      "outputs": [
        {
          "output_type": "execute_result",
          "data": {
            "text/plain": [
              "        a      b       c      d      e      f      g  h\n",
              "0   15.26  14.84  0.8710  5.763  3.312  2.221  5.220  1\n",
              "1   14.88  14.57  0.8811  5.554  3.333  1.018  4.956  1\n",
              "2   14.29  14.09  0.9050  5.291  3.337  2.699  4.825  1\n",
              "3   13.84  13.94  0.8955  5.324  3.379  2.259  4.805  1\n",
              "4   16.14  14.99  0.9034  5.658  3.562  1.355  5.175  1\n",
              "5   14.38  14.21  0.8951  5.386  3.312  2.462  4.956  1\n",
              "6   16.63  15.46  0.8747  6.053  3.465  2.040  5.877  1\n",
              "7   16.44  15.25  0.8880  5.884  3.505  1.969  5.533  1\n",
              "8   15.26  14.85  0.8696  5.714  3.242  4.543  5.314  1\n",
              "9   14.03  14.16  0.8796  5.438  3.201  1.717  5.001  1\n",
              "10  13.89  14.02  0.8880  5.439  3.199  3.986  4.738  1\n",
              "11  13.78  14.06  0.8759  5.479  3.156  3.136  4.872  1\n",
              "12  13.74  14.05  0.8744  5.482  3.114  2.932  4.825  1"
            ],
            "text/html": [
              "\n",
              "  <div id=\"df-0555fc22-c80c-4b4a-8887-7f83eb23c089\" class=\"colab-df-container\">\n",
              "    <div>\n",
              "<style scoped>\n",
              "    .dataframe tbody tr th:only-of-type {\n",
              "        vertical-align: middle;\n",
              "    }\n",
              "\n",
              "    .dataframe tbody tr th {\n",
              "        vertical-align: top;\n",
              "    }\n",
              "\n",
              "    .dataframe thead th {\n",
              "        text-align: right;\n",
              "    }\n",
              "</style>\n",
              "<table border=\"1\" class=\"dataframe\">\n",
              "  <thead>\n",
              "    <tr style=\"text-align: right;\">\n",
              "      <th></th>\n",
              "      <th>a</th>\n",
              "      <th>b</th>\n",
              "      <th>c</th>\n",
              "      <th>d</th>\n",
              "      <th>e</th>\n",
              "      <th>f</th>\n",
              "      <th>g</th>\n",
              "      <th>h</th>\n",
              "    </tr>\n",
              "  </thead>\n",
              "  <tbody>\n",
              "    <tr>\n",
              "      <th>0</th>\n",
              "      <td>15.26</td>\n",
              "      <td>14.84</td>\n",
              "      <td>0.8710</td>\n",
              "      <td>5.763</td>\n",
              "      <td>3.312</td>\n",
              "      <td>2.221</td>\n",
              "      <td>5.220</td>\n",
              "      <td>1</td>\n",
              "    </tr>\n",
              "    <tr>\n",
              "      <th>1</th>\n",
              "      <td>14.88</td>\n",
              "      <td>14.57</td>\n",
              "      <td>0.8811</td>\n",
              "      <td>5.554</td>\n",
              "      <td>3.333</td>\n",
              "      <td>1.018</td>\n",
              "      <td>4.956</td>\n",
              "      <td>1</td>\n",
              "    </tr>\n",
              "    <tr>\n",
              "      <th>2</th>\n",
              "      <td>14.29</td>\n",
              "      <td>14.09</td>\n",
              "      <td>0.9050</td>\n",
              "      <td>5.291</td>\n",
              "      <td>3.337</td>\n",
              "      <td>2.699</td>\n",
              "      <td>4.825</td>\n",
              "      <td>1</td>\n",
              "    </tr>\n",
              "    <tr>\n",
              "      <th>3</th>\n",
              "      <td>13.84</td>\n",
              "      <td>13.94</td>\n",
              "      <td>0.8955</td>\n",
              "      <td>5.324</td>\n",
              "      <td>3.379</td>\n",
              "      <td>2.259</td>\n",
              "      <td>4.805</td>\n",
              "      <td>1</td>\n",
              "    </tr>\n",
              "    <tr>\n",
              "      <th>4</th>\n",
              "      <td>16.14</td>\n",
              "      <td>14.99</td>\n",
              "      <td>0.9034</td>\n",
              "      <td>5.658</td>\n",
              "      <td>3.562</td>\n",
              "      <td>1.355</td>\n",
              "      <td>5.175</td>\n",
              "      <td>1</td>\n",
              "    </tr>\n",
              "    <tr>\n",
              "      <th>5</th>\n",
              "      <td>14.38</td>\n",
              "      <td>14.21</td>\n",
              "      <td>0.8951</td>\n",
              "      <td>5.386</td>\n",
              "      <td>3.312</td>\n",
              "      <td>2.462</td>\n",
              "      <td>4.956</td>\n",
              "      <td>1</td>\n",
              "    </tr>\n",
              "    <tr>\n",
              "      <th>6</th>\n",
              "      <td>16.63</td>\n",
              "      <td>15.46</td>\n",
              "      <td>0.8747</td>\n",
              "      <td>6.053</td>\n",
              "      <td>3.465</td>\n",
              "      <td>2.040</td>\n",
              "      <td>5.877</td>\n",
              "      <td>1</td>\n",
              "    </tr>\n",
              "    <tr>\n",
              "      <th>7</th>\n",
              "      <td>16.44</td>\n",
              "      <td>15.25</td>\n",
              "      <td>0.8880</td>\n",
              "      <td>5.884</td>\n",
              "      <td>3.505</td>\n",
              "      <td>1.969</td>\n",
              "      <td>5.533</td>\n",
              "      <td>1</td>\n",
              "    </tr>\n",
              "    <tr>\n",
              "      <th>8</th>\n",
              "      <td>15.26</td>\n",
              "      <td>14.85</td>\n",
              "      <td>0.8696</td>\n",
              "      <td>5.714</td>\n",
              "      <td>3.242</td>\n",
              "      <td>4.543</td>\n",
              "      <td>5.314</td>\n",
              "      <td>1</td>\n",
              "    </tr>\n",
              "    <tr>\n",
              "      <th>9</th>\n",
              "      <td>14.03</td>\n",
              "      <td>14.16</td>\n",
              "      <td>0.8796</td>\n",
              "      <td>5.438</td>\n",
              "      <td>3.201</td>\n",
              "      <td>1.717</td>\n",
              "      <td>5.001</td>\n",
              "      <td>1</td>\n",
              "    </tr>\n",
              "    <tr>\n",
              "      <th>10</th>\n",
              "      <td>13.89</td>\n",
              "      <td>14.02</td>\n",
              "      <td>0.8880</td>\n",
              "      <td>5.439</td>\n",
              "      <td>3.199</td>\n",
              "      <td>3.986</td>\n",
              "      <td>4.738</td>\n",
              "      <td>1</td>\n",
              "    </tr>\n",
              "    <tr>\n",
              "      <th>11</th>\n",
              "      <td>13.78</td>\n",
              "      <td>14.06</td>\n",
              "      <td>0.8759</td>\n",
              "      <td>5.479</td>\n",
              "      <td>3.156</td>\n",
              "      <td>3.136</td>\n",
              "      <td>4.872</td>\n",
              "      <td>1</td>\n",
              "    </tr>\n",
              "    <tr>\n",
              "      <th>12</th>\n",
              "      <td>13.74</td>\n",
              "      <td>14.05</td>\n",
              "      <td>0.8744</td>\n",
              "      <td>5.482</td>\n",
              "      <td>3.114</td>\n",
              "      <td>2.932</td>\n",
              "      <td>4.825</td>\n",
              "      <td>1</td>\n",
              "    </tr>\n",
              "  </tbody>\n",
              "</table>\n",
              "</div>\n",
              "    <div class=\"colab-df-buttons\">\n",
              "\n",
              "  <div class=\"colab-df-container\">\n",
              "    <button class=\"colab-df-convert\" onclick=\"convertToInteractive('df-0555fc22-c80c-4b4a-8887-7f83eb23c089')\"\n",
              "            title=\"Convert this dataframe to an interactive table.\"\n",
              "            style=\"display:none;\">\n",
              "\n",
              "  <svg xmlns=\"http://www.w3.org/2000/svg\" height=\"24px\" viewBox=\"0 -960 960 960\">\n",
              "    <path d=\"M120-120v-720h720v720H120Zm60-500h600v-160H180v160Zm220 220h160v-160H400v160Zm0 220h160v-160H400v160ZM180-400h160v-160H180v160Zm440 0h160v-160H620v160ZM180-180h160v-160H180v160Zm440 0h160v-160H620v160Z\"/>\n",
              "  </svg>\n",
              "    </button>\n",
              "\n",
              "  <style>\n",
              "    .colab-df-container {\n",
              "      display:flex;\n",
              "      gap: 12px;\n",
              "    }\n",
              "\n",
              "    .colab-df-convert {\n",
              "      background-color: #E8F0FE;\n",
              "      border: none;\n",
              "      border-radius: 50%;\n",
              "      cursor: pointer;\n",
              "      display: none;\n",
              "      fill: #1967D2;\n",
              "      height: 32px;\n",
              "      padding: 0 0 0 0;\n",
              "      width: 32px;\n",
              "    }\n",
              "\n",
              "    .colab-df-convert:hover {\n",
              "      background-color: #E2EBFA;\n",
              "      box-shadow: 0px 1px 2px rgba(60, 64, 67, 0.3), 0px 1px 3px 1px rgba(60, 64, 67, 0.15);\n",
              "      fill: #174EA6;\n",
              "    }\n",
              "\n",
              "    .colab-df-buttons div {\n",
              "      margin-bottom: 4px;\n",
              "    }\n",
              "\n",
              "    [theme=dark] .colab-df-convert {\n",
              "      background-color: #3B4455;\n",
              "      fill: #D2E3FC;\n",
              "    }\n",
              "\n",
              "    [theme=dark] .colab-df-convert:hover {\n",
              "      background-color: #434B5C;\n",
              "      box-shadow: 0px 1px 3px 1px rgba(0, 0, 0, 0.15);\n",
              "      filter: drop-shadow(0px 1px 2px rgba(0, 0, 0, 0.3));\n",
              "      fill: #FFFFFF;\n",
              "    }\n",
              "  </style>\n",
              "\n",
              "    <script>\n",
              "      const buttonEl =\n",
              "        document.querySelector('#df-0555fc22-c80c-4b4a-8887-7f83eb23c089 button.colab-df-convert');\n",
              "      buttonEl.style.display =\n",
              "        google.colab.kernel.accessAllowed ? 'block' : 'none';\n",
              "\n",
              "      async function convertToInteractive(key) {\n",
              "        const element = document.querySelector('#df-0555fc22-c80c-4b4a-8887-7f83eb23c089');\n",
              "        const dataTable =\n",
              "          await google.colab.kernel.invokeFunction('convertToInteractive',\n",
              "                                                    [key], {});\n",
              "        if (!dataTable) return;\n",
              "\n",
              "        const docLinkHtml = 'Like what you see? Visit the ' +\n",
              "          '<a target=\"_blank\" href=https://colab.research.google.com/notebooks/data_table.ipynb>data table notebook</a>'\n",
              "          + ' to learn more about interactive tables.';\n",
              "        element.innerHTML = '';\n",
              "        dataTable['output_type'] = 'display_data';\n",
              "        await google.colab.output.renderOutput(dataTable, element);\n",
              "        const docLink = document.createElement('div');\n",
              "        docLink.innerHTML = docLinkHtml;\n",
              "        element.appendChild(docLink);\n",
              "      }\n",
              "    </script>\n",
              "  </div>\n",
              "\n",
              "\n",
              "    <div id=\"df-379ed7ba-4c0b-4c08-a7d7-559deb71a012\">\n",
              "      <button class=\"colab-df-quickchart\" onclick=\"quickchart('df-379ed7ba-4c0b-4c08-a7d7-559deb71a012')\"\n",
              "                title=\"Suggest charts\"\n",
              "                style=\"display:none;\">\n",
              "\n",
              "<svg xmlns=\"http://www.w3.org/2000/svg\" height=\"24px\"viewBox=\"0 0 24 24\"\n",
              "     width=\"24px\">\n",
              "    <g>\n",
              "        <path d=\"M19 3H5c-1.1 0-2 .9-2 2v14c0 1.1.9 2 2 2h14c1.1 0 2-.9 2-2V5c0-1.1-.9-2-2-2zM9 17H7v-7h2v7zm4 0h-2V7h2v10zm4 0h-2v-4h2v4z\"/>\n",
              "    </g>\n",
              "</svg>\n",
              "      </button>\n",
              "\n",
              "<style>\n",
              "  .colab-df-quickchart {\n",
              "      --bg-color: #E8F0FE;\n",
              "      --fill-color: #1967D2;\n",
              "      --hover-bg-color: #E2EBFA;\n",
              "      --hover-fill-color: #174EA6;\n",
              "      --disabled-fill-color: #AAA;\n",
              "      --disabled-bg-color: #DDD;\n",
              "  }\n",
              "\n",
              "  [theme=dark] .colab-df-quickchart {\n",
              "      --bg-color: #3B4455;\n",
              "      --fill-color: #D2E3FC;\n",
              "      --hover-bg-color: #434B5C;\n",
              "      --hover-fill-color: #FFFFFF;\n",
              "      --disabled-bg-color: #3B4455;\n",
              "      --disabled-fill-color: #666;\n",
              "  }\n",
              "\n",
              "  .colab-df-quickchart {\n",
              "    background-color: var(--bg-color);\n",
              "    border: none;\n",
              "    border-radius: 50%;\n",
              "    cursor: pointer;\n",
              "    display: none;\n",
              "    fill: var(--fill-color);\n",
              "    height: 32px;\n",
              "    padding: 0;\n",
              "    width: 32px;\n",
              "  }\n",
              "\n",
              "  .colab-df-quickchart:hover {\n",
              "    background-color: var(--hover-bg-color);\n",
              "    box-shadow: 0 1px 2px rgba(60, 64, 67, 0.3), 0 1px 3px 1px rgba(60, 64, 67, 0.15);\n",
              "    fill: var(--button-hover-fill-color);\n",
              "  }\n",
              "\n",
              "  .colab-df-quickchart-complete:disabled,\n",
              "  .colab-df-quickchart-complete:disabled:hover {\n",
              "    background-color: var(--disabled-bg-color);\n",
              "    fill: var(--disabled-fill-color);\n",
              "    box-shadow: none;\n",
              "  }\n",
              "\n",
              "  .colab-df-spinner {\n",
              "    border: 2px solid var(--fill-color);\n",
              "    border-color: transparent;\n",
              "    border-bottom-color: var(--fill-color);\n",
              "    animation:\n",
              "      spin 1s steps(1) infinite;\n",
              "  }\n",
              "\n",
              "  @keyframes spin {\n",
              "    0% {\n",
              "      border-color: transparent;\n",
              "      border-bottom-color: var(--fill-color);\n",
              "      border-left-color: var(--fill-color);\n",
              "    }\n",
              "    20% {\n",
              "      border-color: transparent;\n",
              "      border-left-color: var(--fill-color);\n",
              "      border-top-color: var(--fill-color);\n",
              "    }\n",
              "    30% {\n",
              "      border-color: transparent;\n",
              "      border-left-color: var(--fill-color);\n",
              "      border-top-color: var(--fill-color);\n",
              "      border-right-color: var(--fill-color);\n",
              "    }\n",
              "    40% {\n",
              "      border-color: transparent;\n",
              "      border-right-color: var(--fill-color);\n",
              "      border-top-color: var(--fill-color);\n",
              "    }\n",
              "    60% {\n",
              "      border-color: transparent;\n",
              "      border-right-color: var(--fill-color);\n",
              "    }\n",
              "    80% {\n",
              "      border-color: transparent;\n",
              "      border-right-color: var(--fill-color);\n",
              "      border-bottom-color: var(--fill-color);\n",
              "    }\n",
              "    90% {\n",
              "      border-color: transparent;\n",
              "      border-bottom-color: var(--fill-color);\n",
              "    }\n",
              "  }\n",
              "</style>\n",
              "\n",
              "      <script>\n",
              "        async function quickchart(key) {\n",
              "          const quickchartButtonEl =\n",
              "            document.querySelector('#' + key + ' button');\n",
              "          quickchartButtonEl.disabled = true;  // To prevent multiple clicks.\n",
              "          quickchartButtonEl.classList.add('colab-df-spinner');\n",
              "          try {\n",
              "            const charts = await google.colab.kernel.invokeFunction(\n",
              "                'suggestCharts', [key], {});\n",
              "          } catch (error) {\n",
              "            console.error('Error during call to suggestCharts:', error);\n",
              "          }\n",
              "          quickchartButtonEl.classList.remove('colab-df-spinner');\n",
              "          quickchartButtonEl.classList.add('colab-df-quickchart-complete');\n",
              "        }\n",
              "        (() => {\n",
              "          let quickchartButtonEl =\n",
              "            document.querySelector('#df-379ed7ba-4c0b-4c08-a7d7-559deb71a012 button');\n",
              "          quickchartButtonEl.style.display =\n",
              "            google.colab.kernel.accessAllowed ? 'block' : 'none';\n",
              "        })();\n",
              "      </script>\n",
              "    </div>\n",
              "\n",
              "  <div id=\"id_393cc973-500f-430f-8613-e4d1049c10e7\">\n",
              "    <style>\n",
              "      .colab-df-generate {\n",
              "        background-color: #E8F0FE;\n",
              "        border: none;\n",
              "        border-radius: 50%;\n",
              "        cursor: pointer;\n",
              "        display: none;\n",
              "        fill: #1967D2;\n",
              "        height: 32px;\n",
              "        padding: 0 0 0 0;\n",
              "        width: 32px;\n",
              "      }\n",
              "\n",
              "      .colab-df-generate:hover {\n",
              "        background-color: #E2EBFA;\n",
              "        box-shadow: 0px 1px 2px rgba(60, 64, 67, 0.3), 0px 1px 3px 1px rgba(60, 64, 67, 0.15);\n",
              "        fill: #174EA6;\n",
              "      }\n",
              "\n",
              "      [theme=dark] .colab-df-generate {\n",
              "        background-color: #3B4455;\n",
              "        fill: #D2E3FC;\n",
              "      }\n",
              "\n",
              "      [theme=dark] .colab-df-generate:hover {\n",
              "        background-color: #434B5C;\n",
              "        box-shadow: 0px 1px 3px 1px rgba(0, 0, 0, 0.15);\n",
              "        filter: drop-shadow(0px 1px 2px rgba(0, 0, 0, 0.3));\n",
              "        fill: #FFFFFF;\n",
              "      }\n",
              "    </style>\n",
              "    <button class=\"colab-df-generate\" onclick=\"generateWithVariable('dataset')\"\n",
              "            title=\"Generate code using this dataframe.\"\n",
              "            style=\"display:none;\">\n",
              "\n",
              "  <svg xmlns=\"http://www.w3.org/2000/svg\" height=\"24px\"viewBox=\"0 0 24 24\"\n",
              "       width=\"24px\">\n",
              "    <path d=\"M7,19H8.4L18.45,9,17,7.55,7,17.6ZM5,21V16.75L18.45,3.32a2,2,0,0,1,2.83,0l1.4,1.43a1.91,1.91,0,0,1,.58,1.4,1.91,1.91,0,0,1-.58,1.4L9.25,21ZM18.45,9,17,7.55Zm-12,3A5.31,5.31,0,0,0,4.9,8.1,5.31,5.31,0,0,0,1,6.5,5.31,5.31,0,0,0,4.9,4.9,5.31,5.31,0,0,0,6.5,1,5.31,5.31,0,0,0,8.1,4.9,5.31,5.31,0,0,0,12,6.5,5.46,5.46,0,0,0,6.5,12Z\"/>\n",
              "  </svg>\n",
              "    </button>\n",
              "    <script>\n",
              "      (() => {\n",
              "      const buttonEl =\n",
              "        document.querySelector('#id_393cc973-500f-430f-8613-e4d1049c10e7 button.colab-df-generate');\n",
              "      buttonEl.style.display =\n",
              "        google.colab.kernel.accessAllowed ? 'block' : 'none';\n",
              "\n",
              "      buttonEl.onclick = () => {\n",
              "        google.colab.notebook.generateWithVariable('dataset');\n",
              "      }\n",
              "      })();\n",
              "    </script>\n",
              "  </div>\n",
              "\n",
              "    </div>\n",
              "  </div>\n"
            ],
            "application/vnd.google.colaboratory.intrinsic+json": {
              "type": "dataframe",
              "variable_name": "dataset",
              "summary": "{\n  \"name\": \"dataset\",\n  \"rows\": 13,\n  \"fields\": [\n    {\n      \"column\": \"a\",\n      \"properties\": {\n        \"dtype\": \"number\",\n        \"std\": 1.0490007455205,\n        \"min\": 13.74,\n        \"max\": 16.63,\n        \"num_unique_values\": 12,\n        \"samples\": [\n          13.78,\n          13.89,\n          15.26\n        ],\n        \"semantic_type\": \"\",\n        \"description\": \"\"\n      }\n    },\n    {\n      \"column\": \"b\",\n      \"properties\": {\n        \"dtype\": \"number\",\n        \"std\": 0.5224216295047125,\n        \"min\": 13.94,\n        \"max\": 15.46,\n        \"num_unique_values\": 13,\n        \"samples\": [\n          14.06,\n          14.16,\n          14.84\n        ],\n        \"semantic_type\": \"\",\n        \"description\": \"\"\n      }\n    },\n    {\n      \"column\": \"c\",\n      \"properties\": {\n        \"dtype\": \"number\",\n        \"std\": 0.012064261695454477,\n        \"min\": 0.8696,\n        \"max\": 0.905,\n        \"num_unique_values\": 12,\n        \"samples\": [\n          0.8759,\n          0.8796,\n          0.871\n        ],\n        \"semantic_type\": \"\",\n        \"description\": \"\"\n      }\n    },\n    {\n      \"column\": \"d\",\n      \"properties\": {\n        \"dtype\": \"number\",\n        \"std\": 0.22738739112146403,\n        \"min\": 5.291,\n        \"max\": 6.053,\n        \"num_unique_values\": 13,\n        \"samples\": [\n          5.479,\n          5.438,\n          5.763\n        ],\n        \"semantic_type\": \"\",\n        \"description\": \"\"\n      }\n    },\n    {\n      \"column\": \"e\",\n      \"properties\": {\n        \"dtype\": \"number\",\n        \"std\": 0.13600146115353842,\n        \"min\": 3.114,\n        \"max\": 3.562,\n        \"num_unique_values\": 12,\n        \"samples\": [\n          3.156,\n          3.199,\n          3.312\n        ],\n        \"semantic_type\": \"\",\n        \"description\": \"\"\n      }\n    },\n    {\n      \"column\": \"f\",\n      \"properties\": {\n        \"dtype\": \"number\",\n        \"std\": 0.990037340658137,\n        \"min\": 1.018,\n        \"max\": 4.543,\n        \"num_unique_values\": 13,\n        \"samples\": [\n          3.136,\n          1.717,\n          2.221\n        ],\n        \"semantic_type\": \"\",\n        \"description\": \"\"\n      }\n    },\n    {\n      \"column\": \"g\",\n      \"properties\": {\n        \"dtype\": \"number\",\n        \"std\": 0.33247118633588335,\n        \"min\": 4.738,\n        \"max\": 5.877,\n        \"num_unique_values\": 11,\n        \"samples\": [\n          5.877,\n          5.22,\n          4.738\n        ],\n        \"semantic_type\": \"\",\n        \"description\": \"\"\n      }\n    },\n    {\n      \"column\": \"h\",\n      \"properties\": {\n        \"dtype\": \"number\",\n        \"std\": 0,\n        \"min\": 1,\n        \"max\": 1,\n        \"num_unique_values\": 1,\n        \"samples\": [\n          1\n        ],\n        \"semantic_type\": \"\",\n        \"description\": \"\"\n      }\n    }\n  ]\n}"
            }
          },
          "metadata": {},
          "execution_count": 54
        }
      ]
    },
    {
      "cell_type": "code",
      "source": [
        "dataset= pd.read_excel('seeds.xlsx', sheet_name= \"Planilha2\") #lendo a guia específica do excel\n",
        "dataset"
      ],
      "metadata": {
        "id": "V1K5YbjIV_UB",
        "outputId": "0596abb1-4245-4fa2-d568-156604f5eda4",
        "colab": {
          "base_uri": "https://localhost:8080/",
          "height": 426
        }
      },
      "execution_count": 57,
      "outputs": [
        {
          "output_type": "execute_result",
          "data": {
            "text/plain": [
              "    15.26  14.84   0.871  5763  3312     2221  5.22  1\n",
              "0   13.74  14.05  0.8744  5482  3114  2932.00  4825  1\n",
              "1   13.78  14.06  0.8759  5479  3156  3136.00  4872  1\n",
              "2   13.89  14.02  0.8880  5439  3199  3986.00  4738  1\n",
              "3   14.03  14.16  0.8796  5438  3201  1717.00  5001  1\n",
              "4   15.26  14.85  0.8696  5714  3242  4543.00  5314  1\n",
              "5   14.38  14.21  0.8951  5386  3312  2462.00  4956  1\n",
              "6   14.88  14.57  0.8811  5554  3333  1018.00  4956  1\n",
              "7   14.29  14.09  0.9050  5291  3337  2699.00  4825  1\n",
              "8   13.84  13.94  0.8955  5324  3379  2259.00  4805  1\n",
              "9   16.63  15.46  0.8747  6053  3465     2.04  5877  1\n",
              "10  16.44  15.25  0.8880  5884  3505  1969.00  5533  1\n",
              "11  16.14  14.99  0.9034  5658  3562  1355.00  5175  1"
            ],
            "text/html": [
              "\n",
              "  <div id=\"df-6a41e5cc-3267-489c-bd1f-e33f572816c6\" class=\"colab-df-container\">\n",
              "    <div>\n",
              "<style scoped>\n",
              "    .dataframe tbody tr th:only-of-type {\n",
              "        vertical-align: middle;\n",
              "    }\n",
              "\n",
              "    .dataframe tbody tr th {\n",
              "        vertical-align: top;\n",
              "    }\n",
              "\n",
              "    .dataframe thead th {\n",
              "        text-align: right;\n",
              "    }\n",
              "</style>\n",
              "<table border=\"1\" class=\"dataframe\">\n",
              "  <thead>\n",
              "    <tr style=\"text-align: right;\">\n",
              "      <th></th>\n",
              "      <th>15.26</th>\n",
              "      <th>14.84</th>\n",
              "      <th>0.871</th>\n",
              "      <th>5763</th>\n",
              "      <th>3312</th>\n",
              "      <th>2221</th>\n",
              "      <th>5.22</th>\n",
              "      <th>1</th>\n",
              "    </tr>\n",
              "  </thead>\n",
              "  <tbody>\n",
              "    <tr>\n",
              "      <th>0</th>\n",
              "      <td>13.74</td>\n",
              "      <td>14.05</td>\n",
              "      <td>0.8744</td>\n",
              "      <td>5482</td>\n",
              "      <td>3114</td>\n",
              "      <td>2932.00</td>\n",
              "      <td>4825</td>\n",
              "      <td>1</td>\n",
              "    </tr>\n",
              "    <tr>\n",
              "      <th>1</th>\n",
              "      <td>13.78</td>\n",
              "      <td>14.06</td>\n",
              "      <td>0.8759</td>\n",
              "      <td>5479</td>\n",
              "      <td>3156</td>\n",
              "      <td>3136.00</td>\n",
              "      <td>4872</td>\n",
              "      <td>1</td>\n",
              "    </tr>\n",
              "    <tr>\n",
              "      <th>2</th>\n",
              "      <td>13.89</td>\n",
              "      <td>14.02</td>\n",
              "      <td>0.8880</td>\n",
              "      <td>5439</td>\n",
              "      <td>3199</td>\n",
              "      <td>3986.00</td>\n",
              "      <td>4738</td>\n",
              "      <td>1</td>\n",
              "    </tr>\n",
              "    <tr>\n",
              "      <th>3</th>\n",
              "      <td>14.03</td>\n",
              "      <td>14.16</td>\n",
              "      <td>0.8796</td>\n",
              "      <td>5438</td>\n",
              "      <td>3201</td>\n",
              "      <td>1717.00</td>\n",
              "      <td>5001</td>\n",
              "      <td>1</td>\n",
              "    </tr>\n",
              "    <tr>\n",
              "      <th>4</th>\n",
              "      <td>15.26</td>\n",
              "      <td>14.85</td>\n",
              "      <td>0.8696</td>\n",
              "      <td>5714</td>\n",
              "      <td>3242</td>\n",
              "      <td>4543.00</td>\n",
              "      <td>5314</td>\n",
              "      <td>1</td>\n",
              "    </tr>\n",
              "    <tr>\n",
              "      <th>5</th>\n",
              "      <td>14.38</td>\n",
              "      <td>14.21</td>\n",
              "      <td>0.8951</td>\n",
              "      <td>5386</td>\n",
              "      <td>3312</td>\n",
              "      <td>2462.00</td>\n",
              "      <td>4956</td>\n",
              "      <td>1</td>\n",
              "    </tr>\n",
              "    <tr>\n",
              "      <th>6</th>\n",
              "      <td>14.88</td>\n",
              "      <td>14.57</td>\n",
              "      <td>0.8811</td>\n",
              "      <td>5554</td>\n",
              "      <td>3333</td>\n",
              "      <td>1018.00</td>\n",
              "      <td>4956</td>\n",
              "      <td>1</td>\n",
              "    </tr>\n",
              "    <tr>\n",
              "      <th>7</th>\n",
              "      <td>14.29</td>\n",
              "      <td>14.09</td>\n",
              "      <td>0.9050</td>\n",
              "      <td>5291</td>\n",
              "      <td>3337</td>\n",
              "      <td>2699.00</td>\n",
              "      <td>4825</td>\n",
              "      <td>1</td>\n",
              "    </tr>\n",
              "    <tr>\n",
              "      <th>8</th>\n",
              "      <td>13.84</td>\n",
              "      <td>13.94</td>\n",
              "      <td>0.8955</td>\n",
              "      <td>5324</td>\n",
              "      <td>3379</td>\n",
              "      <td>2259.00</td>\n",
              "      <td>4805</td>\n",
              "      <td>1</td>\n",
              "    </tr>\n",
              "    <tr>\n",
              "      <th>9</th>\n",
              "      <td>16.63</td>\n",
              "      <td>15.46</td>\n",
              "      <td>0.8747</td>\n",
              "      <td>6053</td>\n",
              "      <td>3465</td>\n",
              "      <td>2.04</td>\n",
              "      <td>5877</td>\n",
              "      <td>1</td>\n",
              "    </tr>\n",
              "    <tr>\n",
              "      <th>10</th>\n",
              "      <td>16.44</td>\n",
              "      <td>15.25</td>\n",
              "      <td>0.8880</td>\n",
              "      <td>5884</td>\n",
              "      <td>3505</td>\n",
              "      <td>1969.00</td>\n",
              "      <td>5533</td>\n",
              "      <td>1</td>\n",
              "    </tr>\n",
              "    <tr>\n",
              "      <th>11</th>\n",
              "      <td>16.14</td>\n",
              "      <td>14.99</td>\n",
              "      <td>0.9034</td>\n",
              "      <td>5658</td>\n",
              "      <td>3562</td>\n",
              "      <td>1355.00</td>\n",
              "      <td>5175</td>\n",
              "      <td>1</td>\n",
              "    </tr>\n",
              "  </tbody>\n",
              "</table>\n",
              "</div>\n",
              "    <div class=\"colab-df-buttons\">\n",
              "\n",
              "  <div class=\"colab-df-container\">\n",
              "    <button class=\"colab-df-convert\" onclick=\"convertToInteractive('df-6a41e5cc-3267-489c-bd1f-e33f572816c6')\"\n",
              "            title=\"Convert this dataframe to an interactive table.\"\n",
              "            style=\"display:none;\">\n",
              "\n",
              "  <svg xmlns=\"http://www.w3.org/2000/svg\" height=\"24px\" viewBox=\"0 -960 960 960\">\n",
              "    <path d=\"M120-120v-720h720v720H120Zm60-500h600v-160H180v160Zm220 220h160v-160H400v160Zm0 220h160v-160H400v160ZM180-400h160v-160H180v160Zm440 0h160v-160H620v160ZM180-180h160v-160H180v160Zm440 0h160v-160H620v160Z\"/>\n",
              "  </svg>\n",
              "    </button>\n",
              "\n",
              "  <style>\n",
              "    .colab-df-container {\n",
              "      display:flex;\n",
              "      gap: 12px;\n",
              "    }\n",
              "\n",
              "    .colab-df-convert {\n",
              "      background-color: #E8F0FE;\n",
              "      border: none;\n",
              "      border-radius: 50%;\n",
              "      cursor: pointer;\n",
              "      display: none;\n",
              "      fill: #1967D2;\n",
              "      height: 32px;\n",
              "      padding: 0 0 0 0;\n",
              "      width: 32px;\n",
              "    }\n",
              "\n",
              "    .colab-df-convert:hover {\n",
              "      background-color: #E2EBFA;\n",
              "      box-shadow: 0px 1px 2px rgba(60, 64, 67, 0.3), 0px 1px 3px 1px rgba(60, 64, 67, 0.15);\n",
              "      fill: #174EA6;\n",
              "    }\n",
              "\n",
              "    .colab-df-buttons div {\n",
              "      margin-bottom: 4px;\n",
              "    }\n",
              "\n",
              "    [theme=dark] .colab-df-convert {\n",
              "      background-color: #3B4455;\n",
              "      fill: #D2E3FC;\n",
              "    }\n",
              "\n",
              "    [theme=dark] .colab-df-convert:hover {\n",
              "      background-color: #434B5C;\n",
              "      box-shadow: 0px 1px 3px 1px rgba(0, 0, 0, 0.15);\n",
              "      filter: drop-shadow(0px 1px 2px rgba(0, 0, 0, 0.3));\n",
              "      fill: #FFFFFF;\n",
              "    }\n",
              "  </style>\n",
              "\n",
              "    <script>\n",
              "      const buttonEl =\n",
              "        document.querySelector('#df-6a41e5cc-3267-489c-bd1f-e33f572816c6 button.colab-df-convert');\n",
              "      buttonEl.style.display =\n",
              "        google.colab.kernel.accessAllowed ? 'block' : 'none';\n",
              "\n",
              "      async function convertToInteractive(key) {\n",
              "        const element = document.querySelector('#df-6a41e5cc-3267-489c-bd1f-e33f572816c6');\n",
              "        const dataTable =\n",
              "          await google.colab.kernel.invokeFunction('convertToInteractive',\n",
              "                                                    [key], {});\n",
              "        if (!dataTable) return;\n",
              "\n",
              "        const docLinkHtml = 'Like what you see? Visit the ' +\n",
              "          '<a target=\"_blank\" href=https://colab.research.google.com/notebooks/data_table.ipynb>data table notebook</a>'\n",
              "          + ' to learn more about interactive tables.';\n",
              "        element.innerHTML = '';\n",
              "        dataTable['output_type'] = 'display_data';\n",
              "        await google.colab.output.renderOutput(dataTable, element);\n",
              "        const docLink = document.createElement('div');\n",
              "        docLink.innerHTML = docLinkHtml;\n",
              "        element.appendChild(docLink);\n",
              "      }\n",
              "    </script>\n",
              "  </div>\n",
              "\n",
              "\n",
              "    <div id=\"df-2381ab88-1723-4305-8b0c-5afbf1c0e03a\">\n",
              "      <button class=\"colab-df-quickchart\" onclick=\"quickchart('df-2381ab88-1723-4305-8b0c-5afbf1c0e03a')\"\n",
              "                title=\"Suggest charts\"\n",
              "                style=\"display:none;\">\n",
              "\n",
              "<svg xmlns=\"http://www.w3.org/2000/svg\" height=\"24px\"viewBox=\"0 0 24 24\"\n",
              "     width=\"24px\">\n",
              "    <g>\n",
              "        <path d=\"M19 3H5c-1.1 0-2 .9-2 2v14c0 1.1.9 2 2 2h14c1.1 0 2-.9 2-2V5c0-1.1-.9-2-2-2zM9 17H7v-7h2v7zm4 0h-2V7h2v10zm4 0h-2v-4h2v4z\"/>\n",
              "    </g>\n",
              "</svg>\n",
              "      </button>\n",
              "\n",
              "<style>\n",
              "  .colab-df-quickchart {\n",
              "      --bg-color: #E8F0FE;\n",
              "      --fill-color: #1967D2;\n",
              "      --hover-bg-color: #E2EBFA;\n",
              "      --hover-fill-color: #174EA6;\n",
              "      --disabled-fill-color: #AAA;\n",
              "      --disabled-bg-color: #DDD;\n",
              "  }\n",
              "\n",
              "  [theme=dark] .colab-df-quickchart {\n",
              "      --bg-color: #3B4455;\n",
              "      --fill-color: #D2E3FC;\n",
              "      --hover-bg-color: #434B5C;\n",
              "      --hover-fill-color: #FFFFFF;\n",
              "      --disabled-bg-color: #3B4455;\n",
              "      --disabled-fill-color: #666;\n",
              "  }\n",
              "\n",
              "  .colab-df-quickchart {\n",
              "    background-color: var(--bg-color);\n",
              "    border: none;\n",
              "    border-radius: 50%;\n",
              "    cursor: pointer;\n",
              "    display: none;\n",
              "    fill: var(--fill-color);\n",
              "    height: 32px;\n",
              "    padding: 0;\n",
              "    width: 32px;\n",
              "  }\n",
              "\n",
              "  .colab-df-quickchart:hover {\n",
              "    background-color: var(--hover-bg-color);\n",
              "    box-shadow: 0 1px 2px rgba(60, 64, 67, 0.3), 0 1px 3px 1px rgba(60, 64, 67, 0.15);\n",
              "    fill: var(--button-hover-fill-color);\n",
              "  }\n",
              "\n",
              "  .colab-df-quickchart-complete:disabled,\n",
              "  .colab-df-quickchart-complete:disabled:hover {\n",
              "    background-color: var(--disabled-bg-color);\n",
              "    fill: var(--disabled-fill-color);\n",
              "    box-shadow: none;\n",
              "  }\n",
              "\n",
              "  .colab-df-spinner {\n",
              "    border: 2px solid var(--fill-color);\n",
              "    border-color: transparent;\n",
              "    border-bottom-color: var(--fill-color);\n",
              "    animation:\n",
              "      spin 1s steps(1) infinite;\n",
              "  }\n",
              "\n",
              "  @keyframes spin {\n",
              "    0% {\n",
              "      border-color: transparent;\n",
              "      border-bottom-color: var(--fill-color);\n",
              "      border-left-color: var(--fill-color);\n",
              "    }\n",
              "    20% {\n",
              "      border-color: transparent;\n",
              "      border-left-color: var(--fill-color);\n",
              "      border-top-color: var(--fill-color);\n",
              "    }\n",
              "    30% {\n",
              "      border-color: transparent;\n",
              "      border-left-color: var(--fill-color);\n",
              "      border-top-color: var(--fill-color);\n",
              "      border-right-color: var(--fill-color);\n",
              "    }\n",
              "    40% {\n",
              "      border-color: transparent;\n",
              "      border-right-color: var(--fill-color);\n",
              "      border-top-color: var(--fill-color);\n",
              "    }\n",
              "    60% {\n",
              "      border-color: transparent;\n",
              "      border-right-color: var(--fill-color);\n",
              "    }\n",
              "    80% {\n",
              "      border-color: transparent;\n",
              "      border-right-color: var(--fill-color);\n",
              "      border-bottom-color: var(--fill-color);\n",
              "    }\n",
              "    90% {\n",
              "      border-color: transparent;\n",
              "      border-bottom-color: var(--fill-color);\n",
              "    }\n",
              "  }\n",
              "</style>\n",
              "\n",
              "      <script>\n",
              "        async function quickchart(key) {\n",
              "          const quickchartButtonEl =\n",
              "            document.querySelector('#' + key + ' button');\n",
              "          quickchartButtonEl.disabled = true;  // To prevent multiple clicks.\n",
              "          quickchartButtonEl.classList.add('colab-df-spinner');\n",
              "          try {\n",
              "            const charts = await google.colab.kernel.invokeFunction(\n",
              "                'suggestCharts', [key], {});\n",
              "          } catch (error) {\n",
              "            console.error('Error during call to suggestCharts:', error);\n",
              "          }\n",
              "          quickchartButtonEl.classList.remove('colab-df-spinner');\n",
              "          quickchartButtonEl.classList.add('colab-df-quickchart-complete');\n",
              "        }\n",
              "        (() => {\n",
              "          let quickchartButtonEl =\n",
              "            document.querySelector('#df-2381ab88-1723-4305-8b0c-5afbf1c0e03a button');\n",
              "          quickchartButtonEl.style.display =\n",
              "            google.colab.kernel.accessAllowed ? 'block' : 'none';\n",
              "        })();\n",
              "      </script>\n",
              "    </div>\n",
              "\n",
              "  <div id=\"id_92768feb-92c3-4329-830f-fa420c7b6655\">\n",
              "    <style>\n",
              "      .colab-df-generate {\n",
              "        background-color: #E8F0FE;\n",
              "        border: none;\n",
              "        border-radius: 50%;\n",
              "        cursor: pointer;\n",
              "        display: none;\n",
              "        fill: #1967D2;\n",
              "        height: 32px;\n",
              "        padding: 0 0 0 0;\n",
              "        width: 32px;\n",
              "      }\n",
              "\n",
              "      .colab-df-generate:hover {\n",
              "        background-color: #E2EBFA;\n",
              "        box-shadow: 0px 1px 2px rgba(60, 64, 67, 0.3), 0px 1px 3px 1px rgba(60, 64, 67, 0.15);\n",
              "        fill: #174EA6;\n",
              "      }\n",
              "\n",
              "      [theme=dark] .colab-df-generate {\n",
              "        background-color: #3B4455;\n",
              "        fill: #D2E3FC;\n",
              "      }\n",
              "\n",
              "      [theme=dark] .colab-df-generate:hover {\n",
              "        background-color: #434B5C;\n",
              "        box-shadow: 0px 1px 3px 1px rgba(0, 0, 0, 0.15);\n",
              "        filter: drop-shadow(0px 1px 2px rgba(0, 0, 0, 0.3));\n",
              "        fill: #FFFFFF;\n",
              "      }\n",
              "    </style>\n",
              "    <button class=\"colab-df-generate\" onclick=\"generateWithVariable('dataset')\"\n",
              "            title=\"Generate code using this dataframe.\"\n",
              "            style=\"display:none;\">\n",
              "\n",
              "  <svg xmlns=\"http://www.w3.org/2000/svg\" height=\"24px\"viewBox=\"0 0 24 24\"\n",
              "       width=\"24px\">\n",
              "    <path d=\"M7,19H8.4L18.45,9,17,7.55,7,17.6ZM5,21V16.75L18.45,3.32a2,2,0,0,1,2.83,0l1.4,1.43a1.91,1.91,0,0,1,.58,1.4,1.91,1.91,0,0,1-.58,1.4L9.25,21ZM18.45,9,17,7.55Zm-12,3A5.31,5.31,0,0,0,4.9,8.1,5.31,5.31,0,0,0,1,6.5,5.31,5.31,0,0,0,4.9,4.9,5.31,5.31,0,0,0,6.5,1,5.31,5.31,0,0,0,8.1,4.9,5.31,5.31,0,0,0,12,6.5,5.46,5.46,0,0,0,6.5,12Z\"/>\n",
              "  </svg>\n",
              "    </button>\n",
              "    <script>\n",
              "      (() => {\n",
              "      const buttonEl =\n",
              "        document.querySelector('#id_92768feb-92c3-4329-830f-fa420c7b6655 button.colab-df-generate');\n",
              "      buttonEl.style.display =\n",
              "        google.colab.kernel.accessAllowed ? 'block' : 'none';\n",
              "\n",
              "      buttonEl.onclick = () => {\n",
              "        google.colab.notebook.generateWithVariable('dataset');\n",
              "      }\n",
              "      })();\n",
              "    </script>\n",
              "  </div>\n",
              "\n",
              "    </div>\n",
              "  </div>\n"
            ],
            "application/vnd.google.colaboratory.intrinsic+json": {
              "type": "dataframe",
              "variable_name": "dataset",
              "summary": "{\n  \"name\": \"dataset\",\n  \"rows\": 12,\n  \"fields\": [\n    {\n      \"column\": \"15.26\",\n      \"properties\": {\n        \"dtype\": \"number\",\n        \"std\": 1.0866002024663903,\n        \"min\": 13.74,\n        \"max\": 16.63,\n        \"num_unique_values\": 12,\n        \"samples\": [\n          16.44,\n          16.63,\n          13.74\n        ],\n        \"semantic_type\": \"\",\n        \"description\": \"\"\n      }\n    },\n    {\n      \"column\": \"14.84\",\n      \"properties\": {\n        \"dtype\": \"number\",\n        \"std\": 0.5350693809444178,\n        \"min\": 13.94,\n        \"max\": 15.46,\n        \"num_unique_values\": 12,\n        \"samples\": [\n          15.25,\n          15.46,\n          14.05\n        ],\n        \"semantic_type\": \"\",\n        \"description\": \"\"\n      }\n    },\n    {\n      \"column\": \"0.871\",\n      \"properties\": {\n        \"dtype\": \"number\",\n        \"std\": 0.011842792847307694,\n        \"min\": 0.8696,\n        \"max\": 0.905,\n        \"num_unique_values\": 11,\n        \"samples\": [\n          0.8951,\n          0.8744,\n          0.8747\n        ],\n        \"semantic_type\": \"\",\n        \"description\": \"\"\n      }\n    },\n    {\n      \"column\": 5763,\n      \"properties\": {\n        \"dtype\": \"number\",\n        \"std\": 229,\n        \"min\": 5291,\n        \"max\": 6053,\n        \"num_unique_values\": 12,\n        \"samples\": [\n          5884,\n          6053,\n          5482\n        ],\n        \"semantic_type\": \"\",\n        \"description\": \"\"\n      }\n    },\n    {\n      \"column\": 3312,\n      \"properties\": {\n        \"dtype\": \"number\",\n        \"std\": 142,\n        \"min\": 3114,\n        \"max\": 3562,\n        \"num_unique_values\": 12,\n        \"samples\": [\n          3505,\n          3465,\n          3114\n        ],\n        \"semantic_type\": \"\",\n        \"description\": \"\"\n      }\n    },\n    {\n      \"column\": 2221,\n      \"properties\": {\n        \"dtype\": \"number\",\n        \"std\": 1257.9444503368713,\n        \"min\": 2.04,\n        \"max\": 4543.0,\n        \"num_unique_values\": 12,\n        \"samples\": [\n          1969.0,\n          2.04,\n          2932.0\n        ],\n        \"semantic_type\": \"\",\n        \"description\": \"\"\n      }\n    },\n    {\n      \"column\": \"5.22\",\n      \"properties\": {\n        \"dtype\": \"number\",\n        \"std\": 344,\n        \"min\": 4738,\n        \"max\": 5877,\n        \"num_unique_values\": 10,\n        \"samples\": [\n          5533,\n          4872,\n          4956\n        ],\n        \"semantic_type\": \"\",\n        \"description\": \"\"\n      }\n    },\n    {\n      \"column\": 1,\n      \"properties\": {\n        \"dtype\": \"number\",\n        \"std\": 0,\n        \"min\": 1,\n        \"max\": 1,\n        \"num_unique_values\": 1,\n        \"samples\": [\n          1\n        ],\n        \"semantic_type\": \"\",\n        \"description\": \"\"\n      }\n    }\n  ]\n}"
            }
          },
          "metadata": {},
          "execution_count": 57
        }
      ]
    },
    {
      "cell_type": "code",
      "source": [
        "dataset.to_csv('teste.csv', index= False) #exportando para csv, salvando ele sem índice"
      ],
      "metadata": {
        "id": "_pscPHnhXM1A"
      },
      "execution_count": 59,
      "outputs": []
    },
    {
      "cell_type": "code",
      "source": [
        "dataset.to_excel('teste.xlsx', sheet_name= \"testando\", index= False) #exportando para excel"
      ],
      "metadata": {
        "id": "ykDChFqDXbmr"
      },
      "execution_count": 60,
      "outputs": []
    }
  ]
}