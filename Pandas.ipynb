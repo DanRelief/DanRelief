{
  "nbformat": 4,
  "nbformat_minor": 0,
  "metadata": {
    "colab": {
      "provenance": [],
      "toc_visible": true,
      "include_colab_link": true
    },
    "kernelspec": {
      "name": "python3",
      "display_name": "Python 3"
    },
    "language_info": {
      "name": "python"
    }
  },
  "cells": [
    {
      "cell_type": "markdown",
      "metadata": {
        "id": "view-in-github",
        "colab_type": "text"
      },
      "source": [
        "<a href=\"https://colab.research.google.com/github/DanRelief/DanRelief/blob/main/Pandas.ipynb\" target=\"_parent\"><img src=\"https://colab.research.google.com/assets/colab-badge.svg\" alt=\"Open In Colab\"/></a>"
      ]
    },
    {
      "cell_type": "markdown",
      "source": [
        "# Instalação do Pandas"
      ],
      "metadata": {
        "id": "YNJ8OhnD8sCS"
      }
    },
    {
      "cell_type": "code",
      "source": [
        "!pip install pandas==1.5.3\n",
        "!pip install numpy==1.23.5\n"
      ],
      "metadata": {
        "colab": {
          "base_uri": "https://localhost:8080/"
        },
        "id": "5fPrdHLc98Dp",
        "outputId": "2505e886-0f8c-4124-eca1-193948134538"
      },
      "execution_count": null,
      "outputs": [
        {
          "output_type": "stream",
          "name": "stdout",
          "text": [
            "Requirement already satisfied: pandas==1.5.3 in /usr/local/lib/python3.11/dist-packages (1.5.3)\n",
            "Requirement already satisfied: python-dateutil>=2.8.1 in /usr/local/lib/python3.11/dist-packages (from pandas==1.5.3) (2.9.0.post0)\n",
            "Requirement already satisfied: pytz>=2020.1 in /usr/local/lib/python3.11/dist-packages (from pandas==1.5.3) (2025.2)\n",
            "Requirement already satisfied: numpy>=1.21.0 in /usr/local/lib/python3.11/dist-packages (from pandas==1.5.3) (1.23.5)\n",
            "Requirement already satisfied: six>=1.5 in /usr/local/lib/python3.11/dist-packages (from python-dateutil>=2.8.1->pandas==1.5.3) (1.17.0)\n",
            "Requirement already satisfied: numpy==1.23.5 in /usr/local/lib/python3.11/dist-packages (1.23.5)\n"
          ]
        }
      ]
    },
    {
      "cell_type": "code",
      "source": [
        "import pandas as pd\n",
        "import numpy as np\n",
        "print(pd.__version__)\n",
        "print(np.__version__)"
      ],
      "metadata": {
        "colab": {
          "base_uri": "https://localhost:8080/"
        },
        "id": "ZX2LhwVW-H8K",
        "outputId": "9fb1b738-1e90-4bc8-83fd-d73eade45e2b"
      },
      "execution_count": null,
      "outputs": [
        {
          "output_type": "stream",
          "name": "stdout",
          "text": [
            "1.5.3\n",
            "1.23.5\n"
          ]
        }
      ]
    },
    {
      "cell_type": "markdown",
      "source": [
        "# Séries\n",
        "\n",
        "- docs: https://drive.google.com/drive/folders/1gK4-GabfHK-EgjEeytTcSAna7TfotW0y"
      ],
      "metadata": {
        "id": "kxm-Lyyx9CxD"
      }
    },
    {
      "cell_type": "code",
      "source": [
        "serie_dados = pd.Series([10, 20, 30, 40, 50]) #cria uma série de dados\n",
        "print(serie_dados) #o pandas mostra o índice e o dado armazenado naquela posição"
      ],
      "metadata": {
        "colab": {
          "base_uri": "https://localhost:8080/"
        },
        "id": "qcvDOHYEBdCp",
        "outputId": "eaa68f2d-d524-4ed6-8308-0de0a40539f5"
      },
      "execution_count": null,
      "outputs": [
        {
          "output_type": "stream",
          "name": "stdout",
          "text": [
            "0    10\n",
            "1    20\n",
            "2    30\n",
            "3    40\n",
            "4    50\n",
            "dtype: int64\n"
          ]
        }
      ]
    },
    {
      "cell_type": "code",
      "source": [
        "#criando indices personalizados\n",
        "array_inteiros= [10,20,30,70,80]\n",
        "indices = ['A','B','C','D','E']\n",
        "serie_dados= pd.Series(array_inteiros, index=indices) #serie_dados recebe o array e o index recebe o valor de indices\n",
        "print(serie_dados)"
      ],
      "metadata": {
        "colab": {
          "base_uri": "https://localhost:8080/"
        },
        "id": "W2YsmUvJCLvp",
        "outputId": "0a36bcc2-f294-43e0-8a59-97d07189c649"
      },
      "execution_count": null,
      "outputs": [
        {
          "output_type": "stream",
          "name": "stdout",
          "text": [
            "A    10\n",
            "B    20\n",
            "C    30\n",
            "D    70\n",
            "E    80\n",
            "dtype: int64\n"
          ]
        }
      ]
    },
    {
      "cell_type": "code",
      "source": [
        "serie_dados.size #mostra o tamanho"
      ],
      "metadata": {
        "colab": {
          "base_uri": "https://localhost:8080/"
        },
        "id": "muAaB5YkD9l5",
        "outputId": "5d03f62a-6988-4851-f67f-9ec24e776064"
      },
      "execution_count": null,
      "outputs": [
        {
          "output_type": "execute_result",
          "data": {
            "text/plain": [
              "5"
            ]
          },
          "metadata": {},
          "execution_count": 7
        }
      ]
    },
    {
      "cell_type": "code",
      "source": [
        "serie_dados.ndim #mostra as dimensões"
      ],
      "metadata": {
        "colab": {
          "base_uri": "https://localhost:8080/"
        },
        "id": "HIBhaoOjEBXk",
        "outputId": "fd0d4206-19f0-406c-ed72-0fd4b16ad3cb"
      },
      "execution_count": null,
      "outputs": [
        {
          "output_type": "execute_result",
          "data": {
            "text/plain": [
              "1"
            ]
          },
          "metadata": {},
          "execution_count": 8
        }
      ]
    },
    {
      "cell_type": "code",
      "source": [
        "serie_dados.shape #mostra o formato (linha x coluna dos dados, no caso só há 5 linhas e 1 coluna)"
      ],
      "metadata": {
        "colab": {
          "base_uri": "https://localhost:8080/"
        },
        "id": "6C1Wy62lEOok",
        "outputId": "2c9dc3e8-f11a-42f0-e56f-3f126c3b5486"
      },
      "execution_count": null,
      "outputs": [
        {
          "output_type": "execute_result",
          "data": {
            "text/plain": [
              "(5,)"
            ]
          },
          "metadata": {},
          "execution_count": 9
        }
      ]
    },
    {
      "cell_type": "code",
      "source": [
        "np_array_inteiros= ([1,2,3,4,5]) #criando um arranjo usando o numpy\n",
        "print(np_array_inteiros)"
      ],
      "metadata": {
        "colab": {
          "base_uri": "https://localhost:8080/"
        },
        "id": "P7T_ZtkqEcub",
        "outputId": "842895f7-b2e5-4af0-a917-7e6c3de205a3"
      },
      "execution_count": null,
      "outputs": [
        {
          "output_type": "stream",
          "name": "stdout",
          "text": [
            "[1, 2, 3, 4, 5]\n"
          ]
        }
      ]
    },
    {
      "cell_type": "code",
      "source": [
        "serie_dados = pd.Series(array_inteiros) #transformando um dado numpy no formato pandas\n",
        "print(serie_dados)"
      ],
      "metadata": {
        "colab": {
          "base_uri": "https://localhost:8080/"
        },
        "id": "bfUoTaNQE2P5",
        "outputId": "b95e9703-10c8-4e6d-813d-8fd72a0fcfd0"
      },
      "execution_count": null,
      "outputs": [
        {
          "output_type": "stream",
          "name": "stdout",
          "text": [
            "0    10\n",
            "1    20\n",
            "2    30\n",
            "3    70\n",
            "4    80\n",
            "dtype: int64\n"
          ]
        }
      ]
    },
    {
      "cell_type": "code",
      "source": [
        "serie_dados.index = ['Z','X','Y','F','G'] #mudando os valores do index\n",
        "print(serie_dados)\n",
        "serie_dados[:]= [100,120,150,160,170] #atualizando os dados da série\n",
        "print(serie_dados)"
      ],
      "metadata": {
        "colab": {
          "base_uri": "https://localhost:8080/"
        },
        "id": "qOyAa2qGFUcn",
        "outputId": "5818d79d-e335-4ce4-e37c-e4f6b576d4cb"
      },
      "execution_count": null,
      "outputs": [
        {
          "output_type": "stream",
          "name": "stdout",
          "text": [
            "Z    10\n",
            "X    20\n",
            "Y    30\n",
            "F    70\n",
            "G    80\n",
            "dtype: int64\n",
            "Z    100\n",
            "X    120\n",
            "Y    150\n",
            "F    160\n",
            "G    170\n",
            "dtype: int64\n"
          ]
        }
      ]
    },
    {
      "cell_type": "markdown",
      "source": [
        "### Criação de séries"
      ],
      "metadata": {
        "id": "xWriVWQi9PhU"
      }
    },
    {
      "cell_type": "code",
      "source": [
        "import numpy as np\n",
        "#bloco vai gerar valores aleatórios\n",
        "valores = np.random.random(10)\n",
        "indexes= np.arange(0,10)\n",
        "\n",
        "print(valores)\n",
        "print(indexes)"
      ],
      "metadata": {
        "colab": {
          "base_uri": "https://localhost:8080/"
        },
        "id": "W4cDEB_EFFWx",
        "outputId": "6891bb5e-9534-4b3b-8f8b-edeca4078619"
      },
      "execution_count": 2,
      "outputs": [
        {
          "output_type": "stream",
          "name": "stdout",
          "text": [
            "[0.78663435 0.43638953 0.97893378 0.64756925 0.19095238 0.95116621\n",
            " 0.42863232 0.84009655 0.68119762 0.54206319]\n",
            "[0 1 2 3 4 5 6 7 8 9]\n"
          ]
        }
      ]
    },
    {
      "cell_type": "code",
      "source": [
        "import pandas as pd\n",
        "#mostrando o código acima só que em pandas\n",
        "serie_dados = pd.Series(valores, indexes)\n",
        "print(serie_dados)"
      ],
      "metadata": {
        "colab": {
          "base_uri": "https://localhost:8080/"
        },
        "id": "ww22z35NGZEh",
        "outputId": "77bf0fcf-3f47-46e7-ab38-7a0a8b3deafb"
      },
      "execution_count": 4,
      "outputs": [
        {
          "output_type": "stream",
          "name": "stdout",
          "text": [
            "0    0.786634\n",
            "1    0.436390\n",
            "2    0.978934\n",
            "3    0.647569\n",
            "4    0.190952\n",
            "5    0.951166\n",
            "6    0.428632\n",
            "7    0.840097\n",
            "8    0.681198\n",
            "9    0.542063\n",
            "dtype: float64\n"
          ]
        }
      ]
    },
    {
      "cell_type": "code",
      "source": [
        "dicionario= {'joão': 10, 'daniel': 20, 'eliza': 30}\n",
        "\n",
        "dicionario"
      ],
      "metadata": {
        "id": "sxjbuk4RRKBp",
        "outputId": "4dd7699c-1d31-41e2-f4be-439311d2e80f",
        "colab": {
          "base_uri": "https://localhost:8080/"
        }
      },
      "execution_count": 6,
      "outputs": [
        {
          "output_type": "execute_result",
          "data": {
            "text/plain": [
              "{'joão': 10, 'daniel': 20, 'eliza': 30}"
            ]
          },
          "metadata": {},
          "execution_count": 6
        }
      ]
    },
    {
      "cell_type": "code",
      "source": [
        "#fazendo um serie com esse dicionario\n",
        "dict_serie_dados = pd.Series(dicionario)\n",
        "print(dict_serie_dados)"
      ],
      "metadata": {
        "id": "r75MDFOJRUye",
        "outputId": "48d5a2df-74ff-48d0-b9d2-81f788a40562",
        "colab": {
          "base_uri": "https://localhost:8080/"
        }
      },
      "execution_count": 7,
      "outputs": [
        {
          "output_type": "stream",
          "name": "stdout",
          "text": [
            "joão      10\n",
            "daniel    20\n",
            "eliza     30\n",
            "dtype: int64\n"
          ]
        }
      ]
    },
    {
      "cell_type": "markdown",
      "source": [
        "## Fatiamento (slicing)"
      ],
      "metadata": {
        "id": "gjhhI5D09a7K"
      }
    },
    {
      "cell_type": "code",
      "source": [
        "serie_dados[:]"
      ],
      "metadata": {
        "id": "siXYJPvXUCZf",
        "outputId": "28453ec1-bc42-4bb9-c2b3-89e8ec536358",
        "colab": {
          "base_uri": "https://localhost:8080/",
          "height": 398
        }
      },
      "execution_count": 10,
      "outputs": [
        {
          "output_type": "execute_result",
          "data": {
            "text/plain": [
              "0    0.786634\n",
              "1    0.436390\n",
              "2    0.978934\n",
              "3    0.647569\n",
              "4    0.190952\n",
              "5    0.951166\n",
              "6    0.428632\n",
              "7    0.840097\n",
              "8    0.681198\n",
              "9    0.542063\n",
              "dtype: float64"
            ],
            "text/html": [
              "<div>\n",
              "<style scoped>\n",
              "    .dataframe tbody tr th:only-of-type {\n",
              "        vertical-align: middle;\n",
              "    }\n",
              "\n",
              "    .dataframe tbody tr th {\n",
              "        vertical-align: top;\n",
              "    }\n",
              "\n",
              "    .dataframe thead th {\n",
              "        text-align: right;\n",
              "    }\n",
              "</style>\n",
              "<table border=\"1\" class=\"dataframe\">\n",
              "  <thead>\n",
              "    <tr style=\"text-align: right;\">\n",
              "      <th></th>\n",
              "      <th>0</th>\n",
              "    </tr>\n",
              "  </thead>\n",
              "  <tbody>\n",
              "    <tr>\n",
              "      <th>0</th>\n",
              "      <td>0.786634</td>\n",
              "    </tr>\n",
              "    <tr>\n",
              "      <th>1</th>\n",
              "      <td>0.436390</td>\n",
              "    </tr>\n",
              "    <tr>\n",
              "      <th>2</th>\n",
              "      <td>0.978934</td>\n",
              "    </tr>\n",
              "    <tr>\n",
              "      <th>3</th>\n",
              "      <td>0.647569</td>\n",
              "    </tr>\n",
              "    <tr>\n",
              "      <th>4</th>\n",
              "      <td>0.190952</td>\n",
              "    </tr>\n",
              "    <tr>\n",
              "      <th>5</th>\n",
              "      <td>0.951166</td>\n",
              "    </tr>\n",
              "    <tr>\n",
              "      <th>6</th>\n",
              "      <td>0.428632</td>\n",
              "    </tr>\n",
              "    <tr>\n",
              "      <th>7</th>\n",
              "      <td>0.840097</td>\n",
              "    </tr>\n",
              "    <tr>\n",
              "      <th>8</th>\n",
              "      <td>0.681198</td>\n",
              "    </tr>\n",
              "    <tr>\n",
              "      <th>9</th>\n",
              "      <td>0.542063</td>\n",
              "    </tr>\n",
              "  </tbody>\n",
              "</table>\n",
              "</div><br><label><b>dtype:</b> float64</label>"
            ]
          },
          "metadata": {},
          "execution_count": 10
        }
      ]
    },
    {
      "cell_type": "code",
      "source": [
        "serie_dados[0:3]\n",
        "#repare que ele volta apenas do 0 ao 2"
      ],
      "metadata": {
        "id": "Lz2ZRxIcUIP_",
        "outputId": "3673f88c-600a-40b3-c260-d8fd8178c99c",
        "colab": {
          "base_uri": "https://localhost:8080/",
          "height": 178
        }
      },
      "execution_count": 11,
      "outputs": [
        {
          "output_type": "execute_result",
          "data": {
            "text/plain": [
              "0    0.786634\n",
              "1    0.436390\n",
              "2    0.978934\n",
              "dtype: float64"
            ],
            "text/html": [
              "<div>\n",
              "<style scoped>\n",
              "    .dataframe tbody tr th:only-of-type {\n",
              "        vertical-align: middle;\n",
              "    }\n",
              "\n",
              "    .dataframe tbody tr th {\n",
              "        vertical-align: top;\n",
              "    }\n",
              "\n",
              "    .dataframe thead th {\n",
              "        text-align: right;\n",
              "    }\n",
              "</style>\n",
              "<table border=\"1\" class=\"dataframe\">\n",
              "  <thead>\n",
              "    <tr style=\"text-align: right;\">\n",
              "      <th></th>\n",
              "      <th>0</th>\n",
              "    </tr>\n",
              "  </thead>\n",
              "  <tbody>\n",
              "    <tr>\n",
              "      <th>0</th>\n",
              "      <td>0.786634</td>\n",
              "    </tr>\n",
              "    <tr>\n",
              "      <th>1</th>\n",
              "      <td>0.436390</td>\n",
              "    </tr>\n",
              "    <tr>\n",
              "      <th>2</th>\n",
              "      <td>0.978934</td>\n",
              "    </tr>\n",
              "  </tbody>\n",
              "</table>\n",
              "</div><br><label><b>dtype:</b> float64</label>"
            ]
          },
          "metadata": {},
          "execution_count": 11
        }
      ]
    },
    {
      "cell_type": "code",
      "source": [
        "#mostra o último valor da lista\n",
        "serie_dados[-1:]"
      ],
      "metadata": {
        "id": "PU1UyV0CUtZu",
        "outputId": "11338985-cd02-4a3c-86c1-22d0734ee4fd",
        "colab": {
          "base_uri": "https://localhost:8080/",
          "height": 115
        }
      },
      "execution_count": 12,
      "outputs": [
        {
          "output_type": "execute_result",
          "data": {
            "text/plain": [
              "9    0.542063\n",
              "dtype: float64"
            ],
            "text/html": [
              "<div>\n",
              "<style scoped>\n",
              "    .dataframe tbody tr th:only-of-type {\n",
              "        vertical-align: middle;\n",
              "    }\n",
              "\n",
              "    .dataframe tbody tr th {\n",
              "        vertical-align: top;\n",
              "    }\n",
              "\n",
              "    .dataframe thead th {\n",
              "        text-align: right;\n",
              "    }\n",
              "</style>\n",
              "<table border=\"1\" class=\"dataframe\">\n",
              "  <thead>\n",
              "    <tr style=\"text-align: right;\">\n",
              "      <th></th>\n",
              "      <th>0</th>\n",
              "    </tr>\n",
              "  </thead>\n",
              "  <tbody>\n",
              "    <tr>\n",
              "      <th>9</th>\n",
              "      <td>0.542063</td>\n",
              "    </tr>\n",
              "  </tbody>\n",
              "</table>\n",
              "</div><br><label><b>dtype:</b> float64</label>"
            ]
          },
          "metadata": {},
          "execution_count": 12
        }
      ]
    },
    {
      "cell_type": "code",
      "source": [
        "#adicionando elementos a uma variável\n",
        "S1= serie_dados[0:3]\n",
        "S1"
      ],
      "metadata": {
        "id": "deM-h1bzVsty",
        "outputId": "bbca5b6e-4354-49fd-ba09-cee2af45f38f",
        "colab": {
          "base_uri": "https://localhost:8080/",
          "height": 178
        }
      },
      "execution_count": 15,
      "outputs": [
        {
          "output_type": "execute_result",
          "data": {
            "text/plain": [
              "0    0.786634\n",
              "1    0.436390\n",
              "2    0.978934\n",
              "dtype: float64"
            ],
            "text/html": [
              "<div>\n",
              "<style scoped>\n",
              "    .dataframe tbody tr th:only-of-type {\n",
              "        vertical-align: middle;\n",
              "    }\n",
              "\n",
              "    .dataframe tbody tr th {\n",
              "        vertical-align: top;\n",
              "    }\n",
              "\n",
              "    .dataframe thead th {\n",
              "        text-align: right;\n",
              "    }\n",
              "</style>\n",
              "<table border=\"1\" class=\"dataframe\">\n",
              "  <thead>\n",
              "    <tr style=\"text-align: right;\">\n",
              "      <th></th>\n",
              "      <th>0</th>\n",
              "    </tr>\n",
              "  </thead>\n",
              "  <tbody>\n",
              "    <tr>\n",
              "      <th>0</th>\n",
              "      <td>0.786634</td>\n",
              "    </tr>\n",
              "    <tr>\n",
              "      <th>1</th>\n",
              "      <td>0.436390</td>\n",
              "    </tr>\n",
              "    <tr>\n",
              "      <th>2</th>\n",
              "      <td>0.978934</td>\n",
              "    </tr>\n",
              "  </tbody>\n",
              "</table>\n",
              "</div><br><label><b>dtype:</b> float64</label>"
            ]
          },
          "metadata": {},
          "execution_count": 15
        }
      ]
    },
    {
      "cell_type": "markdown",
      "source": [
        "##Cópia, conversão e concatenação"
      ],
      "metadata": {
        "id": "zfaLSZKx9fE7"
      }
    }
  ]
}