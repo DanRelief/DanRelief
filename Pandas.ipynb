{
  "nbformat": 4,
  "nbformat_minor": 0,
  "metadata": {
    "colab": {
      "provenance": [],
      "include_colab_link": true
    },
    "kernelspec": {
      "name": "python3",
      "display_name": "Python 3"
    },
    "language_info": {
      "name": "python"
    }
  },
  "cells": [
    {
      "cell_type": "markdown",
      "metadata": {
        "id": "view-in-github",
        "colab_type": "text"
      },
      "source": [
        "<a href=\"https://colab.research.google.com/github/DanRelief/DanRelief/blob/main/Pandas.ipynb\" target=\"_parent\"><img src=\"https://colab.research.google.com/assets/colab-badge.svg\" alt=\"Open In Colab\"/></a>"
      ]
    },
    {
      "cell_type": "markdown",
      "source": [
        "# Instalação do Pandas"
      ],
      "metadata": {
        "id": "YNJ8OhnD8sCS"
      }
    },
    {
      "cell_type": "code",
      "source": [
        "!pip install pandas==1.5.3\n",
        "!pip install numpy==1.23.5\n"
      ],
      "metadata": {
        "colab": {
          "base_uri": "https://localhost:8080/"
        },
        "id": "5fPrdHLc98Dp",
        "outputId": "3c5bffa7-4e60-4d4b-8abb-d8f7147e7806"
      },
      "execution_count": 10,
      "outputs": [
        {
          "output_type": "stream",
          "name": "stdout",
          "text": [
            "Requirement already satisfied: pandas==1.5.3 in /usr/local/lib/python3.11/dist-packages (1.5.3)\n",
            "Requirement already satisfied: python-dateutil>=2.8.1 in /usr/local/lib/python3.11/dist-packages (from pandas==1.5.3) (2.9.0.post0)\n",
            "Requirement already satisfied: pytz>=2020.1 in /usr/local/lib/python3.11/dist-packages (from pandas==1.5.3) (2025.2)\n",
            "Requirement already satisfied: numpy>=1.21.0 in /usr/local/lib/python3.11/dist-packages (from pandas==1.5.3) (1.23.5)\n",
            "Requirement already satisfied: six>=1.5 in /usr/local/lib/python3.11/dist-packages (from python-dateutil>=2.8.1->pandas==1.5.3) (1.17.0)\n",
            "Requirement already satisfied: numpy==1.23.5 in /usr/local/lib/python3.11/dist-packages (1.23.5)\n"
          ]
        }
      ]
    },
    {
      "cell_type": "code",
      "source": [
        "import pandas as pd\n",
        "import numpy as np\n",
        "print(pd.__version__)\n",
        "print(np.__version__)"
      ],
      "metadata": {
        "colab": {
          "base_uri": "https://localhost:8080/",
          "height": 108
        },
        "id": "ZX2LhwVW-H8K",
        "outputId": "26fdb073-1901-4890-a348-1825d5fb4848"
      },
      "execution_count": 13,
      "outputs": [
        {
          "output_type": "error",
          "ename": "SyntaxError",
          "evalue": "invalid syntax (<ipython-input-13-2048196582>, line 1)",
          "traceback": [
            "\u001b[0;36m  File \u001b[0;32m\"<ipython-input-13-2048196582>\"\u001b[0;36m, line \u001b[0;32m1\u001b[0m\n\u001b[0;31m    pip install --upgrade numpy pandas\u001b[0m\n\u001b[0m        ^\u001b[0m\n\u001b[0;31mSyntaxError\u001b[0m\u001b[0;31m:\u001b[0m invalid syntax\n"
          ]
        }
      ]
    },
    {
      "cell_type": "markdown",
      "source": [
        "# Séries\n",
        "\n",
        "- docs: https://drive.google.com/drive/folders/1gK4-GabfHK-EgjEeytTcSAna7TfotW0y"
      ],
      "metadata": {
        "id": "kxm-Lyyx9CxD"
      }
    },
    {
      "cell_type": "code",
      "source": [
        "serie_dados = pd.Series([10, 20, 30, 40, 50]) #cria uma série de dados\n",
        "print(serie_dados) #o pandas mostra o índice e o dado armazenado naquela posição"
      ],
      "metadata": {
        "id": "qcvDOHYEBdCp"
      },
      "execution_count": null,
      "outputs": []
    },
    {
      "cell_type": "code",
      "source": [
        "#criando indices personalizados\n",
        "array_inteiros= [10,20,30,70,80]\n",
        "indices = ['A','B','C','D','E']\n",
        "serie_dados= pd.Series(array_inteiros, index=indices) #serie_dados recebe o array e o index recebe o valor de indices\n",
        "print(serie_dados)"
      ],
      "metadata": {
        "id": "W2YsmUvJCLvp"
      },
      "execution_count": null,
      "outputs": []
    },
    {
      "cell_type": "code",
      "source": [
        "serie_dados.size #mostra o tamanho"
      ],
      "metadata": {
        "id": "muAaB5YkD9l5"
      },
      "execution_count": null,
      "outputs": []
    },
    {
      "cell_type": "code",
      "source": [
        "serie_dados.ndim #mostra as dimensões"
      ],
      "metadata": {
        "id": "HIBhaoOjEBXk"
      },
      "execution_count": null,
      "outputs": []
    },
    {
      "cell_type": "code",
      "source": [
        "serie_dados.shape #mostra o formato (linha x coluna dos dados, no caso só há 5 linhas e 1 coluna)"
      ],
      "metadata": {
        "id": "6C1Wy62lEOok"
      },
      "execution_count": null,
      "outputs": []
    },
    {
      "cell_type": "code",
      "source": [
        "np_array_inteiros= ([1,2,3,4,5]) #criando um arranjo usando o numpy\n",
        "print(np_array_inteiros)"
      ],
      "metadata": {
        "id": "P7T_ZtkqEcub"
      },
      "execution_count": null,
      "outputs": []
    },
    {
      "cell_type": "code",
      "source": [
        "serie_dados = pd.Series(array_inteiros) #transformando um dado numpy no formato pandas\n",
        "print(serie_dados)"
      ],
      "metadata": {
        "id": "bfUoTaNQE2P5"
      },
      "execution_count": null,
      "outputs": []
    },
    {
      "cell_type": "code",
      "source": [
        "serie_dados.index = ['Z','X','Y','F','G'] #mudando os valores do index\n",
        "print(serie_dados)\n",
        "serie_dados[:]= [100,120,150,160,170] #atualizando os dados da série\n",
        "print(serie_dados)"
      ],
      "metadata": {
        "id": "qOyAa2qGFUcn"
      },
      "execution_count": null,
      "outputs": []
    },
    {
      "cell_type": "markdown",
      "source": [
        "### Criação de séries"
      ],
      "metadata": {
        "id": "xWriVWQi9PhU"
      }
    },
    {
      "cell_type": "code",
      "source": [
        "import numpy as np\n",
        "#bloco vai gerar valores aleatórios\n",
        "valores = np.random.random(10)\n",
        "indexes= np.arange(0,10)\n",
        "\n",
        "print(valores)\n",
        "print(indexes)"
      ],
      "metadata": {
        "id": "W4cDEB_EFFWx"
      },
      "execution_count": null,
      "outputs": []
    },
    {
      "cell_type": "code",
      "source": [
        "import pandas as pd\n",
        "#mostrando o código acima só que em pandas\n",
        "serie_dados = pd.Series(valores, indexes)\n",
        "print(serie_dados)"
      ],
      "metadata": {
        "id": "ww22z35NGZEh"
      },
      "execution_count": null,
      "outputs": []
    },
    {
      "cell_type": "code",
      "source": [
        "dicionario= {'joão': 10, 'daniel': 20, 'eliza': 30}\n",
        "\n",
        "dicionario"
      ],
      "metadata": {
        "id": "sxjbuk4RRKBp"
      },
      "execution_count": null,
      "outputs": []
    },
    {
      "cell_type": "code",
      "source": [
        "#fazendo um serie com esse dicionario\n",
        "dict_serie_dados = pd.Series(dicionario)\n",
        "print(dict_serie_dados)"
      ],
      "metadata": {
        "id": "r75MDFOJRUye"
      },
      "execution_count": null,
      "outputs": []
    },
    {
      "cell_type": "markdown",
      "source": [
        "## Fatiamento (slicing)"
      ],
      "metadata": {
        "id": "gjhhI5D09a7K"
      }
    },
    {
      "cell_type": "code",
      "source": [
        "serie_dados[:]"
      ],
      "metadata": {
        "id": "siXYJPvXUCZf"
      },
      "execution_count": null,
      "outputs": []
    },
    {
      "cell_type": "code",
      "source": [
        "serie_dados[0:3]\n",
        "#repare que ele volta apenas do 0 ao 2"
      ],
      "metadata": {
        "id": "Lz2ZRxIcUIP_"
      },
      "execution_count": null,
      "outputs": []
    },
    {
      "cell_type": "code",
      "source": [
        "#mostra o último valor da lista\n",
        "serie_dados[-1:]"
      ],
      "metadata": {
        "id": "PU1UyV0CUtZu"
      },
      "execution_count": null,
      "outputs": []
    },
    {
      "cell_type": "code",
      "source": [
        "#adicionando elementos a uma variável\n",
        "S1= serie_dados[0:3]\n",
        "S1"
      ],
      "metadata": {
        "id": "deM-h1bzVsty"
      },
      "execution_count": null,
      "outputs": []
    },
    {
      "cell_type": "markdown",
      "source": [
        "##Cópia, conversão e concatenação"
      ],
      "metadata": {
        "id": "zfaLSZKx9fE7"
      }
    },
    {
      "cell_type": "code",
      "source": [
        "#fazendo uma cópia de dados\n",
        "import pandas as pd\n",
        "serie_dados = pd.Series([10, 20, 30, 40, 50])\n",
        "\n",
        "serie_dados2= serie_dados.copy()\n",
        "serie_dados2"
      ],
      "metadata": {
        "id": "MJCRJ_WyVdFL"
      },
      "execution_count": null,
      "outputs": []
    },
    {
      "cell_type": "code",
      "source": [
        "#convertendo valores de inteiro para float\n",
        "serie_dados2.astype(float)"
      ],
      "metadata": {
        "id": "_ja2xihlVyLa"
      },
      "execution_count": null,
      "outputs": []
    },
    {
      "cell_type": "code",
      "source": [
        "#fazendo a concatenação\n",
        "#criando o primeiro dicionario\n",
        "dados_novos= {'Daniel': 10,'Rodrigo': 20}\n",
        "serie_dados3= pd.Series(dados_novos)\n",
        "serie_dados3\n",
        "\n",
        "#criando o segundo dicionario\n",
        "dict_dados= {'Rodolfo': 30, 'João': 50}\n",
        "serie_dados4= pd.Series(dict_dados)\n",
        "serie_dados4\n",
        "\n",
        "#juntando os dois\n",
        "serie_dados5= pd.concat([serie_dados3, serie_dados4])\n",
        "serie_dados5"
      ],
      "metadata": {
        "id": "z5eLR_NtWK-1"
      },
      "execution_count": null,
      "outputs": []
    },
    {
      "cell_type": "markdown",
      "source": [
        "### Acessando dados com ILOC\n",
        "- Acessar elementos pelo índice"
      ],
      "metadata": {
        "id": "jm3Q2jzCX12K"
      }
    },
    {
      "cell_type": "code",
      "source": [
        "import pandas as pd\n",
        "import numpy as np\n",
        "#importando arquivos. Basta clicar na pasta ao lado e no ícone de upload\n",
        "dataset= pd.read_csv('census.csv')\n",
        "dataset"
      ],
      "metadata": {
        "id": "6RnwPC1SYCya"
      },
      "execution_count": null,
      "outputs": []
    },
    {
      "cell_type": "code",
      "source": [
        "#filtrando conteúdo da tabela\n",
        "serie_idade= dataset['age']\n",
        "serie_idade"
      ],
      "metadata": {
        "id": "bZXKqSvcbAM7"
      },
      "execution_count": null,
      "outputs": []
    },
    {
      "cell_type": "code",
      "source": [
        "#mostrando apenas os primeiros 10 elementos\n",
        "serie_idade.head(10)"
      ],
      "metadata": {
        "id": "2KlGtlTFbmUK"
      },
      "execution_count": null,
      "outputs": []
    },
    {
      "cell_type": "code",
      "source": [
        "#utilizando iloc para retornar elementos pelo índice\n",
        "serie_idade.iloc[3]\n"
      ],
      "metadata": {
        "id": "F0jlLWTBcEoa"
      },
      "execution_count": null,
      "outputs": []
    },
    {
      "cell_type": "code",
      "source": [
        "#retornando o último elemento\n",
        "serie_idade.iloc[-1]"
      ],
      "metadata": {
        "id": "CRCkIOxFcmEC"
      },
      "execution_count": null,
      "outputs": []
    },
    {
      "cell_type": "code",
      "source": [
        "#intervalo de índices\n",
        "serie_idade.iloc[0:5]"
      ],
      "metadata": {
        "id": "htSF--p4dadz"
      },
      "execution_count": null,
      "outputs": []
    },
    {
      "cell_type": "code",
      "source": [
        "#índices específicos\n",
        "serie_idade.iloc[[0,2,4]]"
      ],
      "metadata": {
        "id": "a2XZvHpXdgaT"
      },
      "execution_count": null,
      "outputs": []
    },
    {
      "cell_type": "code",
      "source": [
        "lista_idade= []\n",
        "for i in serie_idade.items():\n",
        "  #print(i[0], i[1]) onde i[0] são índicies e i[1] são elementos\n",
        "\n",
        "  #se o elemento (idade) for maior que 50\n",
        "  if i[1] > 50:\n",
        "    lista_idade.append(i[0])\n",
        "\n",
        "print(lista_idade)"
      ],
      "metadata": {
        "id": "_Vvvf0LTeYO6"
      },
      "execution_count": null,
      "outputs": []
    },
    {
      "cell_type": "code",
      "source": [
        "!pip install Faker #instala dados falsos"
      ],
      "metadata": {
        "id": "44Op56_VzR32"
      },
      "execution_count": null,
      "outputs": []
    },
    {
      "cell_type": "code",
      "source": [
        "from faker import Faker\n",
        "fake = Faker()\n",
        "fake.name()"
      ],
      "metadata": {
        "id": "xwQFBnS8z3da"
      },
      "execution_count": null,
      "outputs": []
    },
    {
      "cell_type": "code",
      "source": [
        "indices_nome = []\n",
        "for _ in range(32561) :\n",
        "  indices_nome.append(fake.name())"
      ],
      "metadata": {
        "id": "AEk4ZzeBz8sa"
      },
      "execution_count": null,
      "outputs": []
    },
    {
      "cell_type": "code",
      "source": [
        "type(indices_nome), len(indices_nome) #gerando uma lista"
      ],
      "metadata": {
        "id": "emw72owq20I2"
      },
      "execution_count": null,
      "outputs": []
    },
    {
      "cell_type": "code",
      "source": [
        "indices_nome[0:10] #mostrando 10 nomes"
      ],
      "metadata": {
        "id": "v9SW9bGh3oir"
      },
      "execution_count": null,
      "outputs": []
    },
    {
      "cell_type": "code",
      "source": [
        "serie_idade_nome= pd.Series(np.array(dataset['age']), index = indices_nome)\n",
        "serie_idade_nome"
      ],
      "metadata": {
        "id": "OCwnXC2D4Gq4"
      },
      "execution_count": null,
      "outputs": []
    },
    {
      "cell_type": "code",
      "source": [
        "serie_idade_nome[\"Stephanie Garcia\"] #volta a respectiva idade\n"
      ],
      "metadata": {
        "id": "T_Gorv5C4Xoy"
      },
      "execution_count": null,
      "outputs": []
    },
    {
      "cell_type": "code",
      "source": [
        "serie_idade_nome2= serie_idade_nome.drop_duplicates() #apaga os nomes que são iguais\n",
        "serie_idade_nome2.size\n",
        "serie_idade_nome2"
      ],
      "metadata": {
        "id": "lQWWLFSm6NNJ"
      },
      "execution_count": null,
      "outputs": []
    },
    {
      "cell_type": "code",
      "source": [
        "serie_idade_nome2[\"Stephanie Garcia\":\"Louis Williams\"] #mostrando nomes em um intervalo"
      ],
      "metadata": {
        "id": "J7kJmG346vfY"
      },
      "execution_count": null,
      "outputs": []
    },
    {
      "cell_type": "code",
      "source": [
        "serie_idade_nome2.loc[[\"Aaron Hernandez\",\"Hannah Perez\"]] #agora só mostra essas duas pessoas"
      ],
      "metadata": {
        "id": "EtpmfNlA7iF0"
      },
      "execution_count": null,
      "outputs": []
    },
    {
      "cell_type": "code",
      "source": [
        "serie_idade_nome3= serie_idade_nome2.copy() #copiando valores para outra variável\n",
        "serie_idade_nome3"
      ],
      "metadata": {
        "id": "uye4u2JU70Np"
      },
      "execution_count": null,
      "outputs": []
    },
    {
      "cell_type": "code",
      "source": [
        "serie_idade_nome3.reset_index(drop= True, inplace = True) #reseta os indices\n",
        "serie_idade_nome3"
      ],
      "metadata": {
        "id": "PTD7hfmc8RSg"
      },
      "execution_count": null,
      "outputs": []
    },
    {
      "cell_type": "code",
      "source": [
        "serie_idade_nome2.index #retorna apenas os nomes das pessoas"
      ],
      "metadata": {
        "id": "_aIdTZlK-oXh"
      },
      "execution_count": null,
      "outputs": []
    },
    {
      "cell_type": "markdown",
      "source": [
        "### Ordenação"
      ],
      "metadata": {
        "id": "-DHdvhP4_mHQ"
      }
    },
    {
      "cell_type": "code",
      "source": [
        "serie_idade_nome.sort_values() #serie será ordenada pelos valores"
      ],
      "metadata": {
        "id": "GBi0QxqO_puY"
      },
      "execution_count": null,
      "outputs": []
    },
    {
      "cell_type": "code",
      "source": [
        "serie_idade_nome.sort_values(ascending= False) #serie será ordenada pelos valores em ordem decrescente"
      ],
      "metadata": {
        "id": "RWrBKYfO_28T"
      },
      "execution_count": null,
      "outputs": []
    },
    {
      "cell_type": "code",
      "source": [
        "serie_idade_nome.sort_index(ascending = True) #será ordenado em ordem alfabética"
      ],
      "metadata": {
        "id": "rzfrn7WJAM8p"
      },
      "execution_count": null,
      "outputs": []
    },
    {
      "cell_type": "code",
      "source": [
        "sr= serie_idade_nome.sort_values(ascending = False).iloc[0:11] #gerando um novo dataframe filtrando as pessoas de maior idade\n",
        "sr"
      ],
      "metadata": {
        "id": "sWRObcNVAmGz"
      },
      "execution_count": null,
      "outputs": []
    },
    {
      "cell_type": "markdown",
      "source": [
        "### Contagem"
      ],
      "metadata": {
        "id": "CzVjIAKcBDAx"
      }
    },
    {
      "cell_type": "code",
      "source": [
        "serie_idade_nome.size"
      ],
      "metadata": {
        "id": "5u-p_DCvA64p"
      },
      "execution_count": null,
      "outputs": []
    },
    {
      "cell_type": "code",
      "source": [
        "serie_idade_nome.value_counts() #conta quantas pessoas tem a mesma idade. idade disposta na esquerda e quantidade de pessoas com essa idade na direita"
      ],
      "metadata": {
        "id": "_1Ip-DyRBIiv"
      },
      "execution_count": null,
      "outputs": []
    },
    {
      "cell_type": "code",
      "source": [
        "serie_idade_nome.value_counts(normalize= True)*100 #mostra as idades em porcentagem"
      ],
      "metadata": {
        "id": "GyYihWxCBpq4"
      },
      "execution_count": null,
      "outputs": []
    },
    {
      "cell_type": "code",
      "source": [
        "serie_idade_nome.value_counts(bins = 10) #dividindo em faixa etária"
      ],
      "metadata": {
        "id": "gPZBaNvgCDrR"
      },
      "execution_count": null,
      "outputs": []
    },
    {
      "cell_type": "markdown",
      "source": [
        "#### Filtros"
      ],
      "metadata": {
        "id": "bswqQrs6XOAT"
      }
    },
    {
      "cell_type": "code",
      "source": [
        "fake.country()"
      ],
      "metadata": {
        "id": "YlEZqqmWXQMR"
      },
      "execution_count": null,
      "outputs": []
    },
    {
      "cell_type": "code",
      "source": [
        "indices_pais = []\n",
        "for _ in range(32561) :\n",
        "  indices_pais.append(fake.country())"
      ],
      "metadata": {
        "id": "yshC5Ilj_cnH"
      },
      "execution_count": null,
      "outputs": []
    },
    {
      "cell_type": "code",
      "source": [
        "indices_pais[0:11] #indice dos países"
      ],
      "metadata": {
        "id": "lEIdOtpC_mEJ"
      },
      "execution_count": null,
      "outputs": []
    },
    {
      "cell_type": "code",
      "source": [
        "serie_país = pd.Series(np.array(dataset['age']), index = indices_pais)\n",
        "serie_país #listando países com idades"
      ],
      "metadata": {
        "id": "0feqNX8tcV4U"
      },
      "execution_count": null,
      "outputs": []
    },
    {
      "cell_type": "code",
      "source": [
        "serie_país.loc[serie_país>50] #filtra os que estão acima de 50"
      ],
      "metadata": {
        "id": "kcA1ATMvd64u"
      },
      "execution_count": null,
      "outputs": []
    },
    {
      "cell_type": "code",
      "source": [
        "serie_país.loc[(serie_país>50) & (serie_país.index==\"India\")] #filtra os maiores de 50 e da India"
      ],
      "metadata": {
        "id": "R2CXlalvev1s"
      },
      "execution_count": null,
      "outputs": []
    },
    {
      "cell_type": "code",
      "source": [
        "serie_país.index.isin([\"India\", \"Brazil\"]) #true quando é india ou brasil, false quando não é"
      ],
      "metadata": {
        "id": "uUuygX9YfDsb"
      },
      "execution_count": null,
      "outputs": []
    },
    {
      "cell_type": "markdown",
      "source": [
        "### Operações Matemáticas"
      ],
      "metadata": {
        "id": "-EALASDKfoJ_"
      }
    },
    {
      "cell_type": "code",
      "source": [
        "serie_pais +2 #adiciona 2 em cada valor"
      ],
      "metadata": {
        "id": "OeC_TogVfrhb"
      },
      "execution_count": null,
      "outputs": []
    },
    {
      "cell_type": "code",
      "source": [
        "serie_país.mul(2) #multiplica por 2"
      ],
      "metadata": {
        "id": "yfdUB5ybgCeq"
      },
      "execution_count": null,
      "outputs": []
    },
    {
      "cell_type": "code",
      "source": [
        "s1= pd.Series([20,30,40])\n",
        "s2= pd.Series([10,20,30])\n",
        "s1, s2"
      ],
      "metadata": {
        "collapsed": true,
        "id": "FUgO7JotgNLC",
        "outputId": "ef435c86-7829-495e-854d-af1dd65e34cd",
        "colab": {
          "base_uri": "https://localhost:8080/",
          "height": 180
        }
      },
      "execution_count": 14,
      "outputs": [
        {
          "output_type": "error",
          "ename": "NameError",
          "evalue": "name 'pd' is not defined",
          "traceback": [
            "\u001b[0;31m---------------------------------------------------------------------------\u001b[0m",
            "\u001b[0;31mNameError\u001b[0m                                 Traceback (most recent call last)",
            "\u001b[0;32m<ipython-input-14-3882426949>\u001b[0m in \u001b[0;36m<cell line: 0>\u001b[0;34m()\u001b[0m\n\u001b[0;32m----> 1\u001b[0;31m \u001b[0ms1\u001b[0m\u001b[0;34m=\u001b[0m \u001b[0mpd\u001b[0m\u001b[0;34m.\u001b[0m\u001b[0mSeries\u001b[0m\u001b[0;34m(\u001b[0m\u001b[0;34m[\u001b[0m\u001b[0;36m20\u001b[0m\u001b[0;34m,\u001b[0m\u001b[0;36m30\u001b[0m\u001b[0;34m,\u001b[0m\u001b[0;36m40\u001b[0m\u001b[0;34m]\u001b[0m\u001b[0;34m)\u001b[0m\u001b[0;34m\u001b[0m\u001b[0;34m\u001b[0m\u001b[0m\n\u001b[0m\u001b[1;32m      2\u001b[0m \u001b[0ms2\u001b[0m\u001b[0;34m=\u001b[0m \u001b[0mpd\u001b[0m\u001b[0;34m.\u001b[0m\u001b[0mSeries\u001b[0m\u001b[0;34m(\u001b[0m\u001b[0;34m[\u001b[0m\u001b[0;36m10\u001b[0m\u001b[0;34m,\u001b[0m\u001b[0;36m20\u001b[0m\u001b[0;34m,\u001b[0m\u001b[0;36m30\u001b[0m\u001b[0;34m]\u001b[0m\u001b[0;34m)\u001b[0m\u001b[0;34m\u001b[0m\u001b[0;34m\u001b[0m\u001b[0m\n\u001b[1;32m      3\u001b[0m \u001b[0ms1\u001b[0m\u001b[0;34m,\u001b[0m \u001b[0ms2\u001b[0m\u001b[0;34m\u001b[0m\u001b[0;34m\u001b[0m\u001b[0m\n",
            "\u001b[0;31mNameError\u001b[0m: name 'pd' is not defined"
          ]
        }
      ]
    },
    {
      "cell_type": "code",
      "source": [
        "s1.add(s2) #soma os valores das séries"
      ],
      "metadata": {
        "id": "MGhJvOuxgaGa"
      },
      "execution_count": null,
      "outputs": []
    },
    {
      "cell_type": "code",
      "source": [
        "s1.mul(s2) #multiplica os valores das séries"
      ],
      "metadata": {
        "id": "c2m4cCisgmxC"
      },
      "execution_count": null,
      "outputs": []
    },
    {
      "cell_type": "code",
      "source": [
        "s1.div(s2) #divide os valores das séries"
      ],
      "metadata": {
        "id": "h42FPqrKgozL"
      },
      "execution_count": null,
      "outputs": []
    },
    {
      "cell_type": "markdown",
      "source": [
        "#### Operações com strings"
      ],
      "metadata": {
        "id": "4-7GE2LOg9tg"
      }
    },
    {
      "cell_type": "code",
      "source": [
        "serie_pais_index= serie_país.index.to_series() #passa os países como índice\n",
        "serie_pais_index.reset_index(drop= True, inplace = True) #apagando os nomes dos países para que se tornem números\n",
        "serie_pais_index"
      ],
      "metadata": {
        "id": "AqCVXNEHhA0T"
      },
      "execution_count": null,
      "outputs": []
    },
    {
      "cell_type": "code",
      "source": [
        "serie_pais_index.str.contains(\"tse\") #coloca como true quem tem essas letras no nome"
      ],
      "metadata": {
        "id": "pq9qpt4Pht2y"
      },
      "execution_count": null,
      "outputs": []
    },
    {
      "cell_type": "code",
      "source": [
        "serie_pais_index.str.upper() #deixa todos os nomes em capslock"
      ],
      "metadata": {
        "id": "nUV50iO6iBoF"
      },
      "execution_count": null,
      "outputs": []
    },
    {
      "cell_type": "code",
      "source": [
        "series_pais_index.str.lower() #deixa em minúsculo"
      ],
      "metadata": {
        "id": "OFCmF9coiKvc"
      },
      "execution_count": null,
      "outputs": []
    },
    {
      "cell_type": "code",
      "source": [
        "serie_pais_index.str.strip(\"Libyan\") #remove um nome desejado"
      ],
      "metadata": {
        "id": "Z495m5hXicWs"
      },
      "execution_count": null,
      "outputs": []
    },
    {
      "cell_type": "code",
      "source": [
        "serie_pais_index.str.split(' ', expand=True) #separando as palavras em colunas diferentes"
      ],
      "metadata": {
        "id": "oGx7aSQIitYy"
      },
      "execution_count": null,
      "outputs": []
    },
    {
      "cell_type": "code",
      "source": [
        "serie_pais_index.str[0:5] #retorna os primeiros 5 caracteres de cada palavra"
      ],
      "metadata": {
        "id": "xfW1Pnx8i61E"
      },
      "execution_count": null,
      "outputs": []
    }
  ]
}